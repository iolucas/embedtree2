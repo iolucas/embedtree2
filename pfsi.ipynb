{
 "cells": [
  {
   "cell_type": "markdown",
   "metadata": {},
   "source": [
    "# Probabilistic Fuzzy Set Inference\n",
    "##### Lucas V. Oliveira"
   ]
  },
  {
   "cell_type": "code",
   "execution_count": 1,
   "metadata": {},
   "outputs": [],
   "source": [
    "from pfsi import PFSI, FuzzySet"
   ]
  },
  {
   "cell_type": "code",
   "execution_count": 9,
   "metadata": {},
   "outputs": [],
   "source": [
    "class ContentPrereqs(FuzzySet):\n",
    "    def __init__(self, lc):\n",
    "        self.title = lc.title\n",
    "        self.lc = lc\n",
    "        \n",
    "    def similarity(self, target_content):\n",
    "        assert isinstance(target_content, ContentPrereqs)\n",
    "        if self.title.lower() == target_content.title.lower():\n",
    "            return 1.0\n",
    "        else:\n",
    "            return 0.0"
   ]
  },
  {
   "cell_type": "code",
   "execution_count": 2,
   "metadata": {
    "collapsed": true
   },
   "outputs": [],
   "source": [
    "from learndata import LearnContents\n",
    "ld = LearnContents()"
   ]
  },
  {
   "cell_type": "code",
   "execution_count": null,
   "metadata": {
    "collapsed": true
   },
   "outputs": [],
   "source": [
    "#Topics pre requisites will be every topic that is cited before it \n",
    "\n",
    "#We may take diferent approachs for diferent subsections levels, \n",
    "#like place as prereq every subsection level above the current target \n",
    "#or only the the subsections of the same level\n",
    "\n",
    "#Iterate thru every learn content\n",
    "for lc in ld:\n",
    "    #Work only with top contents (with no parents)\n",
    "    if not lc.parent == None:\n",
    "        continue\n",
    "    \n",
    "    #Lists to register the current course contents that already happend in subsecs degrees 1 and 2\n",
    "    course_subsec1_contents = list() \n",
    "    course_subsec2_contents = list()    \n",
    "    \n",
    "    for subsec1_content in lc: #Iterate thru content\n",
    "        #We may option to not include excluded topics later (but best way is to apply probabilistic models to it too)\n",
    "        subsec1_content.prereqs = list(course_subsec1_contents) #For the current, append everything before    \n",
    "        course_subsec1_contents.append(subsec1_content)\n",
    "\n",
    "        #Analog to sub sec 2\n",
    "        for subsec2_content in subsec1_content:\n",
    "            subsec2_content.prereqs = list(course_subsec2_contents)\n",
    "            course_subsec2_contents.append(subsec2_content)"
   ]
  },
  {
   "cell_type": "code",
   "execution_count": 7,
   "metadata": {},
   "outputs": [],
   "source": []
  },
  {
   "cell_type": "code",
   "execution_count": 6,
   "metadata": {},
   "outputs": [
    {
     "data": {
      "text/plain": [
       "['__add__',\n",
       " '__class__',\n",
       " '__contains__',\n",
       " '__delattr__',\n",
       " '__delitem__',\n",
       " '__dict__',\n",
       " '__dir__',\n",
       " '__doc__',\n",
       " '__eq__',\n",
       " '__format__',\n",
       " '__ge__',\n",
       " '__getattribute__',\n",
       " '__getitem__',\n",
       " '__gt__',\n",
       " '__hash__',\n",
       " '__iadd__',\n",
       " '__imul__',\n",
       " '__init__',\n",
       " '__iter__',\n",
       " '__le__',\n",
       " '__len__',\n",
       " '__lt__',\n",
       " '__module__',\n",
       " '__mul__',\n",
       " '__ne__',\n",
       " '__new__',\n",
       " '__reduce__',\n",
       " '__reduce_ex__',\n",
       " '__repr__',\n",
       " '__reversed__',\n",
       " '__rmul__',\n",
       " '__setattr__',\n",
       " '__setitem__',\n",
       " '__sizeof__',\n",
       " '__str__',\n",
       " '__subclasshook__',\n",
       " '__weakref__',\n",
       " '_str_version',\n",
       " 'append',\n",
       " 'clear',\n",
       " 'content_as_text',\n",
       " 'copy',\n",
       " 'count',\n",
       " 'extend',\n",
       " 'index',\n",
       " 'insert',\n",
       " 'parent',\n",
       " 'pop',\n",
       " 'remove',\n",
       " 'reverse',\n",
       " 'sort',\n",
       " 'title']"
      ]
     },
     "execution_count": 6,
     "metadata": {},
     "output_type": "execute_result"
    }
   ],
   "source": [
    "dir(ld[0])"
   ]
  },
  {
   "cell_type": "code",
   "execution_count": null,
   "metadata": {
    "collapsed": true
   },
   "outputs": [],
   "source": []
  }
 ],
 "metadata": {
  "kernelspec": {
   "display_name": "Python 3",
   "language": "python",
   "name": "python3"
  },
  "language_info": {
   "codemirror_mode": {
    "name": "ipython",
    "version": 3
   },
   "file_extension": ".py",
   "mimetype": "text/x-python",
   "name": "python",
   "nbconvert_exporter": "python",
   "pygments_lexer": "ipython3",
   "version": "3.5.3"
  }
 },
 "nbformat": 4,
 "nbformat_minor": 2
}
