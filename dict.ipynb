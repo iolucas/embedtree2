{
 "cells": [
  {
   "cell_type": "markdown",
   "metadata": {
    "collapsed": true
   },
   "source": [
    "from nltk.corpus import wordnet\n",
    "from nltk.corpus import stopwords\n",
    "\n",
    "english_stopwords = stopwords.words(\"english\")"
   ]
  },
  {
   "cell_type": "code",
   "execution_count": 66,
   "metadata": {},
   "outputs": [
    {
     "data": {
      "text/plain": [
       "'instrumentality that combines interrelated interacting artifacts designed to work as a coherent entity'"
      ]
     },
     "execution_count": 66,
     "metadata": {},
     "output_type": "execute_result"
    }
   ],
   "source": [
    "synset = wordnet.synsets(\"system\")[0] \n",
    "synset.definition()"
   ]
  },
  {
   "cell_type": "markdown",
   "metadata": {},
   "source": [
    "'also_sees',\n",
    " 'attributes',\n",
    " 'causes',\n",
    " 'closure',\n",
    " 'common_hypernyms',\n",
    " 'definition',\n",
    " 'entailments',\n",
    " 'examples',\n",
    " 'frame_ids',\n",
    " 'hypernym_distances',\n",
    " 'hypernym_paths',\n",
    " 'hypernyms',\n",
    " 'hyponyms',\n",
    " 'instance_hypernyms',\n",
    " 'instance_hyponyms',\n",
    " 'jcn_similarity',\n",
    " 'lch_similarity',\n",
    " 'lemma_names',\n",
    " 'lemmas',\n",
    " 'lexname',\n",
    " 'lin_similarity',\n",
    " 'lowest_common_hypernyms',\n",
    " 'max_depth',\n",
    " 'member_holonyms',\n",
    " 'member_meronyms',\n",
    " 'min_depth',\n",
    " 'name',\n",
    " 'offset',\n",
    " 'part_holonyms',\n",
    " 'part_meronyms',\n",
    " 'path_similarity',\n",
    " 'pos',\n",
    " 'region_domains',\n",
    " 'res_similarity',\n",
    " 'root_hypernyms',\n",
    " 'shortest_path_distance',\n",
    " 'similar_tos',\n",
    " 'substance_holonyms',\n",
    " 'substance_meronyms',\n",
    " 'topic_domains',\n",
    " 'tree',\n",
    " 'unicode_repr',\n",
    " 'usage_domains',\n",
    " 'verb_groups',\n",
    " 'wup_similarity'"
   ]
  },
  {
   "cell_type": "code",
   "execution_count": 45,
   "metadata": {},
   "outputs": [
    {
     "data": {
      "text/plain": [
       "5"
      ]
     },
     "execution_count": 45,
     "metadata": {},
     "output_type": "execute_result"
    }
   ],
   "source": [
    "synset.min_depth()"
   ]
  },
  {
   "cell_type": "code",
   "execution_count": 1,
   "metadata": {},
   "outputs": [
    {
     "ename": "SyntaxError",
     "evalue": "invalid syntax (<ipython-input-1-e2a46c862cb2>, line 1)",
     "output_type": "error",
     "traceback": [
      "\u001b[1;36m  File \u001b[1;32m\"<ipython-input-1-e2a46c862cb2>\"\u001b[1;36m, line \u001b[1;32m1\u001b[0m\n\u001b[1;33m    MUST ORGANIZE EMBEDTREE2\u001b[0m\n\u001b[1;37m                ^\u001b[0m\n\u001b[1;31mSyntaxError\u001b[0m\u001b[1;31m:\u001b[0m invalid syntax\n"
     ]
    }
   ],
   "source": [
    "MUST ORGANIZE EMBEDTREE2\n",
    "must organize github"
   ]
  },
  {
   "cell_type": "code",
   "execution_count": null,
   "metadata": {
    "collapsed": true
   },
   "outputs": [],
   "source": []
  }
 ],
 "metadata": {
  "kernelspec": {
   "display_name": "Python 3",
   "language": "python",
   "name": "python3"
  },
  "language_info": {
   "codemirror_mode": {
    "name": "ipython",
    "version": 3
   },
   "file_extension": ".py",
   "mimetype": "text/x-python",
   "name": "python",
   "nbconvert_exporter": "python",
   "pygments_lexer": "ipython3",
   "version": "3.5.3"
  }
 },
 "nbformat": 4,
 "nbformat_minor": 2
}
