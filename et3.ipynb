{
 "cells": [
  {
   "cell_type": "code",
   "execution_count": 4,
   "metadata": {},
   "outputs": [
    {
     "name": "stdout",
     "output_type": "stream",
     "text": [
      "Done\n",
      "Aprende Programación con Diagramas de Flujo\n"
     ]
    }
   ],
   "source": [
    "#Load data and test data\n",
    "import os\n",
    "import json\n",
    "\n",
    "udemy_data = list()\n",
    "filenames = os.listdir(\"udemy_data\")\n",
    "for i, f in enumerate(filenames):\n",
    "    course_data = json.load(open(\"udemy_data/\" + f))\n",
    "    udemy_data.append(course_data)\n",
    "    #print(\"Done {}/{}\".format(i+1, len(filenames)))\n",
    "print(\"Done\")\n",
    "print(udemy_data[3000][\"t\"])"
   ]
  },
  {
   "cell_type": "code",
   "execution_count": 62,
   "metadata": {},
   "outputs": [
    {
     "name": "stdout",
     "output_type": "stream",
     "text": [
      "29986\n"
     ]
    }
   ],
   "source": [
    "#Create topics counter and search function\n",
    "from collections import Counter\n",
    "\n",
    "topics_counter = Counter()\n",
    "for course in udemy_data:\n",
    "    #search_list.add(course[\"t\"].lower())\n",
    "    for c in course[\"c\"]:\n",
    "        topics_counter.update([c[\"t\"].lower()])\n",
    "        #for c2 in c[\"c\"]:\n",
    "            #search_list.add(c2[\"t\"].lower())          \n",
    "print(len(topics_counter))\n",
    "\n",
    "def search_topics(term):\n",
    "    term = term.lower()\n",
    "    #Return words that got the term, sorting by most used\n",
    "    results = [topic for topic in topics_counter.keys() if term in topic]\n",
    "    \n",
    "    #return sorted results by count\n",
    "    return sorted(results, key=lambda a: topics_counter[a], reverse=True)"
   ]
  },
  {
   "cell_type": "code",
   "execution_count": 69,
   "metadata": {},
   "outputs": [],
   "source": [
    "#Get topics prereqs and function to get prereqs\n",
    "from collections import Counter, defaultdict\n",
    "\n",
    "topics_prereqs = defaultdict(Counter)\n",
    "for course in udemy_data: #Iterate thru every course\n",
    "    course_contents = list() #List to register the current course contents\n",
    "    for content in course[\"c\"]: #Iterate thru content\n",
    "        #For the current content, append every one that happened before it as pre reqs\n",
    "        topics_prereqs[content[\"t\"].lower()].update(course_contents)\n",
    "        course_contents.append(content[\"t\"].lower())\n",
    "        \n",
    "def get_topic_prereqs(topic):\n",
    "\n",
    "    #subtract occurrences of the target knowledge from the pre reqs candidates\n",
    "    #Must take care with low occurrences contents titles because they will tend to stay at 1, since they happen low times and rarely are cited by other things\n",
    "\n",
    "    prereqs_diff = Counter()\n",
    "    for prereq in topics_prereqs[topic].keys():\n",
    "\n",
    "        #Use get function to avoid modify the prereqs counter dict\n",
    "        prereq_count = topics_prereqs[topic].get(prereq, 0) #Get the degree of need of the prereq in the target\n",
    "        topic_count = topics_prereqs[prereq].get(topic, 0) #Get the degree of need of the target in the prereq, return 0 if not found\n",
    "\n",
    "        prereqs_diff[prereq] = prereq_count - topic_count\n",
    "        \n",
    "    return prereqs_diff.most_common()\n",
    "\n"
   ]
  },
  {
   "cell_type": "code",
   "execution_count": 77,
   "metadata": {},
   "outputs": [
    {
     "name": "stdout",
     "output_type": "stream",
     "text": [
      "('css', 14)\n",
      "('html', 10)\n",
      "('introduction', 3)\n",
      "('css3', 3)\n",
      "('html5', 3)\n",
      "('html 5', 3)\n",
      "('getting started', 2)\n",
      "('css and css3', 2)\n",
      "('css 3', 2)\n",
      "(\"los geht's & html\", 1)\n",
      "('joomla', 1)\n",
      "('definitions', 1)\n",
      "('css3 projects', 1)\n",
      "('the tools of the trade', 1)\n",
      "('html and css', 1)\n",
      "('introduction - get your free unlimited web hosting - html', 1)\n",
      "('boas vindas', 1)\n",
      "('start coding', 1)\n",
      "('php loops', 1)\n",
      "('html basics', 1)\n",
      "('control html elements using javascript', 1)\n",
      "('tools and html', 1)\n",
      "('installation', 1)\n",
      "('collect data: form and input', 1)\n",
      "('css3 - cascading style sheets', 1)\n",
      "('kodlar nasıl çalışır?', 1)\n",
      "('html5 and css3 fundamentals', 1)\n",
      "('creating the visible part', 1)\n",
      "('programlama', 1)\n",
      "('challenge your front-end skills and understanding of float and position', 1)\n",
      "('introduction!', 1)\n",
      "('introduction to the course', 1)\n",
      "('simple node.js application', 1)\n",
      "('preparando-se para o desenvolvimento', 1)\n",
      "('css和css3', 1)\n",
      "(\"los geht's & html5\", 1)\n",
      "('getting started & html', 1)\n",
      "('html and html5', 1)\n",
      "('css: cascading style sheet', 1)\n",
      "('comenzando', 1)\n",
      "('php script, retrieving input and sending emails', 1)\n",
      "('repl', 1)\n",
      "(\"let's learn html\", 1)\n",
      "('bootstrap - criando sites responsivos', 1)\n",
      "('vital difference between block and inline tags', 1)\n",
      "('url, external css and comments', 1)\n",
      "('html5 audio y video', 1)\n",
      "('intoduction', 1)\n",
      "('introduction to programming for marketers', 1)\n",
      "('text-align and its challenges and applications', 1)\n",
      "('un mundo post-pc', 1)\n",
      "('welcome to business', 1)\n",
      "('html y html5', 1)\n",
      "('float and its challenges, solutions and applications', 1)\n",
      "('css y css3', 1)\n",
      "('responsive and retina-ready web page design', 1)\n",
      "('the programming languages', 1)\n",
      "('çalışma ortamı ve kullanacagımız diller hakkında teorik bilgi', 1)\n",
      "('css intermediário', 1)\n",
      "('başlarken', 1)\n",
      "('validate user input on client side', 1)\n",
      "('課程介紹', 1)\n",
      "('coding html', 1)\n",
      "(\"let's begin\", 1)\n",
      "('fontawesome: an awesome icon image solution', 1)\n",
      "('web development', 1)\n",
      "('getting started as a web developer', 1)\n",
      "('css and css3 projects', 1)\n",
      "('introducción', 1)\n",
      "('css3 code-alongs', 1)\n",
      "('professional project: mathematics tutorials website (html & css)', 1)\n",
      "('html5 projects', 1)\n",
      "('giriş', 1)\n",
      "('margin and its bugs, challenges, solutions and applications', 1)\n",
      "('php /mysql', 1)\n",
      "('the thought process', 1)\n",
      "('html projects', 1)\n",
      "('position and its challenges, solutions and applications', 1)\n",
      "('不要忘了拿走－我們送給您的禮物！', 1)\n",
      "('introduction and html', 1)\n",
      "('apply what you have learnt and create real-life projects', 1)\n",
      "('el entorno de trabajo', 1)\n",
      "('basic web development', 1)\n",
      "('image display and things you should pay attention to', 1)\n",
      "('hyperlink and anchor', 1)\n",
      "('front-end introduction and preparations', 1)\n",
      "('bootstrap', -3)\n",
      "('jquery', -15)\n"
     ]
    }
   ],
   "source": [
    "topic_prereqs = get_topic_prereqs(\"javascript\")\n",
    "#topic_prereqs = topics_prereqs[\"javascript\"].most_common()\n",
    "print(\"\\n\".join(map(str, topic_prereqs)))"
   ]
  },
  {
   "cell_type": "code",
   "execution_count": null,
   "metadata": {
    "collapsed": true
   },
   "outputs": [],
   "source": []
  }
 ],
 "metadata": {
  "kernelspec": {
   "display_name": "Python 3",
   "language": "python",
   "name": "python3"
  },
  "language_info": {
   "codemirror_mode": {
    "name": "ipython",
    "version": 3
   },
   "file_extension": ".py",
   "mimetype": "text/x-python",
   "name": "python",
   "nbconvert_exporter": "python",
   "pygments_lexer": "ipython3",
   "version": "3.5.3"
  }
 },
 "nbformat": 4,
 "nbformat_minor": 2
}
