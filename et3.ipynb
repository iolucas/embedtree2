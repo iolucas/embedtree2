{
 "cells": [
  {
   "cell_type": "code",
   "execution_count": 1,
   "metadata": {},
   "outputs": [
    {
     "name": "stdout",
     "output_type": "stream",
     "text": [
      "Done\n",
      "Aprende Programación con Diagramas de Flujo\n"
     ]
    }
   ],
   "source": [
    "#Load data and test data\n",
    "import os\n",
    "import json\n",
    "\n",
    "udemy_data = list()\n",
    "filenames = os.listdir(\"udemy_data\")\n",
    "for i, f in enumerate(filenames):\n",
    "    course_data = json.load(open(\"udemy_data/\" + f))\n",
    "    udemy_data.append(course_data)\n",
    "    #print(\"Done {}/{}\".format(i+1, len(filenames)))\n",
    "print(\"Done\")\n",
    "print(udemy_data[3000][\"t\"])"
   ]
  },
  {
   "cell_type": "code",
   "execution_count": 2,
   "metadata": {},
   "outputs": [
    {
     "name": "stdout",
     "output_type": "stream",
     "text": [
      "29986\n"
     ]
    }
   ],
   "source": [
    "#Create topics counter and search function\n",
    "from collections import Counter\n",
    "\n",
    "topics_counter = Counter()\n",
    "for course in udemy_data:\n",
    "    #search_list.add(course[\"t\"].lower())\n",
    "    for c in course[\"c\"]:\n",
    "        topics_counter.update([c[\"t\"].lower()])\n",
    "        #for c2 in c[\"c\"]:\n",
    "            #search_list.add(c2[\"t\"].lower())          \n",
    "print(len(topics_counter))\n",
    "\n",
    "def search_topics(term):\n",
    "    term = term.lower()\n",
    "    #Return words that got the term, sorting by most used\n",
    "    results = [topic for topic in topics_counter.keys() if term in topic]\n",
    "    \n",
    "    #return sorted results by count\n",
    "    return sorted(results, key=lambda a: topics_counter[a], reverse=True)"
   ]
  },
  {
   "cell_type": "code",
   "execution_count": 3,
   "metadata": {
    "collapsed": true
   },
   "outputs": [],
   "source": [
    "#Get topics prereqs and function to get prereqs\n",
    "from collections import Counter, defaultdict\n",
    "\n",
    "topics_prereqs = defaultdict(Counter)\n",
    "for course in udemy_data: #Iterate thru every course\n",
    "    course_contents = list() #List to register the current course contents\n",
    "    for content in course[\"c\"]: #Iterate thru content\n",
    "        #For the current content, append every one that happened before it as pre reqs\n",
    "        topics_prereqs[content[\"t\"].lower()].update(course_contents)\n",
    "        course_contents.append(content[\"t\"].lower())\n",
    "        \n",
    "def get_topic_prereqs(topic):\n",
    "\n",
    "    #subtract occurrences of the target knowledge from the pre reqs candidates\n",
    "    #Must take care with low occurrences contents titles because they will tend to stay at 1, since they happen low times and rarely are cited by other things\n",
    "\n",
    "    prereqs_diff = Counter()\n",
    "    for prereq in topics_prereqs[topic].keys():\n",
    "\n",
    "        #Use get function to avoid modify the prereqs counter dict\n",
    "        prereq_count = topics_prereqs[topic].get(prereq, 0) #Get the degree of need of the prereq in the target\n",
    "        topic_count = topics_prereqs[prereq].get(topic, 0) #Get the degree of need of the target in the prereq, return 0 if not found\n",
    "\n",
    "        prereqs_diff[prereq] = prereq_count - topic_count\n",
    "        \n",
    "    return prereqs_diff.most_common()\n",
    "\n"
   ]
  },
  {
   "cell_type": "code",
   "execution_count": 89,
   "metadata": {},
   "outputs": [
    {
     "data": {
      "text/plain": [
       "['c# basics',\n",
       " 'apostila - c# e orientação a objetos',\n",
       " 'overview of c#',\n",
       " 'classes in c#',\n",
       " 'create course project & c# refresher + c# 6.0 new features',\n",
       " 'learn c# in 1 hour',\n",
       " 'nail c# in 5 lectures',\n",
       " 'asp.net ve c# ile fonksiyonları kodluyoruz',\n",
       " 'oops concepts in c# - classes and objects',\n",
       " 'c# input and output',\n",
       " 'additional c# control flow constructs',\n",
       " 'c# dil özellikleri',\n",
       " 'python in c# (c# dynamic language support)',\n",
       " 'c# first project',\n",
       " 'introducción a la programación mecánicas de videojuegos con c#',\n",
       " 'conditional statements or selection statements in c#',\n",
       " 'a starting primer for the c# programming language',\n",
       " 'new features in c# 6',\n",
       " 'c# : sınıf ,metod ve özellikler ile çalışmak',\n",
       " 'newbie: c# primer',\n",
       " 'features of c# 6.0',\n",
       " 'the c# language - grasp the basics (optional)',\n",
       " 'c#.net language basics',\n",
       " 'tricks and hacks in c# and .net',\n",
       " 'an introduction to the c# language',\n",
       " 'loops in c#',\n",
       " 'introducción a la programación c#',\n",
       " 'learn c# programming : decisions and loops',\n",
       " 'introducción a c# y .net',\n",
       " 'création de prefab piége en c#',\n",
       " 'learn c# programming : keywords',\n",
       " 'les bases du c# avec unity',\n",
       " 'introdução ao visual studio e c#',\n",
       " 'learn c# programming : access specifiers and types',\n",
       " 'introduction to c# and .net framework',\n",
       " \"learn c# programming : exception handling,  classes and api's\",\n",
       " 'arrays in c#',\n",
       " 'introduction to c# and vs - مقدمة في لغة السي شارب والفجول ستديو',\n",
       " 'introduction to our programming language - c#',\n",
       " 'go home - programming in c#',\n",
       " 'learn c# programming : finals',\n",
       " 'atelier pratique réalité virtuelle avec unity 5 & c#',\n",
       " 'c# grundlagen',\n",
       " 'من الصفر c# تعلم اساسيات برمجة الالعاب بلغة',\n",
       " 'c#',\n",
       " 'learn c# programming : introduction',\n",
       " 'learn c# programming : the wrap up',\n",
       " 'start programming in c# and sqlite by creating one phonebook application',\n",
       " 'c# latest features',\n",
       " 'c# - a first look',\n",
       " '[new in november 2016] c# tutorial - properties and methods',\n",
       " 'functions in c#',\n",
       " 'c# building blocks - data types and variables',\n",
       " 'introduction to c#',\n",
       " 'intro to c# 7.0',\n",
       " 'the basics of c#',\n",
       " 'c# : koşullu i̇fadeler ve döngüler',\n",
       " 'c# : değişkenler - operatörler',\n",
       " 'basic programming in c#',\n",
       " 'introducción a c# con unity 5',\n",
       " 'inicie aqui o curso asp.net mvc 3 razor com c#',\n",
       " 'c# through console apps.',\n",
       " '2 - c# egitimi uygulama örnek',\n",
       " 'programmer avec c#',\n",
       " \"what's new with c# 6?\",\n",
       " 'new section - socket programming in c# for beginners',\n",
       " 'why choose c# and visual studio community',\n",
       " 'learn to code using c# (optional - for complete beginners only!)',\n",
       " 'quarto módulo - revisão c#',\n",
       " 'c# : diziler ile çalışmak',\n",
       " 'advance oops concepts in c# - inheritance and polymorphism',\n",
       " 'c# advanced topics',\n",
       " 'new and cool c# language features introduced in version 6.0',\n",
       " 'fundamentos de c#',\n",
       " 'building a mortgage calculator with wpf and c#',\n",
       " 'get started with unity5 and c#',\n",
       " 'اساسيات البرمجة c#',\n",
       " 'deine erste c# anwendung und übersicht zu visual studio',\n",
       " 'doing slightly more sophisticated c#',\n",
       " 'c# geliştirme ortamı',\n",
       " 'créer des logiciels avec c#',\n",
       " \"let's learn c#\",\n",
       " 'iteration statements in c#',\n",
       " 'c# in unity',\n",
       " \"c# ve .net'e giriş\",\n",
       " 'start learning c#',\n",
       " 'essential c# language features every developer should know',\n",
       " 'visual studio und c#',\n",
       " 'learn c# programming : arrays and collections',\n",
       " 'previous versions of c#',\n",
       " 'using free c# libraries from github',\n",
       " 'learning the fundamentals of programming in c#',\n",
       " 'in 30 minuten: erstelle deine erste c#-anwendung und lerne visual studio kennen',\n",
       " 'learn c# programming : boxing, unboxing, type conversion and operators',\n",
       " 'your first c# program',\n",
       " 'c# fundamentals',\n",
       " 'c#で開発できるようにしよう',\n",
       " 'applying c# to unity scripting',\n",
       " 'c# scripting crash course for complete beginners']"
      ]
     },
     "execution_count": 89,
     "metadata": {},
     "output_type": "execute_result"
    }
   ],
   "source": [
    "search_topics(\"c#\")"
   ]
  },
  {
   "cell_type": "code",
   "execution_count": 5,
   "metadata": {},
   "outputs": [
    {
     "name": "stdout",
     "output_type": "stream",
     "text": [
      "('introduction', 15)\n",
      "('conditional statements', 10)\n",
      "('getting started', 8)\n",
      "('operators', 6)\n",
      "('variables', 6)\n",
      "('basics', 4)\n",
      "('conditionals', 3)\n",
      "('numbers', 3)\n",
      "('variables and data types', 3)\n",
      "('if statements', 2)\n",
      "('conditions', 2)\n",
      "('variables and types', 2)\n",
      "('setup', 2)\n",
      "('welcome', 2)\n",
      "('introduction to javascript', 2)\n",
      "('python programming introduction', 2)\n",
      "('advanced functions', 2)\n",
      "('operators in javascript', 2)\n",
      "('index', 2)\n",
      "('decision making in python', 2)\n",
      "('decision making', 2)\n",
      "('control flow', 1)\n",
      "('sass overview', 1)\n",
      "('setting up python', 1)\n",
      "('if-else conditions', 1)\n",
      "('media queries', 1)\n",
      "('conditional statments', 1)\n",
      "('making decisions  — if-elif-else', 1)\n",
      "('bonus 1: useful shortcus', 1)\n",
      "('types, variables, user input and flow control statements', 1)\n",
      "('basics of javascript', 1)\n",
      "('numbers and variables in python', 1)\n",
      "('bringing javascript into action!', 1)\n",
      "('mixins', 1)\n",
      "('operators in c++', 1)\n",
      "('general syntax', 1)\n",
      "('perl basics', 1)\n",
      "('more operations', 1)\n",
      "('primitive data types,operators,strings,numbers, conditionals, loops & arrays', 1)\n",
      "('your first iphone app', 1)\n",
      "('building blocks', 1)\n",
      "('debugging javascript', 1)\n",
      "('welcome to class!', 1)\n",
      "('our first steps', 1)\n",
      "('introduction - welcome to the complete sass & scss course!', 1)\n",
      "('introduction to shell scripting', 1)\n",
      "('variables, objects and values', 1)\n",
      "('editor', 1)\n",
      "('types and variables', 1)\n",
      "('conditionals and flow control', 1)\n",
      "('input', 1)\n",
      "('if / else statement + switch statement', 1)\n",
      "('variables and constants', 1)\n",
      "('decisiones (if y else)', 1)\n",
      "('introduction to the course', 1)\n",
      "('what is javascript?', 1)\n",
      "('introduction to standard types in python', 1)\n",
      "('setting up the environment', 1)\n",
      "('input/output', 1)\n",
      "('variables and identifiers in\\xa0python', 1)\n",
      "('imports', 1)\n",
      "('your first php scripts', 1)\n",
      "('project 1 - grade calc bot', 1)\n",
      "('javascript from ground to a step closer!', 1)\n",
      "('partials', 1)\n",
      "('switches', 1)\n",
      "('the fundamentals of java programming', 1)\n",
      "('switch case', 1)\n",
      "('getting started with haxe', 1)\n",
      "('first steps in java', 1)\n",
      "('sets', 1)\n",
      "('getting started with javascript', 1)\n",
      "('working with strings', 1)\n",
      "('making it visual', 1)\n",
      "('introduction to python.', 1)\n",
      "('control flows', 1)\n",
      "('strings and ints', 1)\n",
      "('return values', 1)\n",
      "('javascript basics', 1)\n",
      "('decisions', 1)\n",
      "('object orientation', 1)\n",
      "('lists, for loops, tuples, and dictionaries', 1)\n",
      "('getting to know your (programming) environment', 1)\n",
      "('listas y tuplas', 1)\n",
      "('introduction & compiler', 1)\n",
      "('basics of c++', 1)\n",
      "('start coding with python', 1)\n",
      "('user input', 1)\n",
      "('if else conditional statements', 1)\n",
      "('variables and parameters', 1)\n",
      "('basic functions in javascript', 1)\n",
      "('unique characters', 1)\n",
      "('variables y entrada de datos', 1)\n",
      "('variables continued', 1)\n",
      "('basic operations in python', 1)\n",
      "('introduction and installation', 1)\n",
      "('variables in javascript', 1)\n",
      "('input/output + variables', 1)\n",
      "('decision', 1)\n",
      "('branching', 1)\n",
      "('input() function and type casting', 1)\n",
      "('conditional directives', 1)\n",
      "('turtle graphics in python', 1)\n",
      "('course introduction', 1)\n",
      "('introducción a python', 1)\n",
      "('built-in objects', 1)\n",
      "('intro and getting started', 1)\n",
      "('fundamentals', 1)\n",
      "('conditional tests and operators', 1)\n",
      "('functions and methods', 1)\n",
      "('introduction to javasript basics', 1)\n",
      "('comments and operators', 1)\n",
      "('comments and print', 1)\n",
      "('introduction to python', 1)\n",
      "('booleans and if statements', 1)\n",
      "('introduction to programming', 1)\n",
      "('basic javascript', 1)\n",
      "('an introduction to python', 1)\n",
      "(\"javascript and it's use for web applications\", 1)\n",
      "('introduction and basic of java', 1)\n",
      "('python basics', 1)\n",
      "('control statements', 1)\n",
      "('strings and print', 1)\n",
      "('statements', 1)\n",
      "('menubar and menulist', 0)\n",
      "('ruby programming language', 0)\n",
      "('objects', 0)\n",
      "('message box and extras', 0)\n",
      "('gui programming', 0)\n",
      "('loops', 0)\n",
      "('files', 0)\n",
      "('check buttons', 0)\n",
      "('buttons and text box', 0)\n",
      "('lists', 0)\n",
      "('functions and modules', 0)\n",
      "('math', 0)\n",
      "('dictionaries', 0)\n",
      "('radio buttons', 0)\n",
      "('list, tuple and dictionary', 0)\n",
      "('lists and functions', 0)\n",
      "('inheritance', 0)\n",
      "('arrays and collections', 0)\n",
      "('oop in python : object oriented concepts', 0)\n",
      "('text box using entry class', 0)\n",
      "('time, date and calendar modules', 0)\n",
      "('working with files', -1)\n",
      "('strings', -2)\n",
      "('arrays', -2)\n",
      "('functions', -10)\n"
     ]
    }
   ],
   "source": [
    "topic_prereqs = get_topic_prereqs(\"loops\")\n",
    "#topic_prereqs = topics_prereqs[\"javascript\"].most_common()\n",
    "print(\"\\n\".join(map(str, topic_prereqs)))"
   ]
  },
  {
   "cell_type": "code",
   "execution_count": 6,
   "metadata": {
    "collapsed": true
   },
   "outputs": [],
   "source": [
    "#Create function to get the prereqs that occurs above a certain cut value\n",
    "def get_cutted_prereq(topic, cut_value=0):\n",
    "    #get prereqs for the topic\n",
    "    topic_prereqs = get_topic_prereqs(topic)\n",
    "    cutted_prereqs = [pr for pr, count in topic_prereqs if count > cut_value]\n",
    "    return cutted_prereqs\n",
    "\n",
    "#Create function to get the entire prereq flow recursively\n",
    "def get_prereq_flow_members(topic,cut_value, prereq_dict):\n",
    "    topic_prereqs = get_cutted_prereq(topic, cut_value)\n",
    "    prereq_dict[topic] = topic_prereqs\n",
    "    \n",
    "    for pr in topic_prereqs:        \n",
    "        if pr not in prereq_dict:\n",
    "            prereq_dict = get_prereq_flow_members(pr, cut_value, prereq_dict)\n",
    "        \n",
    "    return prereq_dict    "
   ]
  },
  {
   "cell_type": "code",
   "execution_count": 58,
   "metadata": {},
   "outputs": [],
   "source": [
    "#Create function to create the spanning tree of prereq flows, that is the optimal \"learning path\"\n",
    "#With optimal we mean learn only what is necessary and on the time that is necessary\n",
    "import networkx as nx\n",
    "\n",
    "def get_topic_prereq_flow_graph(topic, cut_value=0):\n",
    "    prereq_flow_members = get_prereq_flow_members(topic, cut_value, dict())\n",
    "\n",
    "    #MUST CHECK IF THE PROCESS TIL HERE ALREADY AVOID CREATION OF CIRCLES\n",
    "    flow_graph = nx.DiGraph()\n",
    "    \n",
    "    for source, targets in prereq_flow_members.items():\n",
    "        for target in targets:\n",
    "            flow_graph.add_edge(source, target)\n",
    "            \n",
    "    return flow_graph  \n",
    "    \n",
    "    \n",
    "def get_optimal_topic_prereq_flow_graph(topic, cut_value=0):\n",
    "    #we treat every branch as diferent path to learn something,\n",
    "    #But if we find some of the branchs inside other branch, we may remove it\n",
    "    #In order to have a more clean visualization\n",
    "    \n",
    "    #The data origin naturally avoid parallel needing (MUST CHECK THIS)\n",
    "    #MUST FIND A WAY TO DETECT TWO PARALLEL NEEDING AND TWO PATHS TO THE SAME THING\n",
    "    #this is parallel needing since we take everything before and each thing we add as a need\n",
    "    \n",
    "    flow_graph = get_topic_prereq_flow_graph(topic, cut_value)\n",
    "    optimal_flow_graph = nx.Edmonds(flow_graph)\n",
    "    return optimal_flow_graph\n"
   ]
  },
  {
   "cell_type": "code",
   "execution_count": 141,
   "metadata": {
    "collapsed": true
   },
   "outputs": [],
   "source": [
    "from tabulate import tabulate\n",
    "\n",
    "def print_data(headers, data_list):\n",
    "    \"\"\"Function to print data tabulated \"\"\"\n",
    "    return print(tabulate(data_list, headers=headers))\n",
    "\n",
    "def print_optimal_topic_prereq_flow(topic, cut_value=0):\n",
    "    prereq_flow_members = get_prereq_flow_members(topic, cut_value, dict())\n",
    "    \n",
    "    #1. Construct graph\n",
    "    flow_graph = nx.DiGraph()\n",
    "    for source, targets in prereq_flow_members.items():\n",
    "        for target in targets:\n",
    "            flow_graph.add_edge(source, target)\n",
    "    \n",
    "    #2. Get node levels\n",
    "    node_levels = dict()\n",
    "    \n",
    "    def get_node_level(node):\n",
    "        node_level = 0\n",
    "        for target in flow_graph[node].keys():\n",
    "            target_level = get_node_level(target)\n",
    "            node_level = max(target_level+1, node_level)\n",
    "        return node_level\n",
    "    \n",
    "    for n in flow_graph.nodes():\n",
    "        node_levels[n] = get_node_level(n)\n",
    "        \n",
    "    #3. Create print table\n",
    "    print_tables = defaultdict(list)\n",
    "    for node, level in node_levels.items():\n",
    "        print_tables[level].append(node)\n",
    "        \n",
    "    #4. Print topics prereq flow\n",
    "    print(tabulate(print_tables))\n",
    "        \n",
    "    return flow_graph\n",
    "    "
   ]
  },
  {
   "cell_type": "code",
   "execution_count": 164,
   "metadata": {},
   "outputs": [
    {
     "name": "stdout",
     "output_type": "stream",
     "text": [
      "--------------------------  ---------------  ---------  ----------------------  -----\n",
      "introduction to javascript  basics           operators  conditional statements  loops\n",
      "welcome                     variables\n",
      "numbers                     getting started\n",
      "conditionals\n",
      "introduction to the course\n",
      "controlling program flow\n",
      "variables and data types\n",
      "course introduction\n",
      "introduction\n",
      "intro\n",
      "--------------------------  ---------------  ---------  ----------------------  -----\n"
     ]
    },
    {
     "data": {
      "text/plain": [
       "[('basics', 'introduction'),\n",
       " ('conditional statements', 'operators'),\n",
       " ('conditional statements', 'introduction'),\n",
       " ('conditional statements', 'getting started'),\n",
       " ('conditional statements', 'introduction to javascript'),\n",
       " ('variables', 'introduction'),\n",
       " ('variables', 'course introduction'),\n",
       " ('operators', 'controlling program flow'),\n",
       " ('operators', 'introduction'),\n",
       " ('operators', 'basics'),\n",
       " ('operators', 'variables'),\n",
       " ('operators', 'introduction to the course'),\n",
       " ('loops', 'basics'),\n",
       " ('loops', 'conditional statements'),\n",
       " ('loops', 'variables'),\n",
       " ('loops', 'operators'),\n",
       " ('loops', 'introduction'),\n",
       " ('loops', 'numbers'),\n",
       " ('loops', 'conditionals'),\n",
       " ('loops', 'getting started'),\n",
       " ('loops', 'variables and data types'),\n",
       " ('getting started', 'introduction'),\n",
       " ('getting started', 'introduction to the course'),\n",
       " ('getting started', 'welcome'),\n",
       " ('getting started', 'intro'),\n",
       " ('getting started', 'course introduction')]"
      ]
     },
     "execution_count": 164,
     "metadata": {},
     "output_type": "execute_result"
    }
   ],
   "source": [
    "flow_graph = print_optimal_topic_prereq_flow(\"loops\", 2)\n",
    "#print(flow_graph.edges())\n",
    "#flow_graph = print_optimal_topic_prereq_flow(\"jquery\", 7)\n",
    "flow_graph.edges()\n",
    "keep on it!!"
   ]
  },
  {
   "cell_type": "code",
   "execution_count": 34,
   "metadata": {},
   "outputs": [
    {
     "data": {
      "text/plain": [
       "{'course introduction': [],\n",
       " 'css': ['html', 'introduction', 'getting started'],\n",
       " 'getting started': ['introduction',\n",
       "  'course introduction',\n",
       "  'intro',\n",
       "  'welcome',\n",
       "  'introduction to the course'],\n",
       " 'html': ['introduction', 'preparation', 'getting started'],\n",
       " 'intro': [],\n",
       " 'introduction': [],\n",
       " 'introduction to the course': [],\n",
       " 'preparation': [],\n",
       " 'welcome': []}"
      ]
     },
     "execution_count": 34,
     "metadata": {},
     "output_type": "execute_result"
    }
   ],
   "source": [
    "get_prereq_flow_members(\"css\", 2, dict())"
   ]
  },
  {
   "cell_type": "code",
   "execution_count": 31,
   "metadata": {},
   "outputs": [
    {
     "name": "stdout",
     "output_type": "stream",
     "text": [
      "[('html', 'introduction'), ('css', 'html'), ('getting started', 'introduction')]\n",
      "[('html', 'introduction'), ('html', 'preparation'), ('html', 'getting started'), ('css', 'html'), ('css', 'introduction'), ('css', 'getting started'), ('getting started', 'introduction'), ('getting started', 'course introduction'), ('getting started', 'intro'), ('getting started', 'welcome'), ('getting started', 'introduction to the course')]\n"
     ]
    }
   ],
   "source": [
    "get_optimal_topic_prereq_flow(\"css\", 2)"
   ]
  },
  {
   "cell_type": "code",
   "execution_count": 32,
   "metadata": {},
   "outputs": [
    {
     "data": {
      "text/plain": [
       "[('html', 'introduction'),\n",
       " ('html', 'getting started'),\n",
       " ('html', 'preparation'),\n",
       " ('css', 'html'),\n",
       " ('css', 'introduction'),\n",
       " ('css', 'getting started'),\n",
       " ('getting started', 'introduction'),\n",
       " ('getting started', 'introduction to the course'),\n",
       " ('getting started', 'welcome'),\n",
       " ('getting started', 'intro'),\n",
       " ('getting started', 'course introduction')]"
      ]
     },
     "execution_count": 32,
     "metadata": {},
     "output_type": "execute_result"
    }
   ],
   "source": [
    "flow_graph = get_topic_prereq_flow_graph(\"css\", 2)\n",
    "flow_graph.edges()"
   ]
  },
  {
   "cell_type": "code",
   "execution_count": 110,
   "metadata": {},
   "outputs": [
    {
     "data": {
      "text/plain": [
       "{'course introduction': [],\n",
       " 'css': ['html', 'introduction', 'getting started'],\n",
       " 'getting started': ['introduction',\n",
       "  'course introduction',\n",
       "  'welcome',\n",
       "  'introduction to the course',\n",
       "  'intro'],\n",
       " 'html': ['introduction', 'getting started', 'preparation'],\n",
       " 'intro': [],\n",
       " 'introduction': [],\n",
       " 'introduction to the course': [],\n",
       " 'preparation': [],\n",
       " 'welcome': []}"
      ]
     },
     "execution_count": 110,
     "metadata": {},
     "output_type": "execute_result"
    }
   ],
   "source": [
    "get_prereq_flow_members(\"css\", 2, dict())"
   ]
  },
  {
   "cell_type": "code",
   "execution_count": 50,
   "metadata": {},
   "outputs": [
    {
     "data": {
      "text/plain": [
       "['introduction', 'course introduction', 'setup', 'getting started', 'welcome']"
      ]
     },
     "execution_count": 50,
     "metadata": {},
     "output_type": "execute_result"
    }
   ],
   "source": [
    "get_cutted_prereq(\"variables\", 1) "
   ]
  },
  {
   "cell_type": "code",
   "execution_count": null,
   "metadata": {
    "collapsed": true
   },
   "outputs": [],
   "source": []
  }
 ],
 "metadata": {
  "kernelspec": {
   "display_name": "Python 3",
   "language": "python",
   "name": "python3"
  },
  "language_info": {
   "codemirror_mode": {
    "name": "ipython",
    "version": 3
   },
   "file_extension": ".py",
   "mimetype": "text/x-python",
   "name": "python",
   "nbconvert_exporter": "python",
   "pygments_lexer": "ipython3",
   "version": "3.5.3"
  }
 },
 "nbformat": 4,
 "nbformat_minor": 2
}
