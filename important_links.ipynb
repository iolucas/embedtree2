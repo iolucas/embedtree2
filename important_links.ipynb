{
 "cells": [
  {
   "cell_type": "markdown",
   "metadata": {},
   "source": [
    "# Article Important Links\n",
    "Algorithms to atribute article links importance scores "
   ]
  },
  {
   "cell_type": "markdown",
   "metadata": {
    "collapsed": true
   },
   "source": [
    "KEEP WORKING ON THIS FORMALIZATION AND COMPILATION OF TECHNICS TO COMPUTE IMPORTANT LINKS\n",
    "MAYBE EXPERIMENT WIKISYNS BASED ON BACKLINKS\n",
    "EXPERIMENT VARIATIONS OF WIKISYNS \n",
    "COMPUTE WORD IMPORTANCE BY ITS SPREAD IN THE ARTICLE (MAYBE TO THIS IN OTHER NOTEBOOK SINCE THIS ONE IS FOR LINKS)\n",
    "CREATE TREE WITH DICT SYMS\n",
    "\n",
    "YOU COULD HAVE A LINK STRUCTURE BASED ON UNSUPERVISIED MODELS AND NLP BASED ON SUPERVISED MODELS\n",
    "THE LINK STRUCTURE WOULD GIVE A BROAD PATH, MEANING THAT DEEP TRANSVERSAL WOULD MEAN SOMETHING YET, BUT NLP BASED WOULD ONLY BE LOCAL\n",
    "WE COULD USE WIKISYN TO FIND \"POSSIBLE LINKS\" THAT WERE NOT CREATED\n",
    "\n",
    "FOR SUPERVISED WE MAY USE:\n",
    "    NPM DATA\n",
    "    WORDNET (AND OTHERS) DICTIONARIES\n",
    "    SCHOOL AND COURSES CURRICULUMS \n",
    "\n",
    "LINKS PROBABILITIES ARE:\n",
    "    BIDIR PROBS\n",
    "    NUMBER OF LINKS PER PAGE PROB\n",
    "    WORD COUNT BASED PROB\n",
    "    \n",
    "    USE TRELLO TO ORGANIZE EVERTYHING\n",
    "    PLAN NEXT STEPS\n",
    "    MELHOR FEITO DO QUE PERFEITO\n",
    "    \n",
    "    "
   ]
  },
  {
   "cell_type": "code",
   "execution_count": 1,
   "metadata": {
    "collapsed": true
   },
   "outputs": [],
   "source": [
    "from wikipydia import dict_storage, wikidb, parse, wikisyn\n",
    "WikisynDict = wikisyn.WikisynDict\n",
    "from collections import Counter\n",
    "from tabulate import tabulate\n",
    "import re"
   ]
  },
  {
   "cell_type": "code",
   "execution_count": 18,
   "metadata": {
    "collapsed": true
   },
   "outputs": [],
   "source": [
    "def print_data(headers, data_list):\n",
    "    \"\"\"Function to print data tabulated \"\"\"\n",
    "    return print(tabulate(data_list, headers=headers))\n",
    "#print_data(['seedrank', 'pagerank', 'in_degree', 'ufauisfha', 'isfudnifsu'], [[1,2,3,4]])"
   ]
  },
  {
   "cell_type": "code",
   "execution_count": 19,
   "metadata": {
    "collapsed": true
   },
   "outputs": [],
   "source": [
    "wiki_db = wikidb.WikiDb()"
   ]
  },
  {
   "cell_type": "code",
   "execution_count": 20,
   "metadata": {
    "collapsed": true
   },
   "outputs": [],
   "source": [
    "def print_list(iterable):\n",
    "    for item in iterable:\n",
    "        print(item)"
   ]
  },
  {
   "cell_type": "code",
   "execution_count": 32,
   "metadata": {},
   "outputs": [
    {
     "name": "stdout",
     "output_type": "stream",
     "text": [
      "\n",
      "<p><b>MQTT</b><sup class=\"reference\" id=\"cite_ref-1\"><a href=\"#cite_note-1\">[1]</a></sup> (<b>MQ Telemetry Transport</b> or <b>Message Queue Telemetry Transport</b>) is an ISO standard (ISO/IEC PRF 20922)<sup class=\"reference\" id=\"cite_ref-ISO_2-0\"><a href=\"#cite_note-ISO-2\">[2]</a></sup> <a href=\"/wiki/Publish%E2%80%93subscribe_pattern\" title=\"Publish–subscribe pattern\">publish-subscribe</a>-based \"lightweight\" messaging protocol for use on top of the <a class=\"mw-redirect\" href=\"/wiki/TCP/IP\" title=\"TCP/IP\">TCP/IP protocol</a>. It is designed for connections with remote locations where a \"small code footprint\" is required or the network bandwidth is limited. The <a href=\"/wiki/Publish%E2%80%93subscribe_pattern\" title=\"Publish–subscribe pattern\">publish-subscribe messaging pattern</a> requires a <a href=\"/wiki/Message_broker\" title=\"Message broker\">message broker</a>. The <a class=\"mw-redirect\" href=\"/wiki/Broker_(service-oriented_architecture)\" title=\"Broker (service-oriented architecture)\">broker</a> is responsible for distributing <a href=\"/wiki/Messaging_pattern\" title=\"Messaging pattern\">messages</a> to interested clients based on the topic of a message. <a href=\"/wiki/Andy_Stanford-Clark\" title=\"Andy Stanford-Clark\">Andy Stanford-Clark</a> and Arlen Nipper of <a class=\"external text\" href=\"http://www.cirrus-link.com\" rel=\"nofollow\">Cirrus Link Solutions</a> authored the first version of the protocol in 1999.</p>\n",
      "<p>The specification does not specify the meaning of \"small code footprint\" or the meaning of \"limited network bandwidth\". Thus, the protocol's availability for use depends on the context. In 2013, IBM submitted MQTT v3.1 to the <a href=\"/wiki/OASIS_(organization)\" title=\"OASIS (organization)\">OASIS</a> specification body with a charter that ensured only minor changes to the specification could be accepted.<sup class=\"reference\" id=\"cite_ref-3\"><a href=\"#cite_note-3\">[3]</a></sup> MQTT-SN <sup class=\"reference\" id=\"cite_ref-4\"><a href=\"#cite_note-4\">[4]</a></sup> is a variation of the main protocol aimed at embedded devices on non-TCP/IP networks, such as <a href=\"/wiki/ZigBee\" title=\"ZigBee\">ZigBee</a>.</p>\n",
      "<p>Historically, the \"MQ\" in \"MQTT\" came from IBM's MQ Series <a class=\"mw-redirect\" href=\"/wiki/Message_queuing\" title=\"Message queuing\">message queuing</a> product line.<sup class=\"reference\" id=\"cite_ref-5\"><a href=\"#cite_note-5\">[5]</a></sup> However, queuing itself is not required to be supported as a standard feature in all situations.<sup class=\"reference\" id=\"cite_ref-6\"><a href=\"#cite_note-6\">[6]</a></sup></p>\n",
      "<p>Alternative protocols include the <a href=\"/wiki/Advanced_Message_Queuing_Protocol\" title=\"Advanced Message Queuing Protocol\">Advanced Message Queuing Protocol</a>, the IETF <a href=\"/wiki/Constrained_Application_Protocol\" title=\"Constrained Application Protocol\">Constrained Application Protocol</a>,<sup class=\"reference\" id=\"cite_ref-7\"><a href=\"#cite_note-7\">[7]</a></sup> <a href=\"/wiki/XMPP\" title=\"XMPP\">XMPP</a><sup class=\"reference\" id=\"cite_ref-8\"><a href=\"#cite_note-8\">[8]</a></sup><sup class=\"reference\" id=\"cite_ref-9\"><a href=\"#cite_note-9\">[9]</a></sup> and <a href=\"/wiki/Web_Application_Messaging_Protocol\" title=\"Web Application Messaging Protocol\">Web Application Messaging Protocol (WAMP)</a>.</p>\n",
      "<p></p>\n",
      "\n",
      "<p></p>\n",
      "<h2><span class=\"mw-headline\" id=\"MQTT_methods\">MQTT methods</span><span class=\"mw-editsection\"><span class=\"mw-editsection-bracket\">[</span><a href=\"/w/index.php?title=MQTT&amp;action=edit&amp;section=1\" title=\"Edit section: MQTT methods\">edit</a><span class=\"mw-editsection-bracket\">]</span></span></h2>\n",
      "<p>MQTT defines methods (sometimes referred to as <i>verbs</i>) to indicate the desired action to be performed on the identified resource. What this resource represents, whether pre-existing data or data that is generated dynamically, depends on the implementation of the server. Often, the resource corresponds to a file or the output of an executable residing on the server.</p>\n",
      "<dl>\n",
      "<dt>Connect</dt>\n",
      "<dd>Waits for a connection to be established with the server.</dd>\n",
      "</dl>\n",
      "<dl>\n",
      "<dt>Disconnect</dt>\n",
      "<dd>Waits for the MQTT client to finish any work it must do, and for the <a class=\"mw-redirect\" href=\"/wiki/TCP/IP\" title=\"TCP/IP\">TCP/IP</a> session to disconnect.</dd>\n",
      "</dl>\n",
      "<dl>\n",
      "<dt>Subscribe</dt>\n",
      "<dd>Waits for completion of the Subscribe or UnSubscribe method.</dd>\n",
      "</dl>\n",
      "<dl>\n",
      "<dt>UnSubscribe</dt>\n",
      "<dd>Requests the server unsubscribe the client from one or more topics.</dd>\n",
      "</dl>\n",
      "<dl>\n",
      "<dt>Publish</dt>\n",
      "<dd>Returns immediately to the application thread after passing the request to the MQTT client.</dd>\n",
      "</dl>\n",
      "<h2><span class=\"mw-headline\" id=\"Real-world_applications\">Real-world applications</span><span class=\"mw-editsection\"><span class=\"mw-editsection-bracket\">[</span><a href=\"/w/index.php?title=MQTT&amp;action=edit&amp;section=2\" title=\"Edit section: Real-world applications\">edit</a><span class=\"mw-editsection-bracket\">]</span></span></h2>\n",
      "<p>MQTT is designed to support wireless networks with varying levels of latency due to occasional bandwidth constraints or unreliable connections.<sup class=\"reference\" id=\"cite_ref-10\"><a href=\"#cite_note-10\">[10]</a></sup> There are several projects that implement MQTT.</p>\n",
      "<ul>\n",
      "<li><a href=\"/wiki/Facebook_Messenger\" title=\"Facebook Messenger\">Facebook Messenger</a>. Facebook has used aspects of MQTT in Facebook Messenger for <a href=\"/wiki/Online_chat\" title=\"Online chat\">online chat</a>.<sup class=\"reference\" id=\"cite_ref-11\"><a href=\"#cite_note-11\">[11]</a></sup> However, it is unclear how much of MQTT is used or for what.</li>\n",
      "<li><a class=\"external text\" href=\"http://www.irse.org/knowledge/publicdocuments/3.09%20Wood%20-%20Message%20broker%20technology%20for%20flexible%20signalling%20control.pdf\" rel=\"nofollow\">IECC Scalable</a> DeltaRail's latest version of their IECC Signaling Control System uses MQTT for communications within the various parts of the system and other components of the signaling system. It provides the underlying communications framework for a system that is compliant with the CENELEC standards for safety-critical communications.</li>\n",
      "<li>The <a href=\"/wiki/EVRYTHNG\" title=\"EVRYTHNG\">EVRYTHNG</a> IoT platform uses MQTT as an <a href=\"/wiki/Machine_to_machine\" title=\"Machine to machine\">M2M</a> protocol for millions of connected products.</li>\n",
      "<li>On October 8, 2015, <a href=\"/wiki/Amazon_Web_Services\" title=\"Amazon Web Services\">Amazon Web Services</a> announced Amazon IoT based on MQTT.<sup class=\"reference\" id=\"cite_ref-12\"><a href=\"#cite_note-12\">[12]</a></sup></li>\n",
      "<li>The <a href=\"/wiki/Open_Geospatial_Consortium\" title=\"Open Geospatial Consortium\">Open Geospatial Consortium</a> <a href=\"/wiki/SensorThings_API\" title=\"SensorThings API\">SensorThings API</a> standard specification has a MQTT extension in the standard as an additional message protocol binding. It was demonstrated in a US Department of Homeland Security IoT Pilot.<sup class=\"reference\" id=\"cite_ref-13\"><a href=\"#cite_note-13\">[13]</a></sup></li>\n",
      "<li>The <a href=\"/wiki/OpenStack\" title=\"OpenStack\">OpenStack</a> Upstream Infrastructure's services are connected by an MQTT unified message bus.<sup class=\"reference\" id=\"cite_ref-14\"><a href=\"#cite_note-14\">[14]</a></sup></li>\n",
      "<li>In 2015, <a class=\"mw-redirect\" href=\"/wiki/Adafruit\" title=\"Adafruit\">Adafruit</a> launched a free MQTT cloud service for IoT experimenters called <a class=\"external text\" href=\"https://learn.adafruit.com/adafruit-io\" rel=\"nofollow\">Adafruit IO</a>. <sup class=\"reference\" id=\"cite_ref-15\"><a href=\"#cite_note-15\">[15]</a></sup></li>\n",
      "</ul>\n",
      "<h2><span class=\"mw-headline\" id=\"References\">References</span><span class=\"mw-editsection\"><span class=\"mw-editsection-bracket\">[</span><a href=\"/w/index.php?title=MQTT&amp;action=edit&amp;section=3\" title=\"Edit section: References\">edit</a><span class=\"mw-editsection-bracket\">]</span></span></h2>\n",
      "<div class=\"reflist columns references-column-width\" style=\"-moz-column-width: 30em; -webkit-column-width: 30em; column-width: 30em; list-style-type: decimal;\">\n",
      "<ol class=\"references\">\n",
      "<li id=\"cite_note-1\"><span class=\"mw-cite-backlink\"><b><a href=\"#cite_ref-1\">^</a></b></span> <span class=\"reference-text\"><a class=\"external text\" href=\"http://docs.oasis-open.org/mqtt/mqtt/v3.1.1/mqtt-v3.1.1.html\" rel=\"nofollow\">MQTT 3.1.1 specification</a></span></li>\n",
      "<li id=\"cite_note-ISO-2\"><span class=\"mw-cite-backlink\"><b><a href=\"#cite_ref-ISO_2-0\">^</a></b></span> <span class=\"reference-text\"><a class=\"external free\" href=\"http://www.iso.org/iso/catalogue_detail.htm?csnumber=69466\" rel=\"nofollow\">http://www.iso.org/iso/catalogue_detail.htm?csnumber=69466</a></span></li>\n",
      "<li id=\"cite_note-3\"><span class=\"mw-cite-backlink\"><b><a href=\"#cite_ref-3\">^</a></b></span> <span class=\"reference-text\"><cite class=\"citation web\"><a class=\"external text\" href=\"https://www.oasis-open.org/committees/mqtt/charter.php\" rel=\"nofollow\">\"OASIS Message Queuing Telemetry Transport (MQTT) Technical Committee\"</a>. OASIS<span class=\"reference-accessdate\">. Retrieved <span class=\"nowrap\">9 May</span> 2014</span>.</cite><span class=\"Z3988\" title=\"ctx_ver=Z39.88-2004&amp;rfr_id=info%3Asid%2Fen.wikipedia.org%3AMQTT&amp;rft.btitle=OASIS+Message+Queuing+Telemetry+Transport+%28MQTT%29+Technical+Committee&amp;rft.genre=unknown&amp;rft_id=https%3A%2F%2Fwww.oasis-open.org%2Fcommittees%2Fmqtt%2Fcharter.php&amp;rft.pub=OASIS&amp;rft_val_fmt=info%3Aofi%2Ffmt%3Akev%3Amtx%3Abook\"><span style=\"display:none;\"> </span></span></span></li>\n",
      "<li id=\"cite_note-4\"><span class=\"mw-cite-backlink\"><b><a href=\"#cite_ref-4\">^</a></b></span> <span class=\"reference-text\"><cite class=\"citation web\">Andy, Stanford-Clark. <a class=\"external text\" href=\"http://mqtt.org/MQTT-S_spec_v1.2.pdf\" rel=\"nofollow\">\"MQTT For Sensor Networks (MQTT-SN) Protocol Specification Version 1.2\"</a> <span style=\"font-size:85%;\">(PDF)</span><span class=\"reference-accessdate\">. Retrieved <span class=\"nowrap\">9 May</span> 2014</span>.</cite><span class=\"Z3988\" title=\"ctx_ver=Z39.88-2004&amp;rfr_id=info%3Asid%2Fen.wikipedia.org%3AMQTT&amp;rft.aufirst=Stanford-Clark&amp;rft.aulast=Andy&amp;rft.btitle=MQTT+For+Sensor+Networks+%28MQTT-SN%29+Protocol+Specification+Version+1.2&amp;rft.genre=unknown&amp;rft_id=http%3A%2F%2Fmqtt.org%2FMQTT-S_spec_v1.2.pdf&amp;rft_val_fmt=info%3Aofi%2Ffmt%3Akev%3Amtx%3Abook\"><span style=\"display:none;\"> </span></span></span></li>\n",
      "<li id=\"cite_note-5\"><span class=\"mw-cite-backlink\"><b><a href=\"#cite_ref-5\">^</a></b></span> <span class=\"reference-text\"><a class=\"external text\" href=\"http://www-03.ibm.com/software/products/en/wmq/\" rel=\"nofollow\">IBM WebSphere MQ</a> Date accessed 2013-11-18</span></li>\n",
      "<li id=\"cite_note-6\"><span class=\"mw-cite-backlink\"><b><a href=\"#cite_ref-6\">^</a></b></span> <span class=\"reference-text\"><a class=\"external text\" href=\"http://blogs.vmware.com/vfabric/2013/02/choosing-your-messaging-protocol-amqp-mqtt-or-stomp.html\" rel=\"nofollow\">Choosing Your Messaging Protocol: AMQP, MQTT, or STOMP | VMware vFabric Blog - VMware Blogs</a>. Blogs.vmware.com (2013-02-19). Retrieved 2013-10-23.</span></li>\n",
      "<li id=\"cite_note-7\"><span class=\"mw-cite-backlink\"><b><a href=\"#cite_ref-7\">^</a></b></span> <span class=\"reference-text\"><cite class=\"citation web\"><a class=\"external text\" href=\"https://tools.ietf.org/html/rfc7252\" rel=\"nofollow\">\"Constrained Application Protocol (CoAP) RFC 7252\"</a>. The Internet Engineering Task Force (IETF)<span class=\"reference-accessdate\">. Retrieved <span class=\"nowrap\">15 November</span> 2015</span>.</cite><span class=\"Z3988\" title=\"ctx_ver=Z39.88-2004&amp;rfr_id=info%3Asid%2Fen.wikipedia.org%3AMQTT&amp;rft.btitle=Constrained+Application+Protocol+%28CoAP%29+RFC+7252&amp;rft.genre=unknown&amp;rft_id=https%3A%2F%2Ftools.ietf.org%2Fhtml%2Frfc7252&amp;rft.pub=The+Internet+Engineering+Task+Force+%28IETF%29&amp;rft_val_fmt=info%3Aofi%2Ffmt%3Akev%3Amtx%3Abook\"><span style=\"display:none;\"> </span></span></span></li>\n",
      "<li id=\"cite_note-8\"><span class=\"mw-cite-backlink\"><b><a href=\"#cite_ref-8\">^</a></b></span> <span class=\"reference-text\"><cite class=\"citation web\"><a class=\"external text\" href=\"http://wiki.xmpp.org/web/InternetOfThings\" rel=\"nofollow\">\"InternetOfThings\"</a>. XMPP WIKI<span class=\"reference-accessdate\">. Retrieved <span class=\"nowrap\">9 May</span> 2014</span>.</cite><span class=\"Z3988\" title=\"ctx_ver=Z39.88-2004&amp;rfr_id=info%3Asid%2Fen.wikipedia.org%3AMQTT&amp;rft.btitle=InternetOfThings&amp;rft.genre=unknown&amp;rft_id=http%3A%2F%2Fwiki.xmpp.org%2Fweb%2FInternetOfThings&amp;rft.pub=XMPP+WIKI&amp;rft_val_fmt=info%3Aofi%2Ffmt%3Akev%3Amtx%3Abook\"><span style=\"display:none;\"> </span></span></span></li>\n",
      "<li id=\"cite_note-9\"><span class=\"mw-cite-backlink\"><b><a href=\"#cite_ref-9\">^</a></b></span> <span class=\"reference-text\"><cite class=\"citation web\"><a class=\"external text\" href=\"https://datatracker.ietf.org/doc/rfc6272/\" rel=\"nofollow\">\"Internet Protocols for the Smart Grid RFC 6272\"</a>. IETF<span class=\"reference-accessdate\">. Retrieved <span class=\"nowrap\">9 May</span> 2014</span>.</cite><span class=\"Z3988\" title=\"ctx_ver=Z39.88-2004&amp;rfr_id=info%3Asid%2Fen.wikipedia.org%3AMQTT&amp;rft.btitle=Internet+Protocols+for+the+Smart+Grid+RFC+6272&amp;rft.genre=unknown&amp;rft_id=https%3A%2F%2Fdatatracker.ietf.org%2Fdoc%2Frfc6272%2F&amp;rft.pub=IETF&amp;rft_val_fmt=info%3Aofi%2Ffmt%3Akev%3Amtx%3Abook\"><span style=\"display:none;\"> </span></span></span></li>\n",
      "<li id=\"cite_note-10\"><span class=\"mw-cite-backlink\"><b><a href=\"#cite_ref-10\">^</a></b></span> <span class=\"reference-text\"><a class=\"external free\" href=\"http://internetofthingsagenda.techtarget.com/definition/MQTT-MQ-Telemetry-Transport\" rel=\"nofollow\">http://internetofthingsagenda.techtarget.com/definition/MQTT-MQ-Telemetry-Transport</a></span></li>\n",
      "<li id=\"cite_note-11\"><span class=\"mw-cite-backlink\"><b><a href=\"#cite_ref-11\">^</a></b></span> <span class=\"reference-text\"><cite class=\"citation web\"><a class=\"external text\" href=\"https://www.facebook.com/notes/facebook-engineering/building-facebook-messenger/10150259350998920\" rel=\"nofollow\">\"Building Facebook Messenger\"</a><span class=\"reference-accessdate\">. Retrieved <span class=\"nowrap\">15 October</span> 2015</span>.</cite><span class=\"Z3988\" title=\"ctx_ver=Z39.88-2004&amp;rfr_id=info%3Asid%2Fen.wikipedia.org%3AMQTT&amp;rft.btitle=Building+Facebook+Messenger&amp;rft.genre=unknown&amp;rft_id=https%3A%2F%2Fwww.facebook.com%2Fnotes%2Ffacebook-engineering%2Fbuilding-facebook-messenger%2F10150259350998920&amp;rft_val_fmt=info%3Aofi%2Ffmt%3Akev%3Amtx%3Abook\"><span style=\"display:none;\"> </span></span></span></li>\n",
      "<li id=\"cite_note-12\"><span class=\"mw-cite-backlink\"><b><a href=\"#cite_ref-12\">^</a></b></span> <span class=\"reference-text\"><cite class=\"citation web\"><a class=\"external text\" href=\"https://aws.amazon.com/blogs/aws/aws-iot-cloud-services-for-connected-devices/\" rel=\"nofollow\">\"AWS IoT – Cloud Services for Connected Devices\"</a><span class=\"reference-accessdate\">. Retrieved <span class=\"nowrap\">21 October</span> 2015</span>.</cite><span class=\"Z3988\" title=\"ctx_ver=Z39.88-2004&amp;rfr_id=info%3Asid%2Fen.wikipedia.org%3AMQTT&amp;rft.btitle=AWS+IoT+%93+Cloud+Services+for+Connected+Devices&amp;rft.genre=unknown&amp;rft_id=https%3A%2F%2Faws.amazon.com%2Fblogs%2Faws%2Faws-iot-cloud-services-for-connected-devices%2F&amp;rft_val_fmt=info%3Aofi%2Ffmt%3Akev%3Amtx%3Abook\"><span style=\"display:none;\"> </span></span></span></li>\n",
      "<li id=\"cite_note-13\"><span class=\"mw-cite-backlink\"><b><a href=\"#cite_ref-13\">^</a></b></span> <span class=\"reference-text\"><cite class=\"citation web\"><a class=\"external text\" href=\"https://www.dhs.gov/science-and-technology/blog/2016/01/25/st-internet-things-pilot-demonstrates-state-practical\" rel=\"nofollow\">\"S&amp;T's Internet of Things Pilot Demonstrates 'State of the Practical<span style=\"padding-right:0.2em;\">'</span>\"</a><span class=\"reference-accessdate\">. Retrieved <span class=\"nowrap\">31 March</span> 2016</span>.</cite><span class=\"Z3988\" title=\"ctx_ver=Z39.88-2004&amp;rfr_id=info%3Asid%2Fen.wikipedia.org%3AMQTT&amp;rft.btitle=S%26T%99s+Internet+of+Things+Pilot+Demonstrates+%27State+of+the+Practical%27&amp;rft.genre=unknown&amp;rft_id=https%3A%2F%2Fwww.dhs.gov%2Fscience-and-technology%2Fblog%2F2016%2F01%2F25%2Fst-internet-things-pilot-demonstrates-state-practical&amp;rft_val_fmt=info%3Aofi%2Ffmt%3Akev%3Amtx%3Abook\"><span style=\"display:none;\"> </span></span></span></li>\n",
      "<li id=\"cite_note-14\"><span class=\"mw-cite-backlink\"><b><a href=\"#cite_ref-14\">^</a></b></span> <span class=\"reference-text\"><cite class=\"citation web\"><a class=\"external text\" href=\"http://docs.openstack.org/infra/system-config/firehose.html\" rel=\"nofollow\">\"OpenStack Infra Firehose\"</a><span class=\"reference-accessdate\">. Retrieved <span class=\"nowrap\">30 August</span> 2016</span>.</cite><span class=\"Z3988\" title=\"ctx_ver=Z39.88-2004&amp;rfr_id=info%3Asid%2Fen.wikipedia.org%3AMQTT&amp;rft.btitle=OpenStack+Infra+Firehose&amp;rft.genre=unknown&amp;rft_id=http%3A%2F%2Fdocs.openstack.org%2Finfra%2Fsystem-config%2Ffirehose.html&amp;rft_val_fmt=info%3Aofi%2Ffmt%3Akev%3Amtx%3Abook\"><span style=\"display:none;\"> </span></span></span></li>\n",
      "<li id=\"cite_note-15\"><span class=\"mw-cite-backlink\"><b><a href=\"#cite_ref-15\">^</a></b></span> <span class=\"reference-text\"><cite class=\"citation web\"><a class=\"external text\" href=\"https://blog.adafruit.com/2014/09/16/coming-soon-adafruit-io/\" rel=\"nofollow\">\"Coming Soon: Adafruit IO\"</a><span class=\"reference-accessdate\">. Retrieved <span class=\"nowrap\">29 March</span> 2017</span>.</cite><span class=\"Z3988\" title=\"ctx_ver=Z39.88-2004&amp;rfr_id=info%3Asid%2Fen.wikipedia.org%3AMQTT&amp;rft.btitle=Coming+Soon%3A+Adafruit+IO&amp;rft.genre=unknown&amp;rft_id=https%3A%2F%2Fblog.adafruit.com%2F2014%2F09%2F16%2Fcoming-soon-adafruit-io%2F&amp;rft_val_fmt=info%3Aofi%2Ffmt%3Akev%3Amtx%3Abook\"><span style=\"display:none;\"> </span></span></span></li>\n",
      "</ol>\n",
      "</div>\n",
      "<h2><span class=\"mw-headline\" id=\"External_links\">External links</span><span class=\"mw-editsection\"><span class=\"mw-editsection-bracket\">[</span><a href=\"/w/index.php?title=MQTT&amp;action=edit&amp;section=4\" title=\"Edit section: External links\">edit</a><span class=\"mw-editsection-bracket\">]</span></span></h2>\n",
      "<ul>\n",
      "<li><span class=\"official-website\"><span class=\"url\"><a class=\"external text\" href=\"http://mqtt.org/\" rel=\"nofollow\">Official website</a></span></span></li>\n",
      "<li><a class=\"external text\" href=\"https://github.com/mqtt/mqtt.github.io/wiki\" rel=\"nofollow\">MQTT community wiki</a> on <a href=\"/wiki/GitHub\" title=\"GitHub\">GitHub</a></li>\n",
      "<li><a class=\"external text\" href=\"http://www.hivemq.com/mqtt-essentials/\" rel=\"nofollow\">MQTT Essentials at HiveMQ</a>.</li>\n",
      "<li><a class=\"external text\" href=\"http://www.eejournal.com/blog/is-exactly-once-delivery-possible-with-mqtt/\" rel=\"nofollow\">Is Exactly-Once Delivery Possible with MQTT</a></li>\n",
      "<li><a class=\"external text\" href=\"https://media.defcon.org/DEF%20CON%2024/DEF%20CON%2024%20presentations/DEFCON-24-Lucas-Lundgren-Light-Weight%20Protocol-Critical-Implications.pdf\" rel=\"nofollow\">Is your personal information available via public MQTT brokers?</a></li>\n",
      "</ul>\n",
      "<!-- \n",
      "NewPP limit report\n",
      "Parsed by mw1199\n",
      "Cached time: 20170329211419\n",
      "Cache expiry: 2592000\n",
      "Dynamic content: false\n",
      "CPU time usage: 0.168 seconds\n",
      "Real time usage: 0.201 seconds\n",
      "Preprocessor visited node count: 504/1000000\n",
      "Preprocessor generated node count: 0/1500000\n",
      "Post‐expand include size: 19615/2097152 bytes\n",
      "Template argument size: 123/2097152 bytes\n",
      "Highest expansion depth: 7/40\n",
      "Expensive parser function count: 0/500\n",
      "Lua time usage: 0.087/10.000 seconds\n",
      "Lua memory usage: 2.76 MB/50 MB\n",
      "-->\n",
      "<!--\n",
      "Transclusion expansion time report (%,ms,calls,template)\n",
      "100.00%  171.861      1 -total\n",
      " 55.33%   95.091      1 Template:Reflist\n",
      " 44.64%   76.714     10 Template:Cite_web\n",
      " 16.68%   28.666      1 Template:Official_website\n",
      " 15.02%   25.810      1 Template:IPstack\n",
      "  6.68%   11.472      1 Template:GitHub\n",
      "  2.76%    4.748      1 Template:If_empty\n",
      "  0.81%    1.391      1 Template:Column-width\n",
      "-->\n",
      "<!-- Saved in parser cache with key enwiki:pcache:idhash:32695816-0!*!0!!en!*!* and timestamp 20170329211432 and revision id 772873402\n",
      " -->\n",
      "\n"
     ]
    }
   ],
   "source": [
    "arti, _ = wiki_db.get_article_by_href(\"MQTT\")\n",
    "MUST CREATE METHOD TO REMOVE REFERENCES AND EXTERNAL LINKS \n",
    "DATABASE MUST STORE ONLY A TUPLE WITH DATA AND ONCE REQUEST CREATE OBJECT ON THE FLY AND RETURN\n",
    "\n",
    "print()"
   ]
  },
  {
   "cell_type": "markdown",
   "metadata": {},
   "source": [
    "### Abstract Links only\n",
    "Get only the abstract links (first section) and set the same proportional score for all of them"
   ]
  },
  {
   "cell_type": "code",
   "execution_count": 21,
   "metadata": {
    "collapsed": true
   },
   "outputs": [],
   "source": [
    "def get_abstract_links(href):\n",
    "    wikiart, _ = wiki_db.get_article_by_href(href)\n",
    "    sections = parse._split_html_h2_sections(wikiart.html)\n",
    "    abstract_links_with_text = parse._filter_wiki_links(parse._extract_html_links(sections[0]))\n",
    "    \n",
    "    abstract_links = set([href for href, text in abstract_links_with_text])\n",
    "    \n",
    "    all_score = 1 / len(abstract_links)\n",
    "    \n",
    "    abstract_links_scores = [(href, all_score) for href in abstract_links]\n",
    "    \n",
    "    return abstract_links_scores"
   ]
  },
  {
   "cell_type": "code",
   "execution_count": 26,
   "metadata": {
    "scrolled": true
   },
   "outputs": [
    {
     "name": "stdout",
     "output_type": "stream",
     "text": [
      "Article                   Score\n",
      "---------------------  --------\n",
      "Computer_programming   0.037037\n",
      "Peripheral             0.037037\n",
      "Arithmetic             0.037037\n",
      "Consumer_electronics   0.037037\n",
      "Processing_element     0.037037\n",
      "Microwave_oven         0.037037\n",
      "Computer_program       0.037037\n",
      "Remote_control         0.037037\n",
      "Internet               0.037037\n",
      "Mobile_device          0.037037\n",
      "Digital_data           0.037037\n",
      "World_War_II           0.037037\n",
      "Personal_computer      0.037037\n",
      "Boolean_algebra        0.037037\n",
      "Data                   0.037037\n",
      "Industrial_robot       0.037037\n",
      "Abacus                 0.037037\n",
      "Memory_(computers)     0.037037\n",
      "Industrial_Revolution  0.037037\n",
      "Smartphone             0.037037\n"
     ]
    }
   ],
   "source": [
    "abstract_links = get_abstract_links(\"Computer\")\n",
    "#print(len(abstract_links))\n",
    "#print_list(abstract_links[:20])\n",
    "print_data(['Article', 'Score'], abstract_links[:20])"
   ]
  },
  {
   "cell_type": "markdown",
   "metadata": {},
   "source": [
    "### Simple link occurrence count\n",
    "Just count the number of times some link occurs and score with it. \n",
    "\n",
    "\n",
    "There is a problem with this approach that each link may be different but will point to the same thing. In order to detect these links we have to download every one to verify if they point to the same think. \n",
    "\n",
    "This issue will appear in other approachs"
   ]
  },
  {
   "cell_type": "code",
   "execution_count": 28,
   "metadata": {},
   "outputs": [
    {
     "name": "stdout",
     "output_type": "stream",
     "text": [
      "Article                                  Score\n",
      "----------------------------------  ----------\n",
      "International_Standard_Book_Number  0.0261661\n",
      "Computer_programming                0.00682594\n",
      "Computer_program                    0.00682594\n",
      "Digital_object_identifier           0.00682594\n",
      "Turing-complete                     0.00568828\n",
      "Central_processing_unit             0.00455063\n",
      "Microprocessor                      0.00455063\n",
      "Konrad_Zuse                         0.00455063\n",
      "Compiler                            0.00455063\n",
      "Transistor                          0.00455063\n",
      "Smartphone                          0.00455063\n",
      "Vacuum_tube                         0.00455063\n",
      "Mouse_(computing)                   0.00455063\n",
      "Z3_(computer)                       0.00341297\n",
      "MIPS_architecture                   0.00341297\n",
      "James_Thomson_(engineer)            0.00341297\n",
      "Electronics                         0.00341297\n",
      "Control_flow                        0.00341297\n",
      "Brian_Randell                       0.00341297\n",
      "Peripheral                          0.00341297\n"
     ]
    }
   ],
   "source": [
    "def simple_link_count(href):\n",
    "    wikiart, _ = wiki_db.get_article_by_href(href)\n",
    "    links = wikiart.links()\n",
    "    \n",
    "    link_counter = Counter()\n",
    "    \n",
    "    for href, text in links:\n",
    "        link_counter[href] += 1\n",
    "        \n",
    "    scores_sum = sum(link_counter.values())\n",
    "        \n",
    "    return list(map(lambda a: (a[0], a[1]/scores_sum), link_counter.most_common()))\n",
    "\n",
    "#print_list(simple_link_count(\"Computer\")[:20])\n",
    "print_data(['Article', 'Score'], simple_link_count(\"Computer\")[:20])"
   ]
  },
  {
   "cell_type": "markdown",
   "metadata": {},
   "source": [
    "### Count local wikisyn\n",
    "Compute a wikisyn collection with the local links and score links with them.\n",
    "\n",
    "\n",
    "The wikisyn class computes every href tag text (< a>text< /a>) with their links in order to find link-synonims, that is diferent texts that points to the same links.\n",
    "\n",
    "Variations to this method may be the use of global wikisyn which computes links syns based on other pages references to the links present on the target article improving the accuracy."
   ]
  },
  {
   "cell_type": "code",
   "execution_count": 86,
   "metadata": {},
   "outputs": [
    {
     "name": "stdout",
     "output_type": "stream",
     "text": [
      "('Logical_conjunction', [('AND', 1.0)], 0.12580914181327188)\n",
      "('Logical_disjunction', [('OR', 1.0)], 0.032405385012509426)\n",
      "('Machine', [('machine', 1.0)], 0.02763988721655216)\n",
      "('Memory_(computers)', [('memory', 1.0)], 0.02287438942059489)\n",
      "('Computer_memory', [('memory', 1.0)], 0.02287438942059489)\n",
      "('Computer_program', [('program', 0.5), ('computer programs', 0.16666666666666666), ('Computer program', 0.16666666666666666), ('programs', 0.16666666666666666)], 0.017632341845041893)\n",
      "('Instruction_(computer_science)', [('instructions', 1.0)], 0.017632341845041893)\n",
      "('Computing', [('computing', 1.0)], 0.01667924228585044)\n",
      "('Computer_data_storage', [('memory', 0.6666666666666666), ('Computer data storage', 0.3333333333333333)], 0.01540844287359517)\n",
      "('Electronics', [('electronic', 1.0)], 0.014773043167467532)\n",
      "('Data_(computing)', [('data', 0.5), ('Data', 0.5)], 0.012390294269488898)\n",
      "('Digital_data', [('digital', 1.0)], 0.011913744489893172)\n",
      "('Digital_electronics', [('digital', 1.0)], 0.011913744489893172)\n",
      "('Time_(magazine)', [('TIME', 1.0)], 0.011913744489893172)\n",
      "('International_Standard_Book_Number', [('ISBN', 1.0)], 0.010960644930701717)\n",
      "('Data', [('information', 1.0)], 0.009530995591914537)\n",
      "('Negation', [('NOT', 1.0)], 0.009530995591914537)\n",
      "('Intel', [('Intel', 1.0)], 0.008577896032723084)\n",
      "('Intel_Corporation', [('Intel', 1.0)], 0.008577896032723084)\n",
      "('Analogue_electronics', [('analog', 1.0)], 0.008101346253127356)\n"
     ]
    }
   ],
   "source": [
    "def get_href_text_count(href):\n",
    "    synDict = WikisynDict()\n",
    "    \n",
    "    wikiart, _ = wiki_db.get_article_by_href(href)\n",
    "    links = wikiart.links()\n",
    "    page_text = wikiart.text()\n",
    "    \n",
    "    #Populate syndict\n",
    "    for href, text in links:\n",
    "        synDict.add_link(href, text)\n",
    "        \n",
    "    #Get matches\n",
    "    links_score = Counter()\n",
    "        \n",
    "    for link_href in synDict.keys():\n",
    "        for l_text, l_score in synDict[link_href]:\n",
    "            matches = re.findall('[^a-zA-Z0-9_]' + re.escape(l_text) + '[^a-zA-Z0-9_]', page_text, re.IGNORECASE)\n",
    "            matches_score = len(matches) * l_score\n",
    "            links_score[link_href] += matches_score\n",
    "\n",
    "    scores_sum = sum(links_score.values())\n",
    "            \n",
    "    norm_links_scores = list(map(lambda a: (a[0],synDict[a[0]], a[1]/scores_sum), links_score.most_common()))\n",
    "            \n",
    "    return norm_links_scores\n",
    "\n",
    "print_list(get_href_text_count(\"Computer\")[:20]) "
   ]
  },
  {
   "cell_type": "code",
   "execution_count": null,
   "metadata": {
    "collapsed": true
   },
   "outputs": [],
   "source": [
    "def get_links_score(page):\n",
    "    \"\"\"Function to cross a list of links with a text, setting scores.\"\"\"\n",
    "    \n",
    "    wikiart = get_wiki_article_by_href(page)\n",
    "    \n",
    "    pageid = wikiart.page_id\n",
    "    #Ensure only one href is present\n",
    "    page_links = set([link_href for link_href, link_text in wikiart.links()])\n",
    "    page_text = wikiart.text()\n",
    "    \n",
    "    links_score = dict()\n",
    "    \n",
    "    norm_fact = 0 #norm factor to results sum to one\n",
    "    \n",
    "    #Ensure all page links are present\n",
    "    #check_and_download(page_links)\n",
    "    \n",
    "    #The ideia is to get for each href the texts that use to follow these hrefs in wikipedia articles.\n",
    "    #The more each term appears, it got increased weight.\n",
    "    #Then we try to match each of the terms for each href to the wiki text, applying to each match the correspondent weight.\n",
    "    #The weight stuff is good to avoid cases where the href_text have appeared only once in one article,\n",
    "    #but it is a frequent term in other articles but offen does not mean the original href it pointed to\n",
    "    \n",
    "    for link_href in page_links:\n",
    "        links_score[link_href] = 0\n",
    "        for l_text, l_score in synbeta.get_synoms(link_href): #get_all_wikisyns_by_href(link_href): #wikisyn[link_href]:\n",
    "            matches = re.findall('[^a-zA-Z0-9_]' + re.escape(l_text) + '[^a-zA-Z0-9_]', page_text, re.IGNORECASE)\n",
    "            matches_score = len(matches) * l_score\n",
    "            links_score[link_href] += matches_score\n",
    "            norm_fact += matches_score\n",
    "            \n",
    "    norm_links_score = dict(map(lambda a: [a[0], float(a[1])/norm_fact], links_score.items()))\n",
    "            \n",
    "    return norm_links_score\n",
    "\n",
    "#v_sum = 0\n",
    "links_score = get_links_score(\"Convolutional neural network\")\n",
    "for k, v in sorted(links_score.items(), key=lambda a:a[1], reverse=True):\n",
    "    print(k,synbeta.hrefs[k],v)\n",
    "    #v_sum += v\n",
    "#print v_sum"
   ]
  },
  {
   "cell_type": "code",
   "execution_count": 37,
   "metadata": {},
   "outputs": [
    {
     "name": "stdout",
     "output_type": "stream",
     "text": [
      "defaultdict(<class 'collections.Counter'>, {'Publish%E2%80%93subscribe_pattern': Counter({'publish-subscribe': 1, 'publish-subscribe messaging pattern': 1}), 'TCP/IP': Counter({'TCP/IP protocol': 1, 'TCP/IP': 1}), 'Message_broker': Counter({'message broker': 1}), 'Broker_(service-oriented_architecture)': Counter({'broker': 1}), 'Messaging_pattern': Counter({'messages': 1}), 'Andy_Stanford-Clark': Counter({'Andy Stanford-Clark': 1}), 'OASIS_(organization)': Counter({'OASIS': 1}), 'ZigBee': Counter({'ZigBee': 1}), 'Message_queuing': Counter({'message queuing': 1}), 'Advanced_Message_Queuing_Protocol': Counter({'Advanced Message Queuing Protocol': 1}), 'Constrained_Application_Protocol': Counter({'Constrained Application Protocol': 1}), 'XMPP': Counter({'XMPP': 1}), 'Web_Application_Messaging_Protocol': Counter({'Web Application Messaging Protocol (WAMP)': 1}), 'Facebook_Messenger': Counter({'Facebook Messenger': 1}), 'Online_chat': Counter({'online chat': 1}), 'EVRYTHNG': Counter({'EVRYTHNG': 1}), 'Machine_to_machine': Counter({'M2M': 1}), 'Amazon_Web_Services': Counter({'Amazon Web Services': 1}), 'Open_Geospatial_Consortium': Counter({'Open Geospatial Consortium': 1}), 'SensorThings_API': Counter({'SensorThings API': 1}), 'OpenStack': Counter({'OpenStack': 1}), 'Adafruit': Counter({'Adafruit': 1}), 'GitHub': Counter({'GitHub': 1})})\n"
     ]
    }
   ],
   "source": [
    "get_href_text_count(\"MQTT\")"
   ]
  },
  {
   "cell_type": "code",
   "execution_count": null,
   "metadata": {
    "collapsed": true
   },
   "outputs": [],
   "source": []
  }
 ],
 "metadata": {
  "kernelspec": {
   "display_name": "Python 3",
   "language": "python",
   "name": "python3"
  },
  "language_info": {
   "codemirror_mode": {
    "name": "ipython",
    "version": 3
   },
   "file_extension": ".py",
   "mimetype": "text/x-python",
   "name": "python",
   "nbconvert_exporter": "python",
   "pygments_lexer": "ipython3",
   "version": "3.5.3"
  }
 },
 "nbformat": 4,
 "nbformat_minor": 2
}
