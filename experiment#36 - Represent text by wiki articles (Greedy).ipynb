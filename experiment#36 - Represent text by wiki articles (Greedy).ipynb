{
 "cells": [
  {
   "cell_type": "markdown",
   "metadata": {},
   "source": [
    "# Experiment #36 - Represent Text By Wiki Articles (Greedy)\n",
    "We aim here to represent a piece of text as a set of wikipedia articles. We may use articles links as priors to help create these representations. This approach is greedy, that is, it will take the articles that use the most number of words of ngrams."
   ]
  },
  {
   "cell_type": "markdown",
   "metadata": {},
   "source": [
    "## Results:\n",
    "There is no need for permutations of disamb pages, because they will not link anything to anything. We can choose them based on individuals, like the one that got more links etc."
   ]
  },
  {
   "cell_type": "markdown",
   "metadata": {},
   "source": [
    "## List of heuristics used\n",
    "*Removed puntuactions such \"!.-\" from the text since wikipedia don't often use these in the titles"
   ]
  },
  {
   "cell_type": "code",
   "execution_count": 1,
   "metadata": {
    "collapsed": true
   },
   "outputs": [],
   "source": [
    "from wikipydia import wikidb, url\n",
    "\n",
    "import nltk\n",
    "from nltk.tokenize import word_tokenize\n",
    "from nltk.corpus import wordnet as wn\n",
    "from nltk.util import ngrams as gen_ngrams\n",
    "\n",
    "from string import punctuation\n",
    "\n",
    "from learndata import LearnContents\n",
    "\n",
    "import networkx as nx\n",
    "\n",
    "from ThreadPool import ThreadPool\n",
    "\n",
    "import urllib\n",
    "\n",
    "#Load learn contents\n",
    "ld = LearnContents()\n",
    "\n",
    "#Load wikipedia local db\n",
    "wdb = wikidb.WikiDb()\n",
    "\n",
    "stopwords = list(punctuation)"
   ]
  },
  {
   "cell_type": "markdown",
   "metadata": {},
   "source": [
    "### Draft area"
   ]
  },
  {
   "cell_type": "code",
   "execution_count": 2,
   "metadata": {
    "collapsed": true
   },
   "outputs": [],
   "source": [
    "def clear_bad_chars(text):\n",
    "    \"\"\"Ensure bad characters (such as '–' that is not a common '-') be removed.\"\"\"\n",
    "    return text.encode(\"ascii\", \"ignore\").decode(\"ascii\")"
   ]
  },
  {
   "cell_type": "code",
   "execution_count": 3,
   "metadata": {
    "collapsed": true
   },
   "outputs": [],
   "source": [
    "def get_bilateral_ngrams(text):\n",
    "    tokens = [word for word in word_tokenize(clear_bad_chars(text.strip())) if word not in stopwords]\n",
    "    for ngram_tuple in gen_ngrams(tokens, len(tokens)-1):\n",
    "        yield \" \".join(ngram_tuple)"
   ]
  },
  {
   "cell_type": "code",
   "execution_count": 4,
   "metadata": {},
   "outputs": [
    {
     "name": "stdout",
     "output_type": "stream",
     "text": [
      "Data Visualization with\n",
      "Data Visualization\n",
      "Visualization with\n",
      "Visualization\n",
      "with\n",
      "Visualization with d3.js\n",
      "Visualization with\n",
      "Visualization\n",
      "with\n",
      "with d3.js\n",
      "with\n",
      "d3.js\n"
     ]
    },
    {
     "data": {
      "text/plain": [
       "['with',\n",
       " 'Data Visualization with d3.js',\n",
       " 'Visualization with',\n",
       " 'd3.js',\n",
       " 'Data_visualization',\n",
       " 'Visualization with d3.js',\n",
       " 'with d3.js',\n",
       " 'With',\n",
       " 'Data Visualization with',\n",
       " 'D3.js',\n",
       " 'Data Visualization',\n",
       " 'Visualization']"
      ]
     },
     "execution_count": 4,
     "metadata": {},
     "output_type": "execute_result"
    }
   ],
   "source": [
    "def get_wikipedia_page_url(title):\n",
    "    return urllib.parse.quote(title.replace(\" \", \"_\"))\n",
    "\n",
    "def get_graph(text, graph=None):\n",
    "    if graph == None:\n",
    "        graph = nx.DiGraph()\n",
    "    \n",
    "    #Add node to the graph\n",
    "    #graph.add_node(text)\n",
    "    \n",
    "    #Try download article for this text\n",
    "    try:\n",
    "        art, _ = wdb.get_article_by_href(url.UnquotedURL(text))\n",
    "        #If suceeed, add article to the node property\n",
    "        graph.add_node(get_wikipedia_page_url(art.title()), {\n",
    "            \"article\": art\n",
    "        }) \n",
    "    except:\n",
    "        #If no article has been found, we split the text into ngrams,\n",
    "        #add it as edges and recurse the function the new nodes passing the current graph instance\n",
    "        for ngram in get_bilateral_ngrams(text):\n",
    "            print(ngram)\n",
    "            graph.add_edge(text, ngram)\n",
    "            get_graph(ngram, graph)\n",
    "        \n",
    "    return graph\n",
    "    \n",
    "graph = get_graph(ld[0].title)    \n",
    "graph.nodes()"
   ]
  },
  {
   "cell_type": "code",
   "execution_count": 5,
   "metadata": {},
   "outputs": [
    {
     "name": "stdout",
     "output_type": "stream",
     "text": [
      "Data_visualization\n",
      "With\n",
      "Visualization\n",
      "D3.js\n"
     ]
    },
    {
     "data": {
      "text/plain": [
       "0.2667733465397895"
      ]
     },
     "execution_count": 5,
     "metadata": {},
     "output_type": "execute_result"
    }
   ],
   "source": [
    "def get_graph_art_pagerank(graph):\n",
    "    pr = nx.pagerank(graph)\n",
    "    \n",
    "    sum_value = 0\n",
    "    for node in nx.get_node_attributes(graph, \"article\").keys():\n",
    "        print(node)\n",
    "        sum_value += pr[node]\n",
    "\n",
    "    return sum_value\n",
    "\n",
    "get_graph_art_pagerank(graph)"
   ]
  },
  {
   "cell_type": "code",
   "execution_count": 6,
   "metadata": {},
   "outputs": [
    {
     "ename": "NameError",
     "evalue": "name 'pr' is not defined",
     "output_type": "error",
     "traceback": [
      "\u001b[1;31m---------------------------------------------------------------------------\u001b[0m",
      "\u001b[1;31mNameError\u001b[0m                                 Traceback (most recent call last)",
      "\u001b[1;32m<ipython-input-6-7b7e92182e8a>\u001b[0m in \u001b[0;36m<module>\u001b[1;34m()\u001b[0m\n\u001b[0;32m      1\u001b[0m \u001b[0msum_value\u001b[0m \u001b[1;33m=\u001b[0m \u001b[1;36m0\u001b[0m\u001b[1;33m\u001b[0m\u001b[0m\n\u001b[0;32m      2\u001b[0m \u001b[1;32mfor\u001b[0m \u001b[0mnode\u001b[0m \u001b[1;32min\u001b[0m \u001b[0mnx\u001b[0m\u001b[1;33m.\u001b[0m\u001b[0mget_node_attributes\u001b[0m\u001b[1;33m(\u001b[0m\u001b[0mgraph\u001b[0m\u001b[1;33m,\u001b[0m \u001b[1;34m\"article\"\u001b[0m\u001b[1;33m)\u001b[0m\u001b[1;33m.\u001b[0m\u001b[0mkeys\u001b[0m\u001b[1;33m(\u001b[0m\u001b[1;33m)\u001b[0m\u001b[1;33m:\u001b[0m\u001b[1;33m\u001b[0m\u001b[0m\n\u001b[1;32m----> 3\u001b[1;33m     \u001b[0msum_value\u001b[0m \u001b[1;33m+=\u001b[0m \u001b[0mpr\u001b[0m\u001b[1;33m[\u001b[0m\u001b[0mnode\u001b[0m\u001b[1;33m]\u001b[0m\u001b[1;33m\u001b[0m\u001b[0m\n\u001b[0m",
      "\u001b[1;31mNameError\u001b[0m: name 'pr' is not defined"
     ]
    }
   ],
   "source": [
    "sum_value = 0\n",
    "for node in nx.get_node_attributes(graph, \"article\").keys():\n",
    "    sum_value += pr[node]"
   ]
  },
  {
   "cell_type": "markdown",
   "metadata": {},
   "source": [
    "### 1. Generate hierarquical ngrams for the text"
   ]
  },
  {
   "cell_type": "code",
   "execution_count": 7,
   "metadata": {
    "collapsed": true
   },
   "outputs": [],
   "source": [
    "def get_ngrams(text, ngram_range=()):\n",
    "    \"\"\"Tokenize text and them return its ngrams.\"\"\"\n",
    "    \n",
    "    tokens = [word for word in word_tokenize(clear_bad_chars(text.strip())) if word not in stopwords]\n",
    "    \n",
    "    if len(ngram_range) == 0:\n",
    "        ngram_range = (1, len(tokens))\n",
    "    \n",
    "    ngrams_list = list()\n",
    "    for ngram_size in range(ngram_range[0], ngram_range[1]+1):\n",
    "        for ngram_tuple in gen_ngrams(tokens, ngram_size):\n",
    "            ngram_text = \" \".join(ngram_tuple)\n",
    "            ngrams_list.append(ngram_text)\n",
    "\n",
    "    return ngrams_list"
   ]
  },
  {
   "cell_type": "code",
   "execution_count": 8,
   "metadata": {
    "collapsed": true
   },
   "outputs": [],
   "source": [
    "def get_hierarquical_ngrams(text):\n",
    "    n_tokens = len(word_tokenize(text))\n",
    "    if n_tokens == 1:\n",
    "        return {text: {}}\n",
    "    \n",
    "    ngrams = dict() \n",
    "        \n",
    "    for ngram in get_ngrams(text, (n_tokens-1, n_tokens-1)):\n",
    "        ngrams.update(get_hierarquical_ngrams(ngram))\n",
    "\n",
    "    return {text: ngrams}"
   ]
  },
  {
   "cell_type": "code",
   "execution_count": 9,
   "metadata": {
    "collapsed": true
   },
   "outputs": [],
   "source": [
    "text_ngrams = get_hierarquical_ngrams(ld[0].title)"
   ]
  },
  {
   "cell_type": "code",
   "execution_count": 10,
   "metadata": {},
   "outputs": [
    {
     "data": {
      "text/plain": [
       "{'Data Visualization with d3.js': {'Data Visualization with': {'Data Visualization': {'Data': {},\n",
       "    'Visualization': {}},\n",
       "   'Visualization with': {'Visualization': {}, 'with': {}}},\n",
       "  'Visualization with d3.js': {'Visualization with': {'Visualization': {},\n",
       "    'with': {}},\n",
       "   'with d3.js': {'d3.js': {}, 'with': {}}}}}"
      ]
     },
     "execution_count": 10,
     "metadata": {},
     "output_type": "execute_result"
    }
   ],
   "source": [
    "text_ngrams"
   ]
  },
  {
   "cell_type": "markdown",
   "metadata": {},
   "source": [
    "### 2. Get ngrams set"
   ]
  },
  {
   "cell_type": "code",
   "execution_count": 11,
   "metadata": {
    "collapsed": true
   },
   "outputs": [],
   "source": [
    "def get_ngrams_list(h_ngrams):\n",
    "    ngrams = list()\n",
    "    for ngram in h_ngrams.keys():\n",
    "        ngrams.append(ngram)\n",
    "        ngrams += get_ngrams_list(h_ngrams[ngram])\n",
    "        \n",
    "    return ngrams\n",
    "\n",
    "def get_grams_set(h_ngrams):\n",
    "    return set(get_ngrams_list(h_ngrams))\n",
    "\n",
    "ngrams_set = get_grams_set(text_ngrams)"
   ]
  },
  {
   "cell_type": "markdown",
   "metadata": {},
   "source": [
    "### 3. Try to get a wikipedia article for each ngram"
   ]
  },
  {
   "cell_type": "code",
   "execution_count": 12,
   "metadata": {
    "collapsed": true
   },
   "outputs": [],
   "source": [
    "def get_wikipedia_page_url(title):\n",
    "    return urllib.parse.quote(title.replace(\" \", \"_\"))\n",
    "#get_wikipedia_page_url(\"lucas vieira c++\")"
   ]
  },
  {
   "cell_type": "code",
   "execution_count": 13,
   "metadata": {
    "scrolled": false
   },
   "outputs": [
    {
     "name": "stdout",
     "output_type": "stream",
     "text": [
      "Wall time: 0 ns\n",
      "Requested page 'Data Visualization with d3.js (en)' does not exists.\n",
      "Requested page 'with d3.js (en)' does not exists.\n",
      "Requested page 'Visualization with d3.js (en)' does not exists.\n",
      "Requested page 'Visualization with (en)' does not exists.\n",
      "Requested page 'Data Visualization with (en)' does not exists.\n",
      "Wall time: 820 ms\n"
     ]
    },
    {
     "data": {
      "text/plain": [
       "{'Data': Data,\n",
       " 'Data Visualization': Data_visualization,\n",
       " 'Data Visualization with': 'Data Visualization with',\n",
       " 'Data Visualization with d3.js': 'Data Visualization with d3.js',\n",
       " 'Visualization': Visualization,\n",
       " 'Visualization with': 'Visualization with',\n",
       " 'Visualization with d3.js': 'Visualization with d3.js',\n",
       " 'd3.js': D3.js,\n",
       " 'with': With,\n",
       " 'with d3.js': 'with d3.js'}"
      ]
     },
     "execution_count": 13,
     "metadata": {},
     "output_type": "execute_result"
    }
   ],
   "source": [
    "from collections import defaultdict\n",
    "\n",
    "#Populate wikiarticles before with existing ngrams\n",
    "wiki_articles = dict([(ngram, ngram) for ngram in ngrams_set])\n",
    "\n",
    "\n",
    "def get_wiki_article(href):\n",
    "    try:\n",
    "        art, _ = wdb.get_article_by_href(url.UnquotedURL(href))\n",
    "        art._title = get_wikipedia_page_url(art.title())\n",
    "        wiki_articles[href] = art\n",
    "    except Exception as e:\n",
    "        print(e)\n",
    "    \n",
    "\n",
    "pool = ThreadPool(10)\n",
    "%time pool.map(get_wiki_article, ngrams_set)\n",
    "%time pool.wait_completion()\n",
    "del pool\n",
    "wdb.save()\n",
    "wiki_articles"
   ]
  },
  {
   "cell_type": "markdown",
   "metadata": {},
   "source": [
    "### 5. Create Graph"
   ]
  },
  {
   "cell_type": "code",
   "execution_count": 15,
   "metadata": {
    "scrolled": false
   },
   "outputs": [
    {
     "data": {
      "text/plain": [
       "['D3.js',\n",
       " 'Data',\n",
       " 'Data Visualization with',\n",
       " 'Data Visualization with d3.js',\n",
       " 'Data_visualization',\n",
       " 'Visualization',\n",
       " 'Visualization with',\n",
       " 'Visualization with d3.js',\n",
       " 'With',\n",
       " 'with d3.js']"
      ]
     },
     "execution_count": 15,
     "metadata": {},
     "output_type": "execute_result"
    }
   ],
   "source": [
    "graph = nx.DiGraph()\n",
    "\n",
    "#Add all nodes\n",
    "for node in wiki_articles.values():\n",
    "    is_article = not isinstance(node, str)\n",
    "    if is_article:\n",
    "        graph.add_node(str(node), {\"article\": node})\n",
    "    else:\n",
    "        graph.add_node(node)\n",
    "\n",
    "sorted(graph.nodes())"
   ]
  },
  {
   "cell_type": "code",
   "execution_count": 16,
   "metadata": {
    "collapsed": true
   },
   "outputs": [],
   "source": [
    "#Add ngram edges\n",
    "#The greedy component is added here since we do not verify \n",
    "#deep levels of the ngrams if some upper level match an article\n",
    "\n",
    "def add_ngram_edges(hngrams):\n",
    "    for node_name in hngrams.keys():\n",
    "        not_article = isinstance(wiki_articles[node_name], str)\n",
    "        \n",
    "        if not_article:\n",
    "            #We acctually do not need the str function, just use for readability\n",
    "            n1_name = str(wiki_articles[node_name])  \n",
    "            for child_name in hngrams[node_name].keys():\n",
    "                n2_name = str(wiki_articles[child_name])\n",
    "                graph.add_edge(n1_name, n2_name)\n",
    "            add_ngram_edges(hngrams[node_name])\n",
    "            \n",
    "add_ngram_edges(text_ngrams)"
   ]
  },
  {
   "cell_type": "code",
   "execution_count": 22,
   "metadata": {},
   "outputs": [],
   "source": [
    "def get_largest_list(lists):\n",
    "    largest_list = list()\n",
    "    for l in lists:\n",
    "        if len(l) > len(largest_list):\n",
    "            largest_list = l\n",
    "    return largest_list\n",
    "\n",
    "#Replace graph with the one with most connected components\n",
    "most_conn_comps = get_largest_list(list(nx.weakly_connected_components(graph)))\n",
    "graph = graph.subgraph(most_conn_comps)"
   ]
  },
  {
   "cell_type": "code",
   "execution_count": 42,
   "metadata": {},
   "outputs": [],
   "source": [
    "#Get the target links from the articles in the graph\n",
    "from collections import Counter\n",
    "\n",
    "links_counter = Counter()\n",
    "\n",
    "for art in nx.get_node_attributes(graph, \"article\").values():\n",
    "    if not art._is_disamb_page:\n",
    "        for link_href, _ in art.links():\n",
    "            links_counter[link_href] += 1"
   ]
  },
  {
   "cell_type": "code",
   "execution_count": 43,
   "metadata": {},
   "outputs": [
    {
     "data": {
      "text/plain": [
       "defaultdict(list,\n",
       "            {'Visualization': ['Mental_image',\n",
       "              'Creative_visualization',\n",
       "              'Motor_imagery',\n",
       "              'Flow_visualization',\n",
       "              'Geovisualization',\n",
       "              'Illustration',\n",
       "              'Information_graphics',\n",
       "              'Data_visualization',\n",
       "              'Information_visualization',\n",
       "              'Interactive_visualization',\n",
       "              'Music_visualization',\n",
       "              'Scientific_visualization',\n",
       "              'Security_visualisation',\n",
       "              'Software_visualization',\n",
       "              'Visualization_(computer_graphics)',\n",
       "              'Visulation',\n",
       "              'Guided_imagery',\n",
       "              'List_of_graphical_methods',\n",
       "              'Image',\n",
       "              'Mental_image',\n",
       "              'Previsualization',\n",
       "              'Spatial_visualization_ability',\n",
       "              'Visual_communication',\n",
       "              'Visual_perception',\n",
       "              'Visual_rhetoric',\n",
       "              'Visual_system',\n",
       "              'Visual_thinking'],\n",
       "             'With': ['Carl_Johannes_With',\n",
       "              'With_(character)',\n",
       "              'With_(novel)',\n",
       "              'With_(album)',\n",
       "              'WITH_(FM)',\n",
       "              'WRBS_(AM)',\n",
       "              'WZFT']})"
      ]
     },
     "execution_count": 43,
     "metadata": {},
     "output_type": "execute_result"
    }
   ],
   "source": [
    "#Get all disamb links\n",
    "from collections import defaultdict\n",
    "\n",
    "disamb_links = defaultdict(list)\n",
    "for node_name, node_article in nx.get_node_attributes(graph, \"article\").items():\n",
    "    if node_article._is_disamb_page:\n",
    "        for link_href, _ in node_article.links():\n",
    "            disamb_links[node_name].append(link_href) \n",
    "\n",
    "disamb_links"
   ]
  },
  {
   "cell_type": "code",
   "execution_count": 47,
   "metadata": {},
   "outputs": [],
   "source": [
    "#Resolve disambiguation links\n",
    "import random\n",
    "\n",
    "resolved_disamb = dict()\n",
    "\n",
    "for node_label, disamb_candidates in disamb_links.items():\n",
    "    #Get the sorted list of links to members of the disamb candidates\n",
    "    candidates_links = sorted(list(map(lambda a: (a, links_counter[a]), disamb_candidates)), key=lambda a: a[1], reverse=True)\n",
    "    \n",
    "    high_value = candidates_links[0][1]\n",
    "    \n",
    "    threshold_candidates = list()\n",
    "    for cand_label, cand_links in candidates_links:\n",
    "        if cand_links == high_value:\n",
    "            threshold_candidates.append(cand_label)\n",
    "            \n",
    "    #Choose randomly between the high value candidates\n",
    "    resolved_disamb[node_label] = random.choice(threshold_candidates)\n",
    "    "
   ]
  },
  {
   "cell_type": "code",
   "execution_count": 52,
   "metadata": {
    "collapsed": true
   },
   "outputs": [],
   "source": [
    "get_wiki_article('Information_graphics')"
   ]
  },
  {
   "cell_type": "code",
   "execution_count": 54,
   "metadata": {},
   "outputs": [
    {
     "data": {
      "text/plain": [
       "[['Washington_Metro', 'Washington Metro'],\n",
       " ['Clipped_compound', 'clipped compound'],\n",
       " ['Information', 'information'],\n",
       " ['Graphics', 'graphics'],\n",
       " ['Data', 'data'],\n",
       " ['Knowledge', 'knowledge'],\n",
       " ['Information_visualization', 'information visualization'],\n",
       " ['Data_visualization', 'data visualization'],\n",
       " ['Statistical_graphics', 'statistical graphics'],\n",
       " ['Information_design', 'information design'],\n",
       " ['Information_architecture', 'information architecture'],\n",
       " ['Mass_communication', 'mass communication'],\n",
       " ['Isotype_(picture_language)', 'Isotypes'],\n",
       " ['Facebook', 'Facebook'],\n",
       " ['Twitter', 'Twitter'],\n",
       " ['Attention_span', 'attention span'],\n",
       " ['David_Macaulay', 'David Macaulay'],\n",
       " ['The_Way_Things_Work', 'The Way Things Work'],\n",
       " ['USA_Today', 'USA Today'],\n",
       " ['Washington_Metro', 'Washington Metro'],\n",
       " ['London_Underground', 'London Underground'],\n",
       " ['Edward_Tufte', 'Edward Tufte'],\n",
       " ['Christoph_Scheiner', 'Christoph Scheiner'],\n",
       " ['Illustration', 'illustrations'],\n",
       " ['William_Playfair', 'William Playfair'],\n",
       " ['England', 'England'],\n",
       " ['Bar_chart', 'bar charts'],\n",
       " ['Line_graph', 'line graphs'],\n",
       " ['Area_chart', 'area charts'],\n",
       " ['Histograms', 'histograms'],\n",
       " ['Pie_chart', 'pie chart'],\n",
       " ['Carl_Ritter', 'Carl Ritter'],\n",
       " ['Charles_Sanders_Peirce', 'Charles Sanders Peirce'],\n",
       " ['Alexander_von_Humboldt', 'Alexander von Humboldt'],\n",
       " ['Polar_area_diagram', 'Polar area diagram'],\n",
       " ['Florence_Nightingale', 'Florence Nightingale'],\n",
       " ['Crimean_War', 'Crimean War'],\n",
       " ['Florence_Nightingale', 'Florence Nightingale'],\n",
       " ['Queen_Victoria', 'Queen Victoria'],\n",
       " ['Crimean_War', 'Crimean War'],\n",
       " ['Charles_Joseph_Minard', \"Charles Minard's\"],\n",
       " ['French_invasion_of_Russia', 'Napoleon'],\n",
       " ['Napoleon', 'Napoleon'],\n",
       " ['French_invasion_of_Russia', 'march on Moscow'],\n",
       " ['Charles_Joseph_Minard', 'Charles Joseph Minard'],\n",
       " ['Two-dimensional', 'two-dimensional'],\n",
       " ['James_Joseph_Sylvester', 'James Joseph Sylvester'],\n",
       " ['Cologne_Progressives', 'Cologne Progressives'],\n",
       " ['Gerd_Arntz', 'Gerd Arntz'],\n",
       " ['Peter_Alma', 'Peter Alma'],\n",
       " ['Augustin_Tschinkel', 'Augustin Tschinkel'],\n",
       " ['Otto_Neurath', 'Otto Neurath'],\n",
       " ['Gesellschafts-_und_Wirtschaftsmuseum',\n",
       "  'Gesellschafts- und Wirtschaftsmuseum'],\n",
       " ['Vienna_Method', 'Vienna Method'],\n",
       " ['Austrofascism', 'Austrofascism'],\n",
       " ['Austrian_Civil_War', 'Austrian Civil War'],\n",
       " ['Netherlands', 'Netherlands'],\n",
       " ['Isotype_(picture_language)', 'Isotypes'],\n",
       " ['IZOSTAT', 'IZOSTAT'],\n",
       " ['Soviet_Union', 'Soviet Union'],\n",
       " ['Isidore_Isou', 'Isidore Isou'],\n",
       " ['Lettrist', 'Lettrist'],\n",
       " ['Metagraphics', 'metagraphics'],\n",
       " ['Hypergraphics', 'hypergraphics'],\n",
       " ['Stephen_Toulmin', 'Stephen Toulmin'],\n",
       " ['Pioneer_10', 'Pioneer 10'],\n",
       " ['Pioneer_11', 'Pioneer 11'],\n",
       " ['Pioneer_Plaque', 'Pioneer Plaques'],\n",
       " ['Carl_Sagan', 'Carl Sagan'],\n",
       " ['Frank_Drake', 'Frank Drake'],\n",
       " ['Edward_Tufte', 'Edward Tufte'],\n",
       " ['The_New_York_Times', 'The New York Times'],\n",
       " ['Da_Vinci', 'da Vinci'],\n",
       " ['Peter_Sullivan_(designer)', 'Peter Sullivan'],\n",
       " ['The_Sunday_Times', 'The Sunday Times'],\n",
       " ['United_States', 'United States'],\n",
       " ['Chartjunk', 'chartjunk'],\n",
       " ['Vector_graphics', 'vector graphics'],\n",
       " ['Raster_graphics', 'raster graphics'],\n",
       " ['Desktop_publishing', 'desktop publishing'],\n",
       " ['Geographic_Information_System', 'Geographic Information Systems'],\n",
       " ['Information_design', 'information design'],\n",
       " ['Adobe_Flash', 'Adobe Flash'],\n",
       " ['Television', 'television'],\n",
       " ['Norway', 'Norwegian'],\n",
       " ['R%C3%B6yksopp', 'Röyksopp'],\n",
       " ['Remind_Me_(R%C3%B6yksopp_song)', 'Remind Me'],\n",
       " ['France', 'French'],\n",
       " ['Areva', 'Areva'],\n",
       " ['HTML_5', 'HTML 5'],\n",
       " ['CSS3', 'CSS3'],\n",
       " ['Journalism', 'journalism'],\n",
       " ['Maestro_concept', 'maestro concept'],\n",
       " ['Time_management', 'time management'],\n",
       " ['Content_marketing', 'content marketing'],\n",
       " ['The_Church_of_Jesus_Christ_of_Latter-day_Saints',\n",
       "  'The Church of Jesus Christ of Latter-day Saints'],\n",
       " ['Social_networking_service', 'social networks'],\n",
       " ['Facebook', 'Facebook'],\n",
       " ['Twitter', 'Twitter'],\n",
       " ['Pinterest', 'Pinterest'],\n",
       " ['Google%2B', 'Google+'],\n",
       " ['Reddit', 'Reddit'],\n",
       " ['Senses', 'senses'],\n",
       " ['Temporal_encoding', 'temporal encoding'],\n",
       " ['Communication', 'communication'],\n",
       " ['Data_visualization', 'Data visualization'],\n",
       " ['Time-series', 'time-series'],\n",
       " ['Statistical_distributions', 'statistical distributions'],\n",
       " ['Maps', 'maps'],\n",
       " ['TOP500', 'TOP500'],\n",
       " ['Data_visualization', 'data visualization'],\n",
       " ['Small_multiple', 'small multiples'],\n",
       " ['Line_chart', 'line chart'],\n",
       " ['Histogram', 'histogram'],\n",
       " ['Iris_flower_data_set', 'Iris flower data set'],\n",
       " ['Box-and-whisker_plot', 'box-and-whisker plots'],\n",
       " ['Mean', 'mean'],\n",
       " ['Median', 'median'],\n",
       " ['Outliers', 'outliers'],\n",
       " ['Stem-and-leaf_plot', 'stem-and-leaf plots'],\n",
       " ['Q-Q_plot', 'Q-Q plots'],\n",
       " ['Parallel_coordinates', 'parallel coordinates'],\n",
       " ['Frequency_distribution', 'frequency distribution'],\n",
       " ['Probability_distribution', 'probability distributions'],\n",
       " ['Quantiles', 'quantiles'],\n",
       " ['Scatter_plots', 'scatter plots'],\n",
       " ['Geographical', 'geographical'],\n",
       " ['Flow_map', 'flow maps'],\n",
       " ['Pie_chart', 'pie charts'],\n",
       " ['Cartogram', 'Cartograms'],\n",
       " ['Treemap', 'treemap'],\n",
       " ['Arc_diagram', 'Arc diagram'],\n",
       " ['Social_network_analysis', 'social network'],\n",
       " ['Mathematicians', 'mathematicians'],\n",
       " ['Computer_scientists', 'computer scientists'],\n",
       " ['Illustrations', 'illustrations'],\n",
       " ['Visual.ly', 'visual.ly'],\n",
       " ['Graph_paper', 'graph paper'],\n",
       " ['Pencils', 'pencils'],\n",
       " ['Rulers', 'rulers'],\n",
       " ['Computer_software', 'computer software'],\n",
       " ['Smartphone', 'smartphone']]"
      ]
     },
     "execution_count": 54,
     "metadata": {},
     "output_type": "execute_result"
    }
   ],
   "source": [
    "wiki_articles['Information_graphics'].links()"
   ]
  },
  {
   "cell_type": "code",
   "execution_count": 51,
   "metadata": {},
   "outputs": [
    {
     "data": {
      "text/plain": [
       "{'Visualization': 'Information_graphics', 'With': 'WITH_(FM)'}"
      ]
     },
     "execution_count": 51,
     "metadata": {},
     "output_type": "execute_result"
    }
   ],
   "source": [
    "resolved_disamb"
   ]
  },
  {
   "cell_type": "code",
   "execution_count": 49,
   "metadata": {},
   "outputs": [
    {
     "data": {
      "text/plain": [
       "['With',\n",
       " 'Data Visualization with d3.js',\n",
       " 'Visualization with',\n",
       " 'Data Visualization with',\n",
       " 'D3.js',\n",
       " 'Data_visualization',\n",
       " 'Visualization with d3.js',\n",
       " 'with d3.js',\n",
       " 'Visualization']"
      ]
     },
     "execution_count": 49,
     "metadata": {},
     "output_type": "execute_result"
    }
   ],
   "source": [
    "graph.nodes()"
   ]
  },
  {
   "cell_type": "code",
   "execution_count": null,
   "metadata": {
    "collapsed": true
   },
   "outputs": [],
   "source": []
  },
  {
   "cell_type": "code",
   "execution_count": null,
   "metadata": {
    "collapsed": true
   },
   "outputs": [],
   "source": [
    "def get_graph(text, graph=None):\n",
    "    if graph == None:\n",
    "        graph = nx.DiGraph()\n",
    "    \n",
    "    #Add node to the graph\n",
    "    #graph.add_node(text)\n",
    "    \n",
    "    #Try download article for this text\n",
    "    try:\n",
    "        art, _ = wdb.get_article_by_href(url.UnquotedURL(text))\n",
    "        #If suceeed, add article to the node property\n",
    "        graph.add_node(get_wikipedia_page_url(art.title()), {\n",
    "            \"article\": art\n",
    "        }) \n",
    "    except:\n",
    "        #If no article has been found, we split the text into ngrams,\n",
    "        #add it as edges and recurse the function the new nodes passing the current graph instance\n",
    "        for ngram in get_bilateral_ngrams(text):\n",
    "            print(ngram)\n",
    "            graph.add_edge(text, ngram)\n",
    "            get_graph(ngram, graph)\n",
    "        \n",
    "    return graph"
   ]
  },
  {
   "cell_type": "code",
   "execution_count": null,
   "metadata": {
    "collapsed": true
   },
   "outputs": [],
   "source": []
  },
  {
   "cell_type": "code",
   "execution_count": null,
   "metadata": {
    "collapsed": true
   },
   "outputs": [],
   "source": []
  },
  {
   "cell_type": "markdown",
   "metadata": {},
   "source": [
    "### 4. Get edges from the hierarquical ngrams"
   ]
  },
  {
   "cell_type": "code",
   "execution_count": 9,
   "metadata": {
    "collapsed": true
   },
   "outputs": [],
   "source": [
    "def hierarq_ngrams_to_edges(hierarq_ngrams):\n",
    "    edges = list()\n",
    "    for n1, n1_child in hierarq_ngrams.items():\n",
    "        for n2 in n1_child:\n",
    "            edges.append((n1, n2))\n",
    "\n",
    "        edges += hierarq_ngrams_to_edges(n1_child)\n",
    "\n",
    "    return edges"
   ]
  },
  {
   "cell_type": "code",
   "execution_count": 10,
   "metadata": {
    "collapsed": true
   },
   "outputs": [],
   "source": [
    "#convert to set to ensure only one edge of it kind is present\n",
    "ngrams_edges = list(set(hierarq_ngrams_to_edges(text_ngrams))) "
   ]
  },
  {
   "cell_type": "code",
   "execution_count": 11,
   "metadata": {},
   "outputs": [
    {
     "data": {
      "text/plain": [
       "[('Data Visualization with', 'Data Visualization'),\n",
       " ('Data Visualization', 'Data'),\n",
       " ('Data Visualization', 'Visualization'),\n",
       " ('Visualization with d3.js', 'with d3.js'),\n",
       " ('Visualization with d3.js', 'Visualization with'),\n",
       " ('Visualization with', 'Visualization'),\n",
       " ('Data Visualization with d3.js', 'Visualization with d3.js'),\n",
       " ('with d3.js', 'd3.js'),\n",
       " ('Data Visualization with d3.js', 'Data Visualization with'),\n",
       " ('Data Visualization with', 'Visualization with'),\n",
       " ('Visualization with', 'with'),\n",
       " ('with d3.js', 'with')]"
      ]
     },
     "execution_count": 11,
     "metadata": {},
     "output_type": "execute_result"
    }
   ],
   "source": [
    "ngrams_edges"
   ]
  },
  {
   "cell_type": "markdown",
   "metadata": {},
   "source": [
    "### 5. Expand edges to wikiarticles candidates for each ngram"
   ]
  },
  {
   "cell_type": "code",
   "execution_count": 12,
   "metadata": {
    "collapsed": true
   },
   "outputs": [],
   "source": [
    "expanded_edges = list()\n",
    "\n",
    "for n1, n2 in ngrams_edges:\n",
    "    for cand1 in wiki_articles[n1]:\n",
    "        for cand2 in wiki_articles[n2]:\n",
    "            if str(cand1) != str(cand2): #Avoid circular ref\n",
    "                expanded_edges.append((str(cand1),str(cand2)))"
   ]
  },
  {
   "cell_type": "code",
   "execution_count": 13,
   "metadata": {},
   "outputs": [
    {
     "data": {
      "text/plain": [
       "[('Data Visualization with', 'Data_visualization'),\n",
       " ('Data_visualization', 'Data'),\n",
       " ('Data_visualization', 'Mental_image'),\n",
       " ('Data_visualization', 'Creative_visualization'),\n",
       " ('Data_visualization', 'Motor_imagery'),\n",
       " ('Data_visualization', 'Flow_visualization'),\n",
       " ('Data_visualization', 'Geovisualization'),\n",
       " ('Data_visualization', 'Illustration'),\n",
       " ('Data_visualization', 'Information_graphics'),\n",
       " ('Data_visualization', 'Information_visualization'),\n",
       " ('Data_visualization', 'Interactive_visualization'),\n",
       " ('Data_visualization', 'Music_visualization'),\n",
       " ('Data_visualization', 'Scientific_visualization'),\n",
       " ('Data_visualization', 'Security_visualisation'),\n",
       " ('Data_visualization', 'Software_visualization'),\n",
       " ('Data_visualization', 'Visualization_(computer_graphics)'),\n",
       " ('Data_visualization', 'Visulation'),\n",
       " ('Data_visualization', 'Guided_imagery'),\n",
       " ('Data_visualization', 'List_of_graphical_methods'),\n",
       " ('Data_visualization', 'Image'),\n",
       " ('Data_visualization', 'Mental_image'),\n",
       " ('Data_visualization', 'Previsualization'),\n",
       " ('Data_visualization', 'Spatial_visualization_ability'),\n",
       " ('Data_visualization', 'Visual_communication'),\n",
       " ('Data_visualization', 'Visual_perception'),\n",
       " ('Data_visualization', 'Visual_rhetoric'),\n",
       " ('Data_visualization', 'Visual_system'),\n",
       " ('Data_visualization', 'Visual_thinking'),\n",
       " ('Visualization with d3.js', 'with d3.js'),\n",
       " ('Visualization with d3.js', 'Visualization with'),\n",
       " ('Visualization with', 'Mental_image'),\n",
       " ('Visualization with', 'Creative_visualization'),\n",
       " ('Visualization with', 'Motor_imagery'),\n",
       " ('Visualization with', 'Flow_visualization'),\n",
       " ('Visualization with', 'Geovisualization'),\n",
       " ('Visualization with', 'Illustration'),\n",
       " ('Visualization with', 'Information_graphics'),\n",
       " ('Visualization with', 'Data_visualization'),\n",
       " ('Visualization with', 'Information_visualization'),\n",
       " ('Visualization with', 'Interactive_visualization'),\n",
       " ('Visualization with', 'Music_visualization'),\n",
       " ('Visualization with', 'Scientific_visualization'),\n",
       " ('Visualization with', 'Security_visualisation'),\n",
       " ('Visualization with', 'Software_visualization'),\n",
       " ('Visualization with', 'Visualization_(computer_graphics)'),\n",
       " ('Visualization with', 'Visulation'),\n",
       " ('Visualization with', 'Guided_imagery'),\n",
       " ('Visualization with', 'List_of_graphical_methods'),\n",
       " ('Visualization with', 'Image'),\n",
       " ('Visualization with', 'Mental_image'),\n",
       " ('Visualization with', 'Previsualization'),\n",
       " ('Visualization with', 'Spatial_visualization_ability'),\n",
       " ('Visualization with', 'Visual_communication'),\n",
       " ('Visualization with', 'Visual_perception'),\n",
       " ('Visualization with', 'Visual_rhetoric'),\n",
       " ('Visualization with', 'Visual_system'),\n",
       " ('Visualization with', 'Visual_thinking'),\n",
       " ('Data Visualization with d3.js', 'Visualization with d3.js'),\n",
       " ('with d3.js', 'D3.js'),\n",
       " ('Data Visualization with d3.js', 'Data Visualization with'),\n",
       " ('Data Visualization with', 'Visualization with'),\n",
       " ('Visualization with', 'Carl_Johannes_With'),\n",
       " ('Visualization with', 'With_(character)'),\n",
       " ('Visualization with', 'With_(novel)'),\n",
       " ('Visualization with', 'With_(album)'),\n",
       " ('Visualization with', 'WITH_(FM)'),\n",
       " ('Visualization with', 'WRBS_(AM)'),\n",
       " ('Visualization with', 'WZFT'),\n",
       " ('with d3.js', 'Carl_Johannes_With'),\n",
       " ('with d3.js', 'With_(character)'),\n",
       " ('with d3.js', 'With_(novel)'),\n",
       " ('with d3.js', 'With_(album)'),\n",
       " ('with d3.js', 'WITH_(FM)'),\n",
       " ('with d3.js', 'WRBS_(AM)'),\n",
       " ('with d3.js', 'WZFT')]"
      ]
     },
     "execution_count": 13,
     "metadata": {},
     "output_type": "execute_result"
    }
   ],
   "source": [
    "expanded_edges"
   ]
  },
  {
   "cell_type": "markdown",
   "metadata": {},
   "source": [
    "### 6. Get list of nodes allowed to be at the graph\n",
    "Those are the articles candidates and the disambiguation links"
   ]
  },
  {
   "cell_type": "code",
   "execution_count": 14,
   "metadata": {},
   "outputs": [
    {
     "data": {
      "text/plain": [
       "{'Carl_Johannes_With',\n",
       " 'Creative_visualization',\n",
       " 'D3.js',\n",
       " 'Data',\n",
       " 'Data Visualization with',\n",
       " 'Data Visualization with d3.js',\n",
       " 'Data_visualization',\n",
       " 'Flow_visualization',\n",
       " 'Geovisualization',\n",
       " 'Guided_imagery',\n",
       " 'Illustration',\n",
       " 'Image',\n",
       " 'Information_graphics',\n",
       " 'Information_visualization',\n",
       " 'Interactive_visualization',\n",
       " 'List_of_graphical_methods',\n",
       " 'Mental_image',\n",
       " 'Motor_imagery',\n",
       " 'Music_visualization',\n",
       " 'Previsualization',\n",
       " 'Scientific_visualization',\n",
       " 'Security_visualisation',\n",
       " 'Software_visualization',\n",
       " 'Spatial_visualization_ability',\n",
       " 'Visual_communication',\n",
       " 'Visual_perception',\n",
       " 'Visual_rhetoric',\n",
       " 'Visual_system',\n",
       " 'Visual_thinking',\n",
       " 'Visualization with',\n",
       " 'Visualization with d3.js',\n",
       " 'Visualization_(computer_graphics)',\n",
       " 'Visulation',\n",
       " 'WITH_(FM)',\n",
       " 'WRBS_(AM)',\n",
       " 'WZFT',\n",
       " 'With_(album)',\n",
       " 'With_(character)',\n",
       " 'With_(novel)',\n",
       " 'with d3.js'}"
      ]
     },
     "execution_count": 14,
     "metadata": {},
     "output_type": "execute_result"
    }
   ],
   "source": [
    "allowed_nodes = set()\n",
    "\n",
    "for n1, n2 in expanded_edges:\n",
    "    allowed_nodes.add(n1)\n",
    "    allowed_nodes.add(n2)\n",
    "\n",
    "allowed_nodes"
   ]
  },
  {
   "cell_type": "markdown",
   "metadata": {},
   "source": [
    "### 7. Complement expanded edges with the articles links"
   ]
  },
  {
   "cell_type": "code",
   "execution_count": 15,
   "metadata": {},
   "outputs": [
    {
     "data": {
      "text/plain": [
       "[('Data_visualization', 'Visual_communication'),\n",
       " ('Data_visualization', 'Visual_system'),\n",
       " ('Data_visualization', 'Data'),\n",
       " ('Data_visualization', 'Information_graphics'),\n",
       " ('Data_visualization', 'Information_visualization'),\n",
       " ('Data_visualization', 'Scientific_visualization'),\n",
       " ('Data_visualization', 'D3.js'),\n",
       " ('Data_visualization', 'Information_graphics'),\n",
       " ('Data_visualization', 'Data'),\n",
       " ('Data_visualization', 'Information_visualization'),\n",
       " ('D3.js', 'Data_visualization'),\n",
       " ('Data', 'Data_visualization')]"
      ]
     },
     "execution_count": 15,
     "metadata": {},
     "output_type": "execute_result"
    }
   ],
   "source": [
    "art_links = list()\n",
    "for art_candidates in wiki_articles.values():\n",
    "    for art in art_candidates:\n",
    "        try: #Use try block because if the art is not wikiarticle it will throw exception\n",
    "            for link_href, _ in art.links():\n",
    "                if link_href in allowed_nodes:\n",
    "                   art_links.append((str(art), str(link_href)))\n",
    "        except:\n",
    "            pass\n",
    "        \n",
    "art_links"
   ]
  },
  {
   "cell_type": "code",
   "execution_count": 16,
   "metadata": {},
   "outputs": [
    {
     "data": {
      "text/plain": [
       "[('Visualization with', 'Data_visualization'),\n",
       " ('Visualization with', 'Software_visualization'),\n",
       " ('Data_visualization', 'D3.js'),\n",
       " ('D3.js', 'Data_visualization'),\n",
       " ('Data_visualization', 'Flow_visualization'),\n",
       " ('Data_visualization', 'Interactive_visualization'),\n",
       " ('Data_visualization', 'Spatial_visualization_ability'),\n",
       " ('Visualization with', 'Visual_system'),\n",
       " ('Visualization with', 'WZFT'),\n",
       " ('Visualization with d3.js', 'with d3.js'),\n",
       " ('Visualization with', 'Previsualization'),\n",
       " ('Visualization with', 'Music_visualization'),\n",
       " ('Visualization with', 'Visualization_(computer_graphics)'),\n",
       " ('Visualization with', 'With_(album)'),\n",
       " ('Data_visualization', 'Visulation'),\n",
       " ('Data_visualization', 'Visual_communication'),\n",
       " ('Visualization with', 'With_(character)'),\n",
       " ('with d3.js', 'With_(novel)'),\n",
       " ('Visualization with', 'Creative_visualization'),\n",
       " ('Data_visualization', 'Security_visualisation'),\n",
       " ('Data_visualization', 'Guided_imagery'),\n",
       " ('Visualization with', 'Mental_image'),\n",
       " ('Data_visualization', 'Geovisualization'),\n",
       " ('Visualization with', 'Information_graphics'),\n",
       " ('with d3.js', 'WRBS_(AM)'),\n",
       " ('Visualization with', 'Spatial_visualization_ability'),\n",
       " ('Data_visualization', 'Visual_system'),\n",
       " ('Visualization with', 'Visual_thinking'),\n",
       " ('Data_visualization', 'Motor_imagery'),\n",
       " ('Data_visualization', 'Music_visualization'),\n",
       " ('Data_visualization', 'Visualization_(computer_graphics)'),\n",
       " ('with d3.js', 'Carl_Johannes_With'),\n",
       " ('Visualization with', 'Image'),\n",
       " ('Data_visualization', 'Visual_rhetoric'),\n",
       " ('Visualization with', 'Illustration'),\n",
       " ('Visualization with', 'Information_visualization'),\n",
       " ('Data Visualization with d3.js', 'Visualization with d3.js'),\n",
       " ('with d3.js', 'WITH_(FM)'),\n",
       " ('with d3.js', 'With_(character)'),\n",
       " ('Visualization with', 'List_of_graphical_methods'),\n",
       " ('Data_visualization', 'Visual_thinking'),\n",
       " ('Visualization with', 'Motor_imagery'),\n",
       " ('with d3.js', 'D3.js'),\n",
       " ('Visualization with', 'WRBS_(AM)'),\n",
       " ('Data_visualization', 'Mental_image'),\n",
       " ('Visualization with', 'Geovisualization'),\n",
       " ('Data_visualization', 'Information_visualization'),\n",
       " ('Data_visualization', 'Scientific_visualization'),\n",
       " ('Data_visualization', 'Illustration'),\n",
       " ('Visualization with', 'Carl_Johannes_With'),\n",
       " ('Visualization with', 'Guided_imagery'),\n",
       " ('Visualization with', 'WITH_(FM)'),\n",
       " ('Data_visualization', 'Image'),\n",
       " ('Visualization with', 'Visual_rhetoric'),\n",
       " ('Data Visualization with d3.js', 'Data Visualization with'),\n",
       " ('Data_visualization', 'Visual_perception'),\n",
       " ('Visualization with', 'With_(novel)'),\n",
       " ('Data_visualization', 'Data'),\n",
       " ('Visualization with', 'Interactive_visualization'),\n",
       " ('Data_visualization', 'List_of_graphical_methods'),\n",
       " ('Data_visualization', 'Software_visualization'),\n",
       " ('Data Visualization with', 'Data_visualization'),\n",
       " ('with d3.js', 'WZFT'),\n",
       " ('Visualization with d3.js', 'Visualization with'),\n",
       " ('Visualization with', 'Flow_visualization'),\n",
       " ('Visualization with', 'Scientific_visualization'),\n",
       " ('Visualization with', 'Visulation'),\n",
       " ('with d3.js', 'With_(album)'),\n",
       " ('Data_visualization', 'Previsualization'),\n",
       " ('Data_visualization', 'Creative_visualization'),\n",
       " ('Visualization with', 'Visual_perception'),\n",
       " ('Visualization with', 'Security_visualisation'),\n",
       " ('Data_visualization', 'Information_graphics'),\n",
       " ('Visualization with', 'Visual_communication'),\n",
       " ('Data Visualization with', 'Visualization with'),\n",
       " ('Data', 'Data_visualization')]"
      ]
     },
     "execution_count": 16,
     "metadata": {},
     "output_type": "execute_result"
    }
   ],
   "source": [
    "full_edges = list(set(art_links + expanded_edges))\n",
    "\n",
    "full_edges"
   ]
  },
  {
   "cell_type": "markdown",
   "metadata": {},
   "source": [
    "### 8. Create graph with the edges"
   ]
  },
  {
   "cell_type": "code",
   "execution_count": 17,
   "metadata": {},
   "outputs": [
    {
     "data": {
      "text/plain": [
       "[('Data Visualization with', 'Data_visualization'),\n",
       " ('Data Visualization with', 'Visualization with'),\n",
       " ('Visualization with', 'With_(novel)'),\n",
       " ('Visualization with', 'Geovisualization'),\n",
       " ('Visualization with', 'Spatial_visualization_ability'),\n",
       " ('Visualization with', 'Motor_imagery'),\n",
       " ('Visualization with', 'Software_visualization'),\n",
       " ('Visualization with', 'WITH_(FM)'),\n",
       " ('Visualization with', 'Scientific_visualization'),\n",
       " ('Visualization with', 'Music_visualization'),\n",
       " ('Visualization with', 'Visual_perception'),\n",
       " ('Visualization with', 'Creative_visualization'),\n",
       " ('Visualization with', 'Visual_rhetoric'),\n",
       " ('Visualization with', 'With_(character)'),\n",
       " ('Visualization with', 'Previsualization'),\n",
       " ('Visualization with', 'Information_graphics'),\n",
       " ('Visualization with', 'Information_visualization'),\n",
       " ('Visualization with', 'Security_visualisation'),\n",
       " ('Visualization with', 'WZFT'),\n",
       " ('Visualization with', 'Flow_visualization'),\n",
       " ('Visualization with', 'Interactive_visualization'),\n",
       " ('Visualization with', 'Visual_thinking'),\n",
       " ('Visualization with', 'WRBS_(AM)'),\n",
       " ('Visualization with', 'Mental_image'),\n",
       " ('Visualization with', 'List_of_graphical_methods'),\n",
       " ('Visualization with', 'Visualization_(computer_graphics)'),\n",
       " ('Visualization with', 'Image'),\n",
       " ('Visualization with', 'Illustration'),\n",
       " ('Visualization with', 'Visual_system'),\n",
       " ('Visualization with', 'Visual_communication'),\n",
       " ('Visualization with', 'With_(album)'),\n",
       " ('Visualization with', 'Carl_Johannes_With'),\n",
       " ('Visualization with', 'Visulation'),\n",
       " ('Visualization with', 'Data_visualization'),\n",
       " ('Visualization with', 'Guided_imagery'),\n",
       " ('Data_visualization', 'Visual_perception'),\n",
       " ('Data_visualization', 'Geovisualization'),\n",
       " ('Data_visualization', 'Spatial_visualization_ability'),\n",
       " ('Data_visualization', 'Motor_imagery'),\n",
       " ('Data_visualization', 'Software_visualization'),\n",
       " ('Data_visualization', 'Scientific_visualization'),\n",
       " ('Data_visualization', 'Visualization_(computer_graphics)'),\n",
       " ('Data_visualization', 'Illustration'),\n",
       " ('Data_visualization', 'Creative_visualization'),\n",
       " ('Data_visualization', 'Visual_rhetoric'),\n",
       " ('Data_visualization', 'Previsualization'),\n",
       " ('Data_visualization', 'Information_graphics'),\n",
       " ('Data_visualization', 'Flow_visualization'),\n",
       " ('Data_visualization', 'Security_visualisation'),\n",
       " ('Data_visualization', 'Interactive_visualization'),\n",
       " ('Data_visualization', 'Visual_thinking'),\n",
       " ('Data_visualization', 'D3.js'),\n",
       " ('Data_visualization', 'List_of_graphical_methods'),\n",
       " ('Data_visualization', 'Music_visualization'),\n",
       " ('Data_visualization', 'Image'),\n",
       " ('Data_visualization', 'Information_visualization'),\n",
       " ('Data_visualization', 'Visual_system'),\n",
       " ('Data_visualization', 'Visual_communication'),\n",
       " ('Data_visualization', 'Data'),\n",
       " ('Data_visualization', 'Visulation'),\n",
       " ('Data_visualization', 'Mental_image'),\n",
       " ('Data_visualization', 'Guided_imagery'),\n",
       " ('Data Visualization with d3.js', 'Visualization with d3.js'),\n",
       " ('Data Visualization with d3.js', 'Data Visualization with'),\n",
       " ('Data', 'Data_visualization'),\n",
       " ('Visualization with d3.js', 'Visualization with'),\n",
       " ('Visualization with d3.js', 'with d3.js'),\n",
       " ('with d3.js', 'With_(album)'),\n",
       " ('with d3.js', 'WITH_(FM)'),\n",
       " ('with d3.js', 'WZFT'),\n",
       " ('with d3.js', 'Carl_Johannes_With'),\n",
       " ('with d3.js', 'With_(character)'),\n",
       " ('with d3.js', 'WRBS_(AM)'),\n",
       " ('with d3.js', 'D3.js'),\n",
       " ('with d3.js', 'With_(novel)'),\n",
       " ('D3.js', 'Data_visualization')]"
      ]
     },
     "execution_count": 17,
     "metadata": {},
     "output_type": "execute_result"
    }
   ],
   "source": [
    "graph = nx.DiGraph()\n",
    "for edge in full_edges:\n",
    "   graph.add_edge(*edge) \n",
    "\n",
    "graph.edges()"
   ]
  },
  {
   "cell_type": "markdown",
   "metadata": {},
   "source": [
    "### 9. Generate combinations of articles presences"
   ]
  },
  {
   "cell_type": "code",
   "execution_count": null,
   "metadata": {
    "collapsed": true
   },
   "outputs": [],
   "source": [
    "keep working here\n",
    "\n",
    "we need to generate combinations of existing articles taking into account the hierarquical diagram\n",
    "\n",
    "and everything that comes before the articles must remain for discount on pagerank\n",
    "\n",
    "for debug we must print every pagerank for every combination to ensure the algorithm is working properly"
   ]
  },
  {
   "cell_type": "code",
   "execution_count": 29,
   "metadata": {
    "collapsed": true
   },
   "outputs": [],
   "source": [
    "#nx.bfs_predecessors(graph, source='Data Visualization with d3.js')"
   ]
  },
  {
   "cell_type": "code",
   "execution_count": null,
   "metadata": {
    "collapsed": true
   },
   "outputs": [],
   "source": [
    "past_nodes = set()\n",
    "nodes_combinations = list()\n",
    "\n",
    "def iterate_thru_hngrams(hngrams):\n",
    "    for ngram, ngram_childs in hngrams.items():\n",
    "        ngram_candidate = wiki_articles[ngram]\n",
    "        #Check if the ngram is a valid article\n",
    "        if len(ngram_candidate)\n"
   ]
  },
  {
   "cell_type": "code",
   "execution_count": null,
   "metadata": {
    "collapsed": true
   },
   "outputs": [],
   "source": [
    "def hierarq_ngrams_to_edges22(hierarq_ngrams):\n",
    "    edges = list()\n",
    "    for n1, n1_child in hierarq_ngrams.items():\n",
    "        for n2 in n1_child:\n",
    "            edges.append((n1, n2))\n",
    "\n",
    "        edges += hierarq_ngrams_to_edges(n1_child)\n",
    "\n",
    "    return edges"
   ]
  },
  {
   "cell_type": "code",
   "execution_count": 38,
   "metadata": {
    "collapsed": true
   },
   "outputs": [],
   "source": [
    "succrs = nx.bfs_successors(graph, 'Data Visualization with d3.js')"
   ]
  },
  {
   "cell_type": "code",
   "execution_count": null,
   "metadata": {
    "collapsed": true
   },
   "outputs": [],
   "source": []
  },
  {
   "cell_type": "code",
   "execution_count": 54,
   "metadata": {},
   "outputs": [
    {
     "data": {
      "text/plain": [
       "{'Data Visualization with d3.js': {'Data Visualization with': {'Data Visualization': {'Data': {},\n",
       "    'Visualization': {}},\n",
       "   'Visualization with': {'Visualization': {}, 'with': {}}},\n",
       "  'Visualization with d3.js': {'Visualization with': {'Visualization': {},\n",
       "    'with': {}},\n",
       "   'with d3.js': {'d3.js': {}, 'with': {}}}}}"
      ]
     },
     "execution_count": 54,
     "metadata": {},
     "output_type": "execute_result"
    }
   ],
   "source": [
    "text_ngrams"
   ]
  },
  {
   "cell_type": "code",
   "execution_count": 55,
   "metadata": {},
   "outputs": [
    {
     "data": {
      "text/plain": [
       "['Data Visualization with d3.js']"
      ]
     },
     "execution_count": 55,
     "metadata": {},
     "output_type": "execute_result"
    }
   ],
   "source": [
    "wiki_articles['Data Visualization with d3.js']"
   ]
  },
  {
   "cell_type": "code",
   "execution_count": 58,
   "metadata": {},
   "outputs": [
    {
     "data": {
      "text/plain": [
       "['Data Visualization with', 'Visualization with d3.js']"
      ]
     },
     "execution_count": 58,
     "metadata": {},
     "output_type": "execute_result"
    }
   ],
   "source": [
    "for ngram in text_ngrams['Data Visualization with d3.js'].keys():\n",
    "    \n",
    "    "
   ]
  },
  {
   "cell_type": "code",
   "execution_count": 36,
   "metadata": {},
   "outputs": [
    {
     "data": {
      "text/plain": [
       "{'Data Visualization with d3.js': {'Data Visualization with': {'Data Visualization': {'Data': {},\n",
       "    'Visualization': {}},\n",
       "   'Visualization with': {'Visualization': {}, 'with': {}}},\n",
       "  'Visualization with d3.js': {'Visualization with': {'Visualization': {},\n",
       "    'with': {}},\n",
       "   'with d3.js': {'d3.js': {}, 'with': {}}}}}"
      ]
     },
     "execution_count": 36,
     "metadata": {},
     "output_type": "execute_result"
    }
   ],
   "source": [
    "text_ngrams"
   ]
  },
  {
   "cell_type": "code",
   "execution_count": 35,
   "metadata": {},
   "outputs": [
    {
     "data": {
      "text/plain": [
       "['Carl_Johannes_With',\n",
       " 'With_(character)',\n",
       " 'With_(novel)',\n",
       " 'With_(album)',\n",
       " 'WITH_(FM)',\n",
       " 'WRBS_(AM)',\n",
       " 'WZFT',\n",
       " 'Visualization with d3.js',\n",
       " Data_visualization,\n",
       " 'Data Visualization with',\n",
       " 'Visualization with',\n",
       " D3.js,\n",
       " 'with d3.js',\n",
       " 'Mental_image',\n",
       " 'Creative_visualization',\n",
       " 'Motor_imagery',\n",
       " 'Flow_visualization',\n",
       " 'Geovisualization',\n",
       " 'Illustration',\n",
       " 'Information_graphics',\n",
       " 'Data_visualization',\n",
       " 'Information_visualization',\n",
       " 'Interactive_visualization',\n",
       " 'Music_visualization',\n",
       " 'Scientific_visualization',\n",
       " 'Security_visualisation',\n",
       " 'Software_visualization',\n",
       " 'Visualization_(computer_graphics)',\n",
       " 'Visulation',\n",
       " 'Guided_imagery',\n",
       " 'List_of_graphical_methods',\n",
       " 'Image',\n",
       " 'Mental_image',\n",
       " 'Previsualization',\n",
       " 'Spatial_visualization_ability',\n",
       " 'Visual_communication',\n",
       " 'Visual_perception',\n",
       " 'Visual_rhetoric',\n",
       " 'Visual_system',\n",
       " 'Visual_thinking',\n",
       " 'Data Visualization with d3.js',\n",
       " Data]"
      ]
     },
     "execution_count": 35,
     "metadata": {},
     "output_type": "execute_result"
    }
   ],
   "source": [
    "true_articles = list()\n",
    "for candidates in wiki_articles.values():\n",
    "    if len(candidates) > 1:\n",
    "        true_articles += candidates\n",
    "    elif type(candidates[0]) != \"str\":\n",
    "        true_articles.append(candidates[0])\n",
    "\n",
    "true_articles"
   ]
  },
  {
   "cell_type": "markdown",
   "metadata": {},
   "source": [
    "### 6. Construct graph of candidate articles and links"
   ]
  },
  {
   "cell_type": "code",
   "execution_count": 52,
   "metadata": {
    "collapsed": true
   },
   "outputs": [],
   "source": [
    "#Create graph\n",
    "digraph = nx.DiGraph()\n",
    "\n",
    "for candidate in wiki_articles.values():\n",
    "    if candidate._is_disamb_page:\n",
    "        continue\n",
    "    \n",
    "    cand_url = get_wikipedia_page_url(candidate.title())\n",
    "    for link_href, link_text in candidate.links():\n",
    "        if link_href in allowed_nodes:\n",
    "            digraph.add_edge(cand_url, link_href)"
   ]
  },
  {
   "cell_type": "markdown",
   "metadata": {},
   "source": [
    "### 7. Choose eligible nodes based on a set of weakly connected nodes"
   ]
  },
  {
   "cell_type": "code",
   "execution_count": 83,
   "metadata": {},
   "outputs": [
    {
     "data": {
      "text/plain": [
       "[{'Consumer', 'Ecology', 'Environmentalism', 'Good', 'Ontology', 'Utility'},\n",
       " {'1',\n",
       "  '2',\n",
       "  '3',\n",
       "  '4',\n",
       "  '5',\n",
       "  '6',\n",
       "  'Andromeda_(constellation)',\n",
       "  'Animation',\n",
       "  'Black',\n",
       "  'Black_magic',\n",
       "  'Book_of_Genesis',\n",
       "  'Built_environment',\n",
       "  'Cascading_Style_Sheets',\n",
       "  'Causality',\n",
       "  'D3.js',\n",
       "  'Data',\n",
       "  'Data_visualization',\n",
       "  'Dice',\n",
       "  'Document_Object_Model',\n",
       "  'Environmental_determinism',\n",
       "  'Epidemiology',\n",
       "  'Geography',\n",
       "  'Histogram',\n",
       "  'Information_graphics',\n",
       "  'Information_visualization',\n",
       "  'Interaction',\n",
       "  'Kabbalah',\n",
       "  'Magic_(paranormal)',\n",
       "  'Natural_environment',\n",
       "  'Old_Norse',\n",
       "  'Page_layout',\n",
       "  'Professional_wrestling',\n",
       "  'Relative_direction',\n",
       "  'Scalable_Vector_Graphics',\n",
       "  'Scientific_visualization',\n",
       "  'Social_media',\n",
       "  'Time',\n",
       "  'Up_(2009_film)',\n",
       "  'Visual_communication',\n",
       "  'Visual_system',\n",
       "  'Web_browser_engine'},\n",
       " {'A',\n",
       "  'English_articles',\n",
       "  'Icelandic_language',\n",
       "  'The',\n",
       "  'Upper_Peninsula_of_Michigan',\n",
       "  'You'},\n",
       " {'Design', 'Environment_(systems)', 'Thought'},\n",
       " {'Copula_(linguistics)', 'English_modal_verbs'}]"
      ]
     },
     "execution_count": 83,
     "metadata": {},
     "output_type": "execute_result"
    }
   ],
   "source": [
    "list(nx.weakly_connected_components(digraph))"
   ]
  },
  {
   "cell_type": "code",
   "execution_count": 28,
   "metadata": {
    "collapsed": true
   },
   "outputs": [],
   "source": [
    "eligible_nodes = set()\n",
    "for weak_con_set in nx.weakly_connected_components(graph):\n",
    "    if len(weak_con_set) > len(eligible_nodes):\n",
    "        eligible_nodes = weak_con_set"
   ]
  },
  {
   "cell_type": "code",
   "execution_count": 29,
   "metadata": {},
   "outputs": [
    {
     "data": {
      "text/plain": [
       "{'1',\n",
       " '2',\n",
       " '3',\n",
       " '4',\n",
       " '5',\n",
       " '6',\n",
       " 'Andromeda_(constellation)',\n",
       " 'Animation',\n",
       " 'Black',\n",
       " 'Black_magic',\n",
       " 'Book_of_Genesis',\n",
       " 'Built_environment',\n",
       " 'Cascading_Style_Sheets',\n",
       " 'Causality',\n",
       " 'D3.js',\n",
       " 'Data',\n",
       " 'Data_visualization',\n",
       " 'Dice',\n",
       " 'Document_Object_Model',\n",
       " 'Environmental_determinism',\n",
       " 'Epidemiology',\n",
       " 'Geography',\n",
       " 'Histogram',\n",
       " 'Information_graphics',\n",
       " 'Information_visualization',\n",
       " 'Interaction',\n",
       " 'Kabbalah',\n",
       " 'Magic_(paranormal)',\n",
       " 'Natural_environment',\n",
       " 'Old_Norse',\n",
       " 'Page_layout',\n",
       " 'Professional_wrestling',\n",
       " 'Relative_direction',\n",
       " 'Scalable_Vector_Graphics',\n",
       " 'Scientific_visualization',\n",
       " 'Social_media',\n",
       " 'Time',\n",
       " 'Up_(2009_film)',\n",
       " 'Visual_communication',\n",
       " 'Visual_system',\n",
       " 'Web_browser_engine'}"
      ]
     },
     "execution_count": 29,
     "metadata": {},
     "output_type": "execute_result"
    }
   ],
   "source": [
    "eligible_nodes"
   ]
  },
  {
   "cell_type": "markdown",
   "metadata": {},
   "source": [
    "### 8. Resolve disambiguation pages"
   ]
  },
  {
   "cell_type": "code",
   "execution_count": 31,
   "metadata": {},
   "outputs": [
    {
     "data": {
      "text/plain": [
       "defaultdict(set,\n",
       "            {Up: {'Relative_direction', 'Up_(2009_film)'},\n",
       "             Some: {'Social_media'},\n",
       "             Chapter Four: {'Book_of_Genesis'},\n",
       "             Why: {'Causality'},\n",
       "             What: {'Professional_wrestling'},\n",
       "             Magic: {'Magic_(paranormal)'},\n",
       "             And: {'Andromeda_(constellation)'},\n",
       "             Environment: {'Built_environment',\n",
       "              'Environmental_determinism',\n",
       "              'Epidemiology',\n",
       "              'Natural_environment'},\n",
       "             Receiving: {'Kabbalah'},\n",
       "             Dom: {'Document_Object_Model'},\n",
       "             On: {'Old_Norse'},\n",
       "             D3: {'D3.js', 'Dice'},\n",
       "             Layout: {'Page_layout', 'Web_browser_engine'},\n",
       "             Visualization: {'Data_visualization',\n",
       "              'Information_graphics',\n",
       "              'Information_visualization',\n",
       "              'Scientific_visualization',\n",
       "              'Visual_communication',\n",
       "              'Visual_system'}})"
      ]
     },
     "execution_count": 31,
     "metadata": {},
     "output_type": "execute_result"
    }
   ],
   "source": [
    "from collections import defaultdict\n",
    "disamb_resolve_dict = defaultdict(set)\n",
    "\n",
    "for article in wiki_articles.values():\n",
    "    if not article._is_disamb_page:\n",
    "        continue\n",
    "    \n",
    "    for link_href, _ in article.links():\n",
    "        if link_href in eligible_nodes:\n",
    "            disamb_resolve_dict[article].add(link_href)\n",
    "    \n",
    "disamb_resolve_dict    "
   ]
  },
  {
   "cell_type": "code",
   "execution_count": 45,
   "metadata": {},
   "outputs": [
    {
     "name": "stdout",
     "output_type": "stream",
     "text": [
      "Up\n",
      "Up_(2009_film) 0.017543859649122806  -  0.0  -  0.025613303680563203\n",
      "Relative_direction 0.017543859649122806  -  0.0  -  0.01585067761213782\n",
      " \n",
      "Environment\n",
      "Natural_environment 0.017543859649122806  -  0.0  -  0.01336297155823371\n",
      "Built_environment 0.017543859649122806  -  0.0  -  0.01336297155823371\n",
      "Epidemiology 0.017543859649122806  -  0.0  -  0.01336297155823371\n",
      "Environmental_determinism 0.017543859649122806  -  0.0  -  0.01336297155823371\n",
      " \n",
      "D3\n",
      "Dice 0.017543859649122806  -  0.0  -  0.015612011751413492\n",
      "D3.js 0.017543859649122806  -  0.07017543859649122  -  0.014165257629840325\n",
      " \n",
      "Layout\n",
      "Page_layout 0.017543859649122806  -  0.0  -  0.015608935551758681\n",
      "Web_browser_engine 0.017543859649122806  -  0.0  -  0.015608935551758681\n",
      " \n",
      "Visualization\n",
      "Visual_communication 0.017543859649122806  -  0.0  -  0.014165257629840325\n",
      "Information_visualization 0.017543859649122806  -  0.0  -  0.014165257629840325\n",
      "Information_graphics 0.017543859649122806  -  0.0  -  0.014165257629840325\n",
      "Scientific_visualization 0.017543859649122806  -  0.0  -  0.014165257629840325\n",
      "Data_visualization 0.03508771929824561  -  0.17543859649122806  -  0.032278790015571324\n",
      "Visual_system 0.017543859649122806  -  0.0  -  0.014165257629840325\n",
      " \n"
     ]
    }
   ],
   "source": [
    "for cand_text, cand_disamb in disamb_resolve_dict.items():\n",
    "    if len(cand_disamb) > 1:\n",
    "        print(cand_text)\n",
    "        for c in cand_disamb:\n",
    "            print(c, \n",
    "                  nx.in_degree_centrality(graph)[c], \" - \",\n",
    "                  nx.out_degree_centrality(graph)[c], \" - \",\n",
    "                  nx.pagerank(graph)[c])\n",
    "        print(\" \")"
   ]
  },
  {
   "cell_type": "code",
   "execution_count": 92,
   "metadata": {},
   "outputs": [
    {
     "data": {
      "text/plain": [
       "[]"
      ]
     },
     "execution_count": 92,
     "metadata": {},
     "output_type": "execute_result"
    }
   ],
   "source": [
    "digraph.edges('Dice')"
   ]
  },
  {
   "cell_type": "code",
   "execution_count": 84,
   "metadata": {},
   "outputs": [
    {
     "data": {
      "text/plain": [
       "[('Utility', 'Consumer'),\n",
       " ('Black', 'Interaction'),\n",
       " ('Black', 'Black'),\n",
       " ('Black', 'Black_magic'),\n",
       " ('6', '5'),\n",
       " ('6', 'Dice'),\n",
       " ('6', 'Book_of_Genesis'),\n",
       " ('Scalable_Vector_Graphics', 'Animation'),\n",
       " ('Scalable_Vector_Graphics', 'Document_Object_Model'),\n",
       " ('Scalable_Vector_Graphics', 'Cascading_Style_Sheets'),\n",
       " ('Geography', 'Natural_environment'),\n",
       " ('Geography', 'Interaction'),\n",
       " ('Geography', 'Built_environment'),\n",
       " ('Geography', 'Environmental_determinism'),\n",
       " ('Geography', 'Epidemiology'),\n",
       " ('3', 'Professional_wrestling'),\n",
       " ('3', '4'),\n",
       " ('3', '2'),\n",
       " ('3', 'Kabbalah'),\n",
       " ('Design', 'Thought'),\n",
       " ('Design', 'Environment_(systems)'),\n",
       " ('4', '3'),\n",
       " ('4', '5'),\n",
       " ('4', 'Time'),\n",
       " ('4', 'Book_of_Genesis'),\n",
       " ('A', 'English_articles'),\n",
       " ('Data_visualization', 'Scientific_visualization'),\n",
       " ('Data_visualization', 'D3.js'),\n",
       " ('Data_visualization', 'Visual_communication'),\n",
       " ('Data_visualization', 'Information_visualization'),\n",
       " ('Data_visualization', 'Data'),\n",
       " ('Data_visualization', 'Information_graphics'),\n",
       " ('Data_visualization', 'Visual_system'),\n",
       " ('Data_visualization', 'Social_media'),\n",
       " ('Data_visualization', 'Histogram'),\n",
       " ('Data_visualization', 'Causality'),\n",
       " ('1', 'Data'),\n",
       " ('1', 'Old_Norse'),\n",
       " ('D3.js', 'Data_visualization'),\n",
       " ('D3.js', 'Document_Object_Model'),\n",
       " ('D3.js', 'Scalable_Vector_Graphics'),\n",
       " ('D3.js', 'Cascading_Style_Sheets'),\n",
       " ('English_modal_verbs', 'Copula_(linguistics)'),\n",
       " ('5', 'Andromeda_(constellation)'),\n",
       " ('5', '3'),\n",
       " ('5', '4'),\n",
       " ('5', '6'),\n",
       " ('5', 'Book_of_Genesis'),\n",
       " ('Good', 'Utility'),\n",
       " ('Good', 'Environmentalism'),\n",
       " ('Good', 'Ontology'),\n",
       " ('Good', 'Ecology'),\n",
       " ('Black_magic', 'Magic_(paranormal)'),\n",
       " ('The', 'Icelandic_language'),\n",
       " ('The', 'English_articles'),\n",
       " ('2', '3'),\n",
       " ('2', '1'),\n",
       " ('2', 'Book_of_Genesis'),\n",
       " ('You', 'Upper_Peninsula_of_Michigan'),\n",
       " ('You', 'The'),\n",
       " ('Cascading_Style_Sheets', 'Document_Object_Model'),\n",
       " ('Cascading_Style_Sheets', 'Page_layout'),\n",
       " ('Cascading_Style_Sheets', 'Scalable_Vector_Graphics'),\n",
       " ('Cascading_Style_Sheets', 'Web_browser_engine'),\n",
       " ('Interaction', 'Causality'),\n",
       " ('Time', 'Causality'),\n",
       " ('Time', 'Kabbalah'),\n",
       " ('Time', 'Relative_direction'),\n",
       " ('Data', 'Data_visualization'),\n",
       " ('Animation', 'Up_(2009_film)')]"
      ]
     },
     "execution_count": 84,
     "metadata": {},
     "output_type": "execute_result"
    }
   ],
   "source": [
    "digraph.edges()"
   ]
  },
  {
   "cell_type": "code",
   "execution_count": null,
   "metadata": {
    "collapsed": true
   },
   "outputs": [],
   "source": [
    "keep working on handling desambiguation pages\n",
    "then elect nodes that will be used\n",
    "and elect nodes for each learn content part"
   ]
  },
  {
   "cell_type": "code",
   "execution_count": null,
   "metadata": {
    "collapsed": true
   },
   "outputs": [],
   "source": []
  },
  {
   "cell_type": "code",
   "execution_count": null,
   "metadata": {
    "collapsed": true
   },
   "outputs": [],
   "source": []
  },
  {
   "cell_type": "code",
   "execution_count": null,
   "metadata": {
    "collapsed": true
   },
   "outputs": [],
   "source": []
  },
  {
   "cell_type": "code",
   "execution_count": null,
   "metadata": {
    "collapsed": true
   },
   "outputs": [],
   "source": []
  },
  {
   "cell_type": "code",
   "execution_count": null,
   "metadata": {
    "collapsed": true
   },
   "outputs": [],
   "source": [
    "graph.edges()"
   ]
  },
  {
   "cell_type": "code",
   "execution_count": 25,
   "metadata": {},
   "outputs": [
    {
     "name": "stdout",
     "output_type": "stream",
     "text": [
      "Working on 1/29\n",
      "Working on 2/29\n",
      "Working on 3/29\n",
      "Working on 4/29\n",
      "Working on 5/29\n",
      "Working on 6/29\n",
      "Working on 7/29\n",
      "Working on 8/29\n",
      "Working on 9/29\n",
      "Working on 10/29\n",
      "Working on 11/29\n",
      "Working on 12/29\n",
      "Working on 13/29\n",
      "Working on 14/29\n",
      "Working on 15/29\n",
      "Working on 16/29\n",
      "Working on 17/29\n",
      "Working on 18/29\n",
      "Working on 19/29\n",
      "Working on 20/29\n",
      "Working on 21/29\n",
      "Working on 22/29\n",
      "Working on 23/29\n",
      "Working on 24/29\n",
      "Working on 25/29\n",
      "Working on 26/29\n",
      "Working on 27/29\n",
      "Working on 28/29\n",
      "Working on 29/29\n"
     ]
    }
   ],
   "source": [
    "lc_contents = unroll_lc_contents(ld[0])\n",
    "candidates = list()\n",
    "for i, lc in enumerate(lc_contents):\n",
    "    print(\"Working on {}/{}\".format(i+1, len(lc_contents)))\n",
    "    candidates += get_text_article_candidates(lc.title)\n",
    "    \n",
    "wdb.save()"
   ]
  },
  {
   "cell_type": "code",
   "execution_count": 60,
   "metadata": {
    "collapsed": true
   },
   "outputs": [],
   "source": [
    "#candidates"
   ]
  },
  {
   "cell_type": "code",
   "execution_count": 48,
   "metadata": {
    "collapsed": true
   },
   "outputs": [],
   "source": [
    "#Generate graph\n",
    "graph = nx.DiGraph()\n",
    "\n",
    "candidates_urls = [get_wikipedia_page_url(cand.title()) for cand in candidates]\n",
    "\n",
    "for cand_url, candidate in zip(candidates_urls, candidates):\n",
    "    for link_href, link_text in candidate.links():\n",
    "        if link_href in candidates_urls:\n",
    "            graph.add_edge(cand_url, link_href)"
   ]
  },
  {
   "cell_type": "code",
   "execution_count": 61,
   "metadata": {},
   "outputs": [
    {
     "name": "stdout",
     "output_type": "stream",
     "text": [
      "Data Visualization with d3.js\n",
      "\t Chapter 1: Getting Started with d3.js\n",
      "\t\t What is d3.js?\n",
      "\t\t Setting up a play environment\n",
      "\t\t A simple histogram\n",
      "\t\t Summary\n",
      "\t Chapter 2: A Primer on DOM, SVG, and CSS\n",
      "\t\t DOM\n",
      "\t\t SVG\n",
      "\t\t CSS\n",
      "\t\t Summary\n",
      "\t Chapter 3: Making Data Useful\n",
      "\t\t Thinking about data functionally\n",
      "\t\t Loading data\n",
      "\t\t Scales\n",
      "\t\t Time\n",
      "\t\t Geography\n",
      "\t\t Summary\n",
      "\t Chapter 4: Making Things Move\n",
      "\t\t Animating with transitions\n",
      "\t\t Interacting with the user\n",
      "\t\t Summary\n",
      "\t Chapter 5: Layouts – d3's Black Magic\n",
      "\t\t What are layouts and why should you care\n",
      "\t\t Summary\n",
      "\t Chapter 6: Designing Good Visualizations\n",
      "\t\t What is a visualization?\n",
      "\t\t Some great examples\n",
      "\t\t Summary\n"
     ]
    }
   ],
   "source": [
    "print_lc_content(ld[0])"
   ]
  },
  {
   "cell_type": "code",
   "execution_count": 85,
   "metadata": {
    "collapsed": true
   },
   "outputs": [],
   "source": [
    "#sorted(candidates[4].links())"
   ]
  },
  {
   "cell_type": "code",
   "execution_count": 86,
   "metadata": {
    "collapsed": true
   },
   "outputs": [],
   "source": [
    "#graph.edges()"
   ]
  },
  {
   "cell_type": "code",
   "execution_count": 90,
   "metadata": {},
   "outputs": [
    {
     "data": {
      "text/plain": [
       "[{'1',\n",
       "  '2',\n",
       "  '3',\n",
       "  '4',\n",
       "  '5',\n",
       "  '6',\n",
       "  'Animation',\n",
       "  'Cascading_Style_Sheets',\n",
       "  'D3',\n",
       "  'D3.js',\n",
       "  'Data',\n",
       "  'Data_visualization',\n",
       "  'Histogram',\n",
       "  'Scalable_Vector_Graphics',\n",
       "  'Time',\n",
       "  'Visualization'},\n",
       " {'Black', 'Black_magic', 'Geography', 'Interaction'},\n",
       " {'The', 'You'},\n",
       " {'Design', 'Thought'},\n",
       " {'Good', 'Utility'}]"
      ]
     },
     "execution_count": 90,
     "metadata": {},
     "output_type": "execute_result"
    }
   ],
   "source": [
    "list(nx.weakly_connected_components(graph))"
   ]
  },
  {
   "cell_type": "code",
   "execution_count": 77,
   "metadata": {},
   "outputs": [
    {
     "name": "stdout",
     "output_type": "stream",
     "text": [
      "D3 0\n",
      "4 2\n",
      "Visualization 0\n",
      "6 1\n",
      "Time 1\n",
      "5 2\n",
      "1 1\n",
      "Histogram 1\n",
      "2 1\n",
      "D3.js 2\n",
      "Animation 1\n",
      "Data 2\n",
      "3 3\n",
      "Cascading_Style_Sheets 2\n",
      "Data_visualization 3\n",
      "Scalable_Vector_Graphics 2\n"
     ]
    }
   ],
   "source": [
    "for node_name in list(nx.weakly_connected_components(graph))[0]:\n",
    "    print(node_name, len(graph.in_edges(node_name)))"
   ]
  },
  {
   "cell_type": "code",
   "execution_count": 87,
   "metadata": {
    "collapsed": true
   },
   "outputs": [],
   "source": [
    "#graph['D3.js']"
   ]
  },
  {
   "cell_type": "code",
   "execution_count": 88,
   "metadata": {
    "collapsed": true
   },
   "outputs": [],
   "source": [
    "#graph.edges()"
   ]
  },
  {
   "cell_type": "code",
   "execution_count": 47,
   "metadata": {
    "collapsed": true
   },
   "outputs": [],
   "source": [
    "#sorted(nx.in_degree_centrality(graph).items(), key=lambda a:a[1], reverse=True)"
   ]
  },
  {
   "cell_type": "code",
   "execution_count": 112,
   "metadata": {
    "collapsed": true
   },
   "outputs": [],
   "source": [
    "import requests\n",
    "\n",
    "def _download_page_data(page, lang, timeout):\n",
    "    \"\"\"Function to retrieve a wikipedia page in html form, with its sections\"\"\"\n",
    "    #import exceptions\n",
    "\n",
    "    #assert isinstance(page, URL)\n",
    "\n",
    "    # https://en.wikipedia.org/w/api.php?action=parse&redirects&page=fluid_mechanics\n",
    "\n",
    "    req_params = [\n",
    "        'action=parse',\n",
    "        'redirects',\n",
    "        'format=json',\n",
    "        'prop=text|displaytitle|categories',\n",
    "        'page=' + page\n",
    "    ]\n",
    "\n",
    "    wikipedia_api_url = \"https://\" + lang + \".wikipedia.org/w/api.php?\" + \"&\".join(req_params)\n",
    "\n",
    "    try:\n",
    "        page_data = requests.get(wikipedia_api_url, timeout=timeout).json()\n",
    "    except requests.exceptions.ConnectTimeout:\n",
    "        raise exceptions.PageRequestTimeout(page, lang, timeout)\n",
    "\n",
    "    #If the object parse is not in the json object, page does not exists\n",
    "    if not 'parse' in page_data:\n",
    "        raise exceptions.PageDoesNotExists(page, lang)\n",
    "\n",
    "    page_title = page_data['parse']['title']\n",
    "    page_id = page_data['parse']['pageid']\n",
    "    page_html = page_data['parse']['text']['*']\n",
    "\n",
    "    #return page, page_title, page_id, page_html\n",
    "    return page_data"
   ]
  },
  {
   "cell_type": "code",
   "execution_count": 129,
   "metadata": {
    "collapsed": true
   },
   "outputs": [],
   "source": [
    "a = _download_page_data(\"mqtt\", \"en\", 60)['parse']['categories']"
   ]
  },
  {
   "cell_type": "code",
   "execution_count": 130,
   "metadata": {},
   "outputs": [
    {
     "data": {
      "text/plain": [
       "[{'*': 'CS1_maint:_Multiple_names:_authors_list', 'hidden': '', 'sortkey': ''},\n",
       " {'*': 'Application_layer_protocols', 'sortkey': ''},\n",
       " {'*': 'Data_transmission', 'sortkey': ''},\n",
       " {'*': 'IBM_WebSphere', 'sortkey': 'MQ'},\n",
       " {'*': 'Message-oriented_middleware', 'sortkey': ''},\n",
       " {'*': 'Network_protocols', 'sortkey': ''},\n",
       " {'*': 'Telemetry', 'sortkey': ''}]"
      ]
     },
     "execution_count": 130,
     "metadata": {},
     "output_type": "execute_result"
    }
   ],
   "source": [
    "a"
   ]
  },
  {
   "cell_type": "code",
   "execution_count": 131,
   "metadata": {
    "collapsed": true
   },
   "outputs": [],
   "source": [
    "def is_disambiguation_page(categories):\n",
    "    for cat in categories:\n",
    "        if cat['*'] == 'Disambiguation_pages':\n",
    "            return True\n",
    "    return False"
   ]
  },
  {
   "cell_type": "code",
   "execution_count": 132,
   "metadata": {},
   "outputs": [
    {
     "data": {
      "text/plain": [
       "False"
      ]
     },
     "execution_count": 132,
     "metadata": {},
     "output_type": "execute_result"
    }
   ],
   "source": [
    "is_disambiguation_page(a)"
   ]
  },
  {
   "cell_type": "code",
   "execution_count": 91,
   "metadata": {},
   "outputs": [
    {
     "ename": "SyntaxError",
     "evalue": "invalid syntax (<ipython-input-91-4f244b6b473b>, line 1)",
     "output_type": "error",
     "traceback": [
      "\u001b[1;36m  File \u001b[1;32m\"<ipython-input-91-4f244b6b473b>\"\u001b[1;36m, line \u001b[1;32m1\u001b[0m\n\u001b[1;33m    we need to check how to handle disambiguation pages such\u001b[0m\n\u001b[1;37m          ^\u001b[0m\n\u001b[1;31mSyntaxError\u001b[0m\u001b[1;31m:\u001b[0m invalid syntax\n"
     ]
    }
   ],
   "source": [
    "we need to check how to handle disambiguation pages such\n",
    "https://en.wikipedia.org/wiki/Dom\n",
    "we could first compare the links that the page return and check if it matches the graph, if so, get the\n",
    "N more matched article links"
   ]
  },
  {
   "cell_type": "code",
   "execution_count": null,
   "metadata": {
    "collapsed": true
   },
   "outputs": [],
   "source": []
  }
 ],
 "metadata": {
  "kernelspec": {
   "display_name": "Python 3",
   "language": "python",
   "name": "python3"
  },
  "language_info": {
   "codemirror_mode": {
    "name": "ipython",
    "version": 3
   },
   "file_extension": ".py",
   "mimetype": "text/x-python",
   "name": "python",
   "nbconvert_exporter": "python",
   "pygments_lexer": "ipython3",
   "version": "3.5.3"
  }
 },
 "nbformat": 4,
 "nbformat_minor": 2
}
