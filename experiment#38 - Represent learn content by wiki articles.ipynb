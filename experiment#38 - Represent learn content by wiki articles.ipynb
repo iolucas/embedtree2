{
 "cells": [
  {
   "cell_type": "markdown",
   "metadata": {},
   "source": [
    "# Experiment #38 - Represent Learn Content By Wiki Articles\n",
    "We aim here to represente each learn content (and its subdivisions) as a set of wikipedia articles in order to have \"blocks\" that the learn content would be made from. We may use articles links as priors to help create these representations."
   ]
  },
  {
   "cell_type": "markdown",
   "metadata": {},
   "source": [
    "maybe use markov models to find the best links<br>\n",
    "keep working on this, creating method to elect candidates for each line description <br>\n",
    "and computing how many words doesn't match anything'"
   ]
  },
  {
   "cell_type": "markdown",
   "metadata": {},
   "source": [
    "## List of heuristics used\n",
    "*Removed puntuactions such \"!.-\" from the text since wikipedia don't often use these in the titles"
   ]
  },
  {
   "cell_type": "code",
   "execution_count": 1,
   "metadata": {},
   "outputs": [
    {
     "name": "stdout",
     "output_type": "stream",
     "text": [
      "Failed to open href_to_pageid.pickle. Created empty dict.\n",
      "Failed to open pageid_to_href.pickle. Created empty dict.\n",
      "Failed to open pageid_to_article.pickle. Created empty dict.\n"
     ]
    }
   ],
   "source": [
    "from wikipydia import wikidb, url\n",
    "\n",
    "import nltk\n",
    "from nltk.tokenize import word_tokenize\n",
    "from nltk.corpus import wordnet as wn\n",
    "#from nltk.util import ngrams\n",
    "\n",
    "from string import punctuation\n",
    "\n",
    "from learndata import LearnContents\n",
    "\n",
    "import networkx as nx\n",
    "\n",
    "from ThreadPool import ThreadPool\n",
    "\n",
    "import urllib\n",
    "\n",
    "#Load learn contents\n",
    "ld = LearnContents()\n",
    "\n",
    "#Load wikipedia local db\n",
    "wdb = wikidb.WikiDb()\n",
    "\n",
    "stopwords = list(punctuation)"
   ]
  },
  {
   "cell_type": "code",
   "execution_count": 2,
   "metadata": {
    "collapsed": true
   },
   "outputs": [],
   "source": [
    "def print_lc_content(lc):\n",
    "    print(lc)\n",
    "    for lc in lc:\n",
    "        print(\"\\t\", lc)\n",
    "        for lc in lc:\n",
    "            print(\"\\t\\t\", lc)"
   ]
  },
  {
   "cell_type": "code",
   "execution_count": 3,
   "metadata": {
    "collapsed": true
   },
   "outputs": [],
   "source": [
    "top_contents = [lc for lc in ld if lc.parent == None]"
   ]
  },
  {
   "cell_type": "markdown",
   "metadata": {},
   "source": [
    "### 1. Unroll learning contents sections into a single list"
   ]
  },
  {
   "cell_type": "code",
   "execution_count": 4,
   "metadata": {
    "collapsed": true
   },
   "outputs": [],
   "source": [
    "def unroll_lc_contents(lc):\n",
    "    contents = [lc]\n",
    "    for lc2 in lc:\n",
    "        #contents.append(lc2)\n",
    "        contents += unroll_lc_contents(lc2)\n",
    "    return contents"
   ]
  },
  {
   "cell_type": "code",
   "execution_count": 5,
   "metadata": {
    "scrolled": true
   },
   "outputs": [
    {
     "data": {
      "text/plain": [
       "[Data Visualization with d3.js,\n",
       " Chapter 1: Getting Started with d3.js,\n",
       " What is d3.js?,\n",
       " Setting up a play environment,\n",
       " A simple histogram,\n",
       " Summary,\n",
       " Chapter 2: A Primer on DOM, SVG, and CSS,\n",
       " DOM,\n",
       " SVG,\n",
       " CSS,\n",
       " Summary,\n",
       " Chapter 3: Making Data Useful,\n",
       " Thinking about data functionally,\n",
       " Loading data,\n",
       " Scales,\n",
       " Time,\n",
       " Geography,\n",
       " Summary,\n",
       " Chapter 4: Making Things Move,\n",
       " Animating with transitions,\n",
       " Interacting with the user,\n",
       " Summary,\n",
       " Chapter 5: Layouts – d3's Black Magic,\n",
       " What are layouts and why should you care,\n",
       " Summary,\n",
       " Chapter 6: Designing Good Visualizations,\n",
       " What is a visualization?,\n",
       " Some great examples,\n",
       " Summary]"
      ]
     },
     "execution_count": 5,
     "metadata": {},
     "output_type": "execute_result"
    }
   ],
   "source": [
    "unrolled_lc = unroll_lc_contents(ld[0])\n",
    "unrolled_lc"
   ]
  },
  {
   "cell_type": "markdown",
   "metadata": {},
   "source": [
    "### 2. Generate dict of ngrams for each content"
   ]
  },
  {
   "cell_type": "code",
   "execution_count": 6,
   "metadata": {
    "collapsed": true
   },
   "outputs": [],
   "source": [
    "def clear_bad_chars(text):\n",
    "    \"\"\"Ensure bad characters (such as '–' that is not a common '-') be removed.\"\"\"\n",
    "    return text.encode(\"ascii\", \"ignore\").decode(\"ascii\")"
   ]
  },
  {
   "cell_type": "code",
   "execution_count": 7,
   "metadata": {
    "collapsed": true
   },
   "outputs": [],
   "source": [
    "def get_ngrams(text, max_ngram_size=-1):\n",
    "    \"\"\"Tokenize text and them return its ngrams.\"\"\"\n",
    "    \n",
    "    tokens = [word for word in word_tokenize(clear_bad_chars(text.strip())) if word not in stopwords]\n",
    "    \n",
    "    if max_ngram_size == -1:\n",
    "        max_ngram_size = len(tokens)\n",
    "    \n",
    "    ngrams_list = list()\n",
    "    for ngram_size in range(1, max_ngram_size+1):\n",
    "        for ngram_tuple in nltk.util.ngrams(tokens, ngram_size):\n",
    "            ngram_text = \" \".join(ngram_tuple)\n",
    "            ngrams_list.append(ngram_text)\n",
    "\n",
    "    return ngrams_list"
   ]
  },
  {
   "cell_type": "code",
   "execution_count": 8,
   "metadata": {},
   "outputs": [
    {
     "data": {
      "text/plain": [
       "{'A simple histogram': ['A',\n",
       "  'simple',\n",
       "  'histogram',\n",
       "  'A simple',\n",
       "  'simple histogram',\n",
       "  'A simple histogram'],\n",
       " 'Animating with transitions': ['Animating',\n",
       "  'with',\n",
       "  'transitions',\n",
       "  'Animating with',\n",
       "  'with transitions',\n",
       "  'Animating with transitions'],\n",
       " 'CSS': ['CSS'],\n",
       " 'Chapter 1: Getting Started with d3.js': ['Chapter',\n",
       "  '1',\n",
       "  'Getting',\n",
       "  'Started',\n",
       "  'with',\n",
       "  'd3.js',\n",
       "  'Chapter 1',\n",
       "  '1 Getting',\n",
       "  'Getting Started',\n",
       "  'Started with',\n",
       "  'with d3.js',\n",
       "  'Chapter 1 Getting',\n",
       "  '1 Getting Started',\n",
       "  'Getting Started with',\n",
       "  'Started with d3.js',\n",
       "  'Chapter 1 Getting Started',\n",
       "  '1 Getting Started with',\n",
       "  'Getting Started with d3.js',\n",
       "  'Chapter 1 Getting Started with',\n",
       "  '1 Getting Started with d3.js',\n",
       "  'Chapter 1 Getting Started with d3.js'],\n",
       " 'Chapter 2: A Primer on DOM, SVG, and CSS': ['Chapter',\n",
       "  '2',\n",
       "  'A',\n",
       "  'Primer',\n",
       "  'on',\n",
       "  'DOM',\n",
       "  'SVG',\n",
       "  'and',\n",
       "  'CSS',\n",
       "  'Chapter 2',\n",
       "  '2 A',\n",
       "  'A Primer',\n",
       "  'Primer on',\n",
       "  'on DOM',\n",
       "  'DOM SVG',\n",
       "  'SVG and',\n",
       "  'and CSS',\n",
       "  'Chapter 2 A',\n",
       "  '2 A Primer',\n",
       "  'A Primer on',\n",
       "  'Primer on DOM',\n",
       "  'on DOM SVG',\n",
       "  'DOM SVG and',\n",
       "  'SVG and CSS',\n",
       "  'Chapter 2 A Primer',\n",
       "  '2 A Primer on',\n",
       "  'A Primer on DOM',\n",
       "  'Primer on DOM SVG',\n",
       "  'on DOM SVG and',\n",
       "  'DOM SVG and CSS',\n",
       "  'Chapter 2 A Primer on',\n",
       "  '2 A Primer on DOM',\n",
       "  'A Primer on DOM SVG',\n",
       "  'Primer on DOM SVG and',\n",
       "  'on DOM SVG and CSS',\n",
       "  'Chapter 2 A Primer on DOM',\n",
       "  '2 A Primer on DOM SVG',\n",
       "  'A Primer on DOM SVG and',\n",
       "  'Primer on DOM SVG and CSS',\n",
       "  'Chapter 2 A Primer on DOM SVG',\n",
       "  '2 A Primer on DOM SVG and',\n",
       "  'A Primer on DOM SVG and CSS',\n",
       "  'Chapter 2 A Primer on DOM SVG and',\n",
       "  '2 A Primer on DOM SVG and CSS',\n",
       "  'Chapter 2 A Primer on DOM SVG and CSS'],\n",
       " 'Chapter 3: Making Data Useful': ['Chapter',\n",
       "  '3',\n",
       "  'Making',\n",
       "  'Data',\n",
       "  'Useful',\n",
       "  'Chapter 3',\n",
       "  '3 Making',\n",
       "  'Making Data',\n",
       "  'Data Useful',\n",
       "  'Chapter 3 Making',\n",
       "  '3 Making Data',\n",
       "  'Making Data Useful',\n",
       "  'Chapter 3 Making Data',\n",
       "  '3 Making Data Useful',\n",
       "  'Chapter 3 Making Data Useful'],\n",
       " 'Chapter 4: Making Things Move': ['Chapter',\n",
       "  '4',\n",
       "  'Making',\n",
       "  'Things',\n",
       "  'Move',\n",
       "  'Chapter 4',\n",
       "  '4 Making',\n",
       "  'Making Things',\n",
       "  'Things Move',\n",
       "  'Chapter 4 Making',\n",
       "  '4 Making Things',\n",
       "  'Making Things Move',\n",
       "  'Chapter 4 Making Things',\n",
       "  '4 Making Things Move',\n",
       "  'Chapter 4 Making Things Move'],\n",
       " \"Chapter 5: Layouts – d3's Black Magic\": ['Chapter',\n",
       "  '5',\n",
       "  'Layouts',\n",
       "  'd3',\n",
       "  \"'s\",\n",
       "  'Black',\n",
       "  'Magic',\n",
       "  'Chapter 5',\n",
       "  '5 Layouts',\n",
       "  'Layouts d3',\n",
       "  \"d3 's\",\n",
       "  \"'s Black\",\n",
       "  'Black Magic',\n",
       "  'Chapter 5 Layouts',\n",
       "  '5 Layouts d3',\n",
       "  \"Layouts d3 's\",\n",
       "  \"d3 's Black\",\n",
       "  \"'s Black Magic\",\n",
       "  'Chapter 5 Layouts d3',\n",
       "  \"5 Layouts d3 's\",\n",
       "  \"Layouts d3 's Black\",\n",
       "  \"d3 's Black Magic\",\n",
       "  \"Chapter 5 Layouts d3 's\",\n",
       "  \"5 Layouts d3 's Black\",\n",
       "  \"Layouts d3 's Black Magic\",\n",
       "  \"Chapter 5 Layouts d3 's Black\",\n",
       "  \"5 Layouts d3 's Black Magic\",\n",
       "  \"Chapter 5 Layouts d3 's Black Magic\"],\n",
       " 'Chapter 6: Designing Good Visualizations': ['Chapter',\n",
       "  '6',\n",
       "  'Designing',\n",
       "  'Good',\n",
       "  'Visualizations',\n",
       "  'Chapter 6',\n",
       "  '6 Designing',\n",
       "  'Designing Good',\n",
       "  'Good Visualizations',\n",
       "  'Chapter 6 Designing',\n",
       "  '6 Designing Good',\n",
       "  'Designing Good Visualizations',\n",
       "  'Chapter 6 Designing Good',\n",
       "  '6 Designing Good Visualizations',\n",
       "  'Chapter 6 Designing Good Visualizations'],\n",
       " 'DOM': ['DOM'],\n",
       " 'Data Visualization with d3.js': ['Data',\n",
       "  'Visualization',\n",
       "  'with',\n",
       "  'd3.js',\n",
       "  'Data Visualization',\n",
       "  'Visualization with',\n",
       "  'with d3.js',\n",
       "  'Data Visualization with',\n",
       "  'Visualization with d3.js',\n",
       "  'Data Visualization with d3.js'],\n",
       " 'Geography': ['Geography'],\n",
       " 'Interacting with the user': ['Interacting',\n",
       "  'with',\n",
       "  'the',\n",
       "  'user',\n",
       "  'Interacting with',\n",
       "  'with the',\n",
       "  'the user',\n",
       "  'Interacting with the',\n",
       "  'with the user',\n",
       "  'Interacting with the user'],\n",
       " 'Loading data': ['Loading', 'data', 'Loading data'],\n",
       " 'SVG': ['SVG'],\n",
       " 'Scales': ['Scales'],\n",
       " 'Setting up a play environment': ['Setting',\n",
       "  'up',\n",
       "  'a',\n",
       "  'play',\n",
       "  'environment',\n",
       "  'Setting up',\n",
       "  'up a',\n",
       "  'a play',\n",
       "  'play environment',\n",
       "  'Setting up a',\n",
       "  'up a play',\n",
       "  'a play environment',\n",
       "  'Setting up a play',\n",
       "  'up a play environment',\n",
       "  'Setting up a play environment'],\n",
       " 'Some great examples': ['Some',\n",
       "  'great',\n",
       "  'examples',\n",
       "  'Some great',\n",
       "  'great examples',\n",
       "  'Some great examples'],\n",
       " 'Summary': ['Summary'],\n",
       " 'Thinking about data functionally': ['Thinking',\n",
       "  'about',\n",
       "  'data',\n",
       "  'functionally',\n",
       "  'Thinking about',\n",
       "  'about data',\n",
       "  'data functionally',\n",
       "  'Thinking about data',\n",
       "  'about data functionally',\n",
       "  'Thinking about data functionally'],\n",
       " 'Time': ['Time'],\n",
       " 'What are layouts and why should you care': ['What',\n",
       "  'are',\n",
       "  'layouts',\n",
       "  'and',\n",
       "  'why',\n",
       "  'should',\n",
       "  'you',\n",
       "  'care',\n",
       "  'What are',\n",
       "  'are layouts',\n",
       "  'layouts and',\n",
       "  'and why',\n",
       "  'why should',\n",
       "  'should you',\n",
       "  'you care',\n",
       "  'What are layouts',\n",
       "  'are layouts and',\n",
       "  'layouts and why',\n",
       "  'and why should',\n",
       "  'why should you',\n",
       "  'should you care',\n",
       "  'What are layouts and',\n",
       "  'are layouts and why',\n",
       "  'layouts and why should',\n",
       "  'and why should you',\n",
       "  'why should you care',\n",
       "  'What are layouts and why',\n",
       "  'are layouts and why should',\n",
       "  'layouts and why should you',\n",
       "  'and why should you care',\n",
       "  'What are layouts and why should',\n",
       "  'are layouts and why should you',\n",
       "  'layouts and why should you care',\n",
       "  'What are layouts and why should you',\n",
       "  'are layouts and why should you care',\n",
       "  'What are layouts and why should you care'],\n",
       " 'What is a visualization?': ['What',\n",
       "  'is',\n",
       "  'a',\n",
       "  'visualization',\n",
       "  'What is',\n",
       "  'is a',\n",
       "  'a visualization',\n",
       "  'What is a',\n",
       "  'is a visualization',\n",
       "  'What is a visualization'],\n",
       " 'What is d3.js?': ['What',\n",
       "  'is',\n",
       "  'd3.js',\n",
       "  'What is',\n",
       "  'is d3.js',\n",
       "  'What is d3.js']}"
      ]
     },
     "execution_count": 8,
     "metadata": {},
     "output_type": "execute_result"
    }
   ],
   "source": [
    "content_ngrams_dict = dict()\n",
    "for lc in unrolled_lc:\n",
    "    if lc.title not in content_ngrams_dict:\n",
    "        content_ngrams_dict[lc.title] = get_ngrams(lc.title)\n",
    "    \n",
    "content_ngrams_dict"
   ]
  },
  {
   "cell_type": "markdown",
   "metadata": {},
   "source": [
    "### 3. Get a set of all ngram generated"
   ]
  },
  {
   "cell_type": "code",
   "execution_count": 9,
   "metadata": {},
   "outputs": [
    {
     "data": {
      "text/plain": [
       "{\"'s\",\n",
       " \"'s Black\",\n",
       " \"'s Black Magic\",\n",
       " '1',\n",
       " '1 Getting',\n",
       " '1 Getting Started',\n",
       " '1 Getting Started with',\n",
       " '1 Getting Started with d3.js',\n",
       " '2',\n",
       " '2 A',\n",
       " '2 A Primer',\n",
       " '2 A Primer on',\n",
       " '2 A Primer on DOM',\n",
       " '2 A Primer on DOM SVG',\n",
       " '2 A Primer on DOM SVG and',\n",
       " '2 A Primer on DOM SVG and CSS',\n",
       " '3',\n",
       " '3 Making',\n",
       " '3 Making Data',\n",
       " '3 Making Data Useful',\n",
       " '4',\n",
       " '4 Making',\n",
       " '4 Making Things',\n",
       " '4 Making Things Move',\n",
       " '5',\n",
       " '5 Layouts',\n",
       " '5 Layouts d3',\n",
       " \"5 Layouts d3 's\",\n",
       " \"5 Layouts d3 's Black\",\n",
       " \"5 Layouts d3 's Black Magic\",\n",
       " '6',\n",
       " '6 Designing',\n",
       " '6 Designing Good',\n",
       " '6 Designing Good Visualizations',\n",
       " 'A',\n",
       " 'A Primer',\n",
       " 'A Primer on',\n",
       " 'A Primer on DOM',\n",
       " 'A Primer on DOM SVG',\n",
       " 'A Primer on DOM SVG and',\n",
       " 'A Primer on DOM SVG and CSS',\n",
       " 'A simple',\n",
       " 'A simple histogram',\n",
       " 'Animating',\n",
       " 'Animating with',\n",
       " 'Animating with transitions',\n",
       " 'Black',\n",
       " 'Black Magic',\n",
       " 'CSS',\n",
       " 'Chapter',\n",
       " 'Chapter 1',\n",
       " 'Chapter 1 Getting',\n",
       " 'Chapter 1 Getting Started',\n",
       " 'Chapter 1 Getting Started with',\n",
       " 'Chapter 1 Getting Started with d3.js',\n",
       " 'Chapter 2',\n",
       " 'Chapter 2 A',\n",
       " 'Chapter 2 A Primer',\n",
       " 'Chapter 2 A Primer on',\n",
       " 'Chapter 2 A Primer on DOM',\n",
       " 'Chapter 2 A Primer on DOM SVG',\n",
       " 'Chapter 2 A Primer on DOM SVG and',\n",
       " 'Chapter 2 A Primer on DOM SVG and CSS',\n",
       " 'Chapter 3',\n",
       " 'Chapter 3 Making',\n",
       " 'Chapter 3 Making Data',\n",
       " 'Chapter 3 Making Data Useful',\n",
       " 'Chapter 4',\n",
       " 'Chapter 4 Making',\n",
       " 'Chapter 4 Making Things',\n",
       " 'Chapter 4 Making Things Move',\n",
       " 'Chapter 5',\n",
       " 'Chapter 5 Layouts',\n",
       " 'Chapter 5 Layouts d3',\n",
       " \"Chapter 5 Layouts d3 's\",\n",
       " \"Chapter 5 Layouts d3 's Black\",\n",
       " \"Chapter 5 Layouts d3 's Black Magic\",\n",
       " 'Chapter 6',\n",
       " 'Chapter 6 Designing',\n",
       " 'Chapter 6 Designing Good',\n",
       " 'Chapter 6 Designing Good Visualizations',\n",
       " 'DOM',\n",
       " 'DOM SVG',\n",
       " 'DOM SVG and',\n",
       " 'DOM SVG and CSS',\n",
       " 'Data',\n",
       " 'Data Useful',\n",
       " 'Data Visualization',\n",
       " 'Data Visualization with',\n",
       " 'Data Visualization with d3.js',\n",
       " 'Designing',\n",
       " 'Designing Good',\n",
       " 'Designing Good Visualizations',\n",
       " 'Geography',\n",
       " 'Getting',\n",
       " 'Getting Started',\n",
       " 'Getting Started with',\n",
       " 'Getting Started with d3.js',\n",
       " 'Good',\n",
       " 'Good Visualizations',\n",
       " 'Interacting',\n",
       " 'Interacting with',\n",
       " 'Interacting with the',\n",
       " 'Interacting with the user',\n",
       " 'Layouts',\n",
       " 'Layouts d3',\n",
       " \"Layouts d3 's\",\n",
       " \"Layouts d3 's Black\",\n",
       " \"Layouts d3 's Black Magic\",\n",
       " 'Loading',\n",
       " 'Loading data',\n",
       " 'Magic',\n",
       " 'Making',\n",
       " 'Making Data',\n",
       " 'Making Data Useful',\n",
       " 'Making Things',\n",
       " 'Making Things Move',\n",
       " 'Move',\n",
       " 'Primer',\n",
       " 'Primer on',\n",
       " 'Primer on DOM',\n",
       " 'Primer on DOM SVG',\n",
       " 'Primer on DOM SVG and',\n",
       " 'Primer on DOM SVG and CSS',\n",
       " 'SVG',\n",
       " 'SVG and',\n",
       " 'SVG and CSS',\n",
       " 'Scales',\n",
       " 'Setting',\n",
       " 'Setting up',\n",
       " 'Setting up a',\n",
       " 'Setting up a play',\n",
       " 'Setting up a play environment',\n",
       " 'Some',\n",
       " 'Some great',\n",
       " 'Some great examples',\n",
       " 'Started',\n",
       " 'Started with',\n",
       " 'Started with d3.js',\n",
       " 'Summary',\n",
       " 'Things',\n",
       " 'Things Move',\n",
       " 'Thinking',\n",
       " 'Thinking about',\n",
       " 'Thinking about data',\n",
       " 'Thinking about data functionally',\n",
       " 'Time',\n",
       " 'Useful',\n",
       " 'Visualization',\n",
       " 'Visualization with',\n",
       " 'Visualization with d3.js',\n",
       " 'Visualizations',\n",
       " 'What',\n",
       " 'What are',\n",
       " 'What are layouts',\n",
       " 'What are layouts and',\n",
       " 'What are layouts and why',\n",
       " 'What are layouts and why should',\n",
       " 'What are layouts and why should you',\n",
       " 'What are layouts and why should you care',\n",
       " 'What is',\n",
       " 'What is a',\n",
       " 'What is a visualization',\n",
       " 'What is d3.js',\n",
       " 'a',\n",
       " 'a play',\n",
       " 'a play environment',\n",
       " 'a visualization',\n",
       " 'about',\n",
       " 'about data',\n",
       " 'about data functionally',\n",
       " 'and',\n",
       " 'and CSS',\n",
       " 'and why',\n",
       " 'and why should',\n",
       " 'and why should you',\n",
       " 'and why should you care',\n",
       " 'are',\n",
       " 'are layouts',\n",
       " 'are layouts and',\n",
       " 'are layouts and why',\n",
       " 'are layouts and why should',\n",
       " 'are layouts and why should you',\n",
       " 'are layouts and why should you care',\n",
       " 'care',\n",
       " 'd3',\n",
       " \"d3 's\",\n",
       " \"d3 's Black\",\n",
       " \"d3 's Black Magic\",\n",
       " 'd3.js',\n",
       " 'data',\n",
       " 'data functionally',\n",
       " 'environment',\n",
       " 'examples',\n",
       " 'functionally',\n",
       " 'great',\n",
       " 'great examples',\n",
       " 'histogram',\n",
       " 'is',\n",
       " 'is a',\n",
       " 'is a visualization',\n",
       " 'is d3.js',\n",
       " 'layouts',\n",
       " 'layouts and',\n",
       " 'layouts and why',\n",
       " 'layouts and why should',\n",
       " 'layouts and why should you',\n",
       " 'layouts and why should you care',\n",
       " 'on',\n",
       " 'on DOM',\n",
       " 'on DOM SVG',\n",
       " 'on DOM SVG and',\n",
       " 'on DOM SVG and CSS',\n",
       " 'play',\n",
       " 'play environment',\n",
       " 'should',\n",
       " 'should you',\n",
       " 'should you care',\n",
       " 'simple',\n",
       " 'simple histogram',\n",
       " 'the',\n",
       " 'the user',\n",
       " 'transitions',\n",
       " 'up',\n",
       " 'up a',\n",
       " 'up a play',\n",
       " 'up a play environment',\n",
       " 'user',\n",
       " 'visualization',\n",
       " 'why',\n",
       " 'why should',\n",
       " 'why should you',\n",
       " 'why should you care',\n",
       " 'with',\n",
       " 'with d3.js',\n",
       " 'with the',\n",
       " 'with the user',\n",
       " 'with transitions',\n",
       " 'you',\n",
       " 'you care'}"
      ]
     },
     "execution_count": 9,
     "metadata": {},
     "output_type": "execute_result"
    }
   ],
   "source": [
    "ngrams_list = list()\n",
    "for ngrams in content_ngrams_dict.values():\n",
    "    ngrams_list += ngrams\n",
    "ngrams_set = set(ngrams_list)\n",
    "ngrams_set"
   ]
  },
  {
   "cell_type": "markdown",
   "metadata": {},
   "source": [
    "### 4. Try to get a wikipedia article for each ngram"
   ]
  },
  {
   "cell_type": "code",
   "execution_count": 10,
   "metadata": {
    "collapsed": true
   },
   "outputs": [],
   "source": [
    "def get_text_article_candidates(text):\n",
    "    \"\"\"Get the wikiarticles candidates to describe a piece of text.\"\"\"\n",
    "    \n",
    "    candidates = list()\n",
    "    \n",
    "    for ngram_text in get_ngrams(text):\n",
    "        try:\n",
    "            art, _ = wdb.get_article_by_href(url.UnquotedURL(ngram_text))\n",
    "            candidates.append(art)\n",
    "            #print(ngram_text, \" -> \", art.title())\n",
    "        except:\n",
    "            continue\n",
    "            #print(\"Not found: \", ngram_text)\n",
    "    return candidates"
   ]
  },
  {
   "cell_type": "code",
   "execution_count": 11,
   "metadata": {},
   "outputs": [
    {
     "name": "stdout",
     "output_type": "stream",
     "text": [
      "Wall time: 20.5 s\n",
      "Wall time: 2.12 s\n"
     ]
    },
    {
     "data": {
      "text/plain": [
       "{\"'s\": 's,\n",
       " '1': 1,\n",
       " '2': 2,\n",
       " '2 A': 2A,\n",
       " '3': 3,\n",
       " '4': 4,\n",
       " '5': 5,\n",
       " '6': 6,\n",
       " 'A': A,\n",
       " 'Animating': Animation,\n",
       " 'Black': Black,\n",
       " 'Black Magic': Black magic,\n",
       " 'CSS': Cascading Style Sheets,\n",
       " 'Chapter': Chapter,\n",
       " 'Chapter 1': Chapter One,\n",
       " 'Chapter 2': Chapter Two,\n",
       " 'Chapter 3': Chapter Three,\n",
       " 'Chapter 4': Chapter Four,\n",
       " 'Chapter 5': Chapter Five,\n",
       " 'Chapter 6': Chapter Six,\n",
       " 'DOM': Dom,\n",
       " 'Data': Data,\n",
       " 'Data Visualization': Data visualization,\n",
       " 'Designing': Design,\n",
       " 'Geography': Geography,\n",
       " 'Getting': Receiving,\n",
       " 'Getting Started': Getting Started,\n",
       " 'Good': Good,\n",
       " 'Interacting': Interaction,\n",
       " 'Layouts': Layout,\n",
       " 'Loading': Loading,\n",
       " 'Magic': Magic,\n",
       " 'Making': Making,\n",
       " 'Move': Move,\n",
       " 'Primer': Primer,\n",
       " 'SVG': Scalable Vector Graphics,\n",
       " 'Scales': Scale,\n",
       " 'Setting': Setting,\n",
       " 'Some': Some,\n",
       " 'Summary': Summary,\n",
       " 'Things': The Things,\n",
       " 'Thinking': Thought,\n",
       " 'Time': Time,\n",
       " 'Useful': Utility,\n",
       " 'Visualization': Visualization,\n",
       " 'What': What,\n",
       " 'a': A,\n",
       " 'about': About,\n",
       " 'and': And,\n",
       " 'are': ARE,\n",
       " 'care': Care,\n",
       " 'd3': D3,\n",
       " 'd3.js': D3.js,\n",
       " 'data': Data,\n",
       " 'environment': Environment,\n",
       " 'examples': Example,\n",
       " 'great': Great,\n",
       " 'histogram': Histogram,\n",
       " 'is': IS,\n",
       " 'is a': Is-a,\n",
       " 'layouts': Layout,\n",
       " 'on': On,\n",
       " 'play': Play,\n",
       " 'should': English modal verbs,\n",
       " 'simple': Simple,\n",
       " 'the': The,\n",
       " 'transitions': Transition,\n",
       " 'up': Up,\n",
       " 'user': User,\n",
       " 'visualization': Visualization,\n",
       " 'why': Why,\n",
       " 'with': With,\n",
       " 'you': You}"
      ]
     },
     "execution_count": 11,
     "metadata": {},
     "output_type": "execute_result"
    }
   ],
   "source": [
    "wiki_articles = dict()\n",
    "def get_wiki_article(href):\n",
    "    try:\n",
    "        art, _ = wdb.get_article_by_href(url.UnquotedURL(href))\n",
    "        wiki_articles[href] = art\n",
    "    except:\n",
    "        pass\n",
    "    \n",
    "\n",
    "pool = ThreadPool(10)\n",
    "%time pool.map(get_wiki_article, ngrams_set)\n",
    "%time pool.wait_completion()\n",
    "del pool\n",
    "wdb.save()\n",
    "wiki_articles"
   ]
  },
  {
   "cell_type": "markdown",
   "metadata": {},
   "source": [
    "### 5. Construct graph of candidate articles and links"
   ]
  },
  {
   "cell_type": "code",
   "execution_count": 18,
   "metadata": {
    "collapsed": true
   },
   "outputs": [],
   "source": [
    "def get_wikipedia_page_url(title):\n",
    "    return urllib.parse.quote(title.replace(\" \", \"_\"))\n",
    "#get_wikipedia_page_url(\"lucas vieira c++\")"
   ]
  },
  {
   "cell_type": "code",
   "execution_count": 21,
   "metadata": {
    "collapsed": true
   },
   "outputs": [],
   "source": [
    "#Get the disambiguation articles link and put them into a dict mapping from links to ngram that it represents\n",
    "disamb_articles = dict()\n",
    "\n",
    "for ngram, article in wiki_articles.items():\n",
    "    if not article._is_disamb_page:\n",
    "        continue\n",
    "        \n",
    "    for link_href, link_text in article.links():\n",
    "        disamb_articles[link_href] = ngram"
   ]
  },
  {
   "cell_type": "code",
   "execution_count": 25,
   "metadata": {},
   "outputs": [],
   "source": [
    "#Get nodes allowed to be at the graph\n",
    "#Those are the articles candidates and the disambiguation links\n",
    "allowed_nodes = list(disamb_articles.keys())\n",
    "\n",
    "for cand in wiki_articles.values():\n",
    "    if not cand._is_disamb_page:\n",
    "        allowed_nodes.append(get_wikipedia_page_url(cand.title())) "
   ]
  },
  {
   "cell_type": "code",
   "execution_count": 26,
   "metadata": {},
   "outputs": [],
   "source": [
    "#Create graph\n",
    "graph = nx.DiGraph()\n",
    "\n",
    "for candidate in wiki_articles.values():\n",
    "    if candidate._is_disamb_page:\n",
    "        continue\n",
    "    \n",
    "    cand_url = get_wikipedia_page_url(candidate.title())\n",
    "    for link_href, link_text in candidate.links():\n",
    "        if link_href in allowed_nodes:\n",
    "            graph.add_edge(cand_url, link_href)"
   ]
  },
  {
   "cell_type": "code",
   "execution_count": 31,
   "metadata": {},
   "outputs": [],
   "source": [
    "#list(nx.weakly_connected_components(graph))"
   ]
  },
  {
   "cell_type": "code",
   "execution_count": null,
   "metadata": {
    "collapsed": true
   },
   "outputs": [],
   "source": [
    "keep working on handling desambiguation pages\n",
    "then elect nodes that will be used\n",
    "and elect nodes for each learn content part"
   ]
  },
  {
   "cell_type": "code",
   "execution_count": null,
   "metadata": {
    "collapsed": true
   },
   "outputs": [],
   "source": []
  },
  {
   "cell_type": "code",
   "execution_count": null,
   "metadata": {
    "collapsed": true
   },
   "outputs": [],
   "source": []
  },
  {
   "cell_type": "code",
   "execution_count": null,
   "metadata": {
    "collapsed": true
   },
   "outputs": [],
   "source": []
  },
  {
   "cell_type": "code",
   "execution_count": null,
   "metadata": {
    "collapsed": true
   },
   "outputs": [],
   "source": []
  },
  {
   "cell_type": "code",
   "execution_count": null,
   "metadata": {},
   "outputs": [],
   "source": [
    "graph.edges()"
   ]
  },
  {
   "cell_type": "code",
   "execution_count": 25,
   "metadata": {},
   "outputs": [
    {
     "name": "stdout",
     "output_type": "stream",
     "text": [
      "Working on 1/29\n",
      "Working on 2/29\n",
      "Working on 3/29\n",
      "Working on 4/29\n",
      "Working on 5/29\n",
      "Working on 6/29\n",
      "Working on 7/29\n",
      "Working on 8/29\n",
      "Working on 9/29\n",
      "Working on 10/29\n",
      "Working on 11/29\n",
      "Working on 12/29\n",
      "Working on 13/29\n",
      "Working on 14/29\n",
      "Working on 15/29\n",
      "Working on 16/29\n",
      "Working on 17/29\n",
      "Working on 18/29\n",
      "Working on 19/29\n",
      "Working on 20/29\n",
      "Working on 21/29\n",
      "Working on 22/29\n",
      "Working on 23/29\n",
      "Working on 24/29\n",
      "Working on 25/29\n",
      "Working on 26/29\n",
      "Working on 27/29\n",
      "Working on 28/29\n",
      "Working on 29/29\n"
     ]
    }
   ],
   "source": [
    "lc_contents = unroll_lc_contents(ld[0])\n",
    "candidates = list()\n",
    "for i, lc in enumerate(lc_contents):\n",
    "    print(\"Working on {}/{}\".format(i+1, len(lc_contents)))\n",
    "    candidates += get_text_article_candidates(lc.title)\n",
    "    \n",
    "wdb.save()"
   ]
  },
  {
   "cell_type": "code",
   "execution_count": 60,
   "metadata": {},
   "outputs": [],
   "source": [
    "#candidates"
   ]
  },
  {
   "cell_type": "code",
   "execution_count": 48,
   "metadata": {},
   "outputs": [],
   "source": [
    "#Generate graph\n",
    "graph = nx.DiGraph()\n",
    "\n",
    "candidates_urls = [get_wikipedia_page_url(cand.title()) for cand in candidates]\n",
    "\n",
    "for cand_url, candidate in zip(candidates_urls, candidates):\n",
    "    for link_href, link_text in candidate.links():\n",
    "        if link_href in candidates_urls:\n",
    "            graph.add_edge(cand_url, link_href)"
   ]
  },
  {
   "cell_type": "code",
   "execution_count": 61,
   "metadata": {},
   "outputs": [
    {
     "name": "stdout",
     "output_type": "stream",
     "text": [
      "Data Visualization with d3.js\n",
      "\t Chapter 1: Getting Started with d3.js\n",
      "\t\t What is d3.js?\n",
      "\t\t Setting up a play environment\n",
      "\t\t A simple histogram\n",
      "\t\t Summary\n",
      "\t Chapter 2: A Primer on DOM, SVG, and CSS\n",
      "\t\t DOM\n",
      "\t\t SVG\n",
      "\t\t CSS\n",
      "\t\t Summary\n",
      "\t Chapter 3: Making Data Useful\n",
      "\t\t Thinking about data functionally\n",
      "\t\t Loading data\n",
      "\t\t Scales\n",
      "\t\t Time\n",
      "\t\t Geography\n",
      "\t\t Summary\n",
      "\t Chapter 4: Making Things Move\n",
      "\t\t Animating with transitions\n",
      "\t\t Interacting with the user\n",
      "\t\t Summary\n",
      "\t Chapter 5: Layouts – d3's Black Magic\n",
      "\t\t What are layouts and why should you care\n",
      "\t\t Summary\n",
      "\t Chapter 6: Designing Good Visualizations\n",
      "\t\t What is a visualization?\n",
      "\t\t Some great examples\n",
      "\t\t Summary\n"
     ]
    }
   ],
   "source": [
    "print_lc_content(ld[0])"
   ]
  },
  {
   "cell_type": "code",
   "execution_count": 85,
   "metadata": {},
   "outputs": [],
   "source": [
    "#sorted(candidates[4].links())"
   ]
  },
  {
   "cell_type": "code",
   "execution_count": 86,
   "metadata": {},
   "outputs": [],
   "source": [
    "#graph.edges()"
   ]
  },
  {
   "cell_type": "code",
   "execution_count": 90,
   "metadata": {},
   "outputs": [
    {
     "data": {
      "text/plain": [
       "[{'1',\n",
       "  '2',\n",
       "  '3',\n",
       "  '4',\n",
       "  '5',\n",
       "  '6',\n",
       "  'Animation',\n",
       "  'Cascading_Style_Sheets',\n",
       "  'D3',\n",
       "  'D3.js',\n",
       "  'Data',\n",
       "  'Data_visualization',\n",
       "  'Histogram',\n",
       "  'Scalable_Vector_Graphics',\n",
       "  'Time',\n",
       "  'Visualization'},\n",
       " {'Black', 'Black_magic', 'Geography', 'Interaction'},\n",
       " {'The', 'You'},\n",
       " {'Design', 'Thought'},\n",
       " {'Good', 'Utility'}]"
      ]
     },
     "execution_count": 90,
     "metadata": {},
     "output_type": "execute_result"
    }
   ],
   "source": [
    "list(nx.weakly_connected_components(graph))"
   ]
  },
  {
   "cell_type": "code",
   "execution_count": 77,
   "metadata": {},
   "outputs": [
    {
     "name": "stdout",
     "output_type": "stream",
     "text": [
      "D3 0\n",
      "4 2\n",
      "Visualization 0\n",
      "6 1\n",
      "Time 1\n",
      "5 2\n",
      "1 1\n",
      "Histogram 1\n",
      "2 1\n",
      "D3.js 2\n",
      "Animation 1\n",
      "Data 2\n",
      "3 3\n",
      "Cascading_Style_Sheets 2\n",
      "Data_visualization 3\n",
      "Scalable_Vector_Graphics 2\n"
     ]
    }
   ],
   "source": [
    "for node_name in list(nx.weakly_connected_components(graph))[0]:\n",
    "    print(node_name, len(graph.in_edges(node_name)))"
   ]
  },
  {
   "cell_type": "code",
   "execution_count": 87,
   "metadata": {},
   "outputs": [],
   "source": [
    "#graph['D3.js']"
   ]
  },
  {
   "cell_type": "code",
   "execution_count": 88,
   "metadata": {},
   "outputs": [],
   "source": [
    "#graph.edges()"
   ]
  },
  {
   "cell_type": "code",
   "execution_count": 47,
   "metadata": {},
   "outputs": [],
   "source": [
    "#sorted(nx.in_degree_centrality(graph).items(), key=lambda a:a[1], reverse=True)"
   ]
  },
  {
   "cell_type": "code",
   "execution_count": 112,
   "metadata": {},
   "outputs": [],
   "source": [
    "import requests\n",
    "\n",
    "def _download_page_data(page, lang, timeout):\n",
    "    \"\"\"Function to retrieve a wikipedia page in html form, with its sections\"\"\"\n",
    "    #import exceptions\n",
    "\n",
    "    #assert isinstance(page, URL)\n",
    "\n",
    "    # https://en.wikipedia.org/w/api.php?action=parse&redirects&page=fluid_mechanics\n",
    "\n",
    "    req_params = [\n",
    "        'action=parse',\n",
    "        'redirects',\n",
    "        'format=json',\n",
    "        'prop=text|displaytitle|categories',\n",
    "        'page=' + page\n",
    "    ]\n",
    "\n",
    "    wikipedia_api_url = \"https://\" + lang + \".wikipedia.org/w/api.php?\" + \"&\".join(req_params)\n",
    "\n",
    "    try:\n",
    "        page_data = requests.get(wikipedia_api_url, timeout=timeout).json()\n",
    "    except requests.exceptions.ConnectTimeout:\n",
    "        raise exceptions.PageRequestTimeout(page, lang, timeout)\n",
    "\n",
    "    #If the object parse is not in the json object, page does not exists\n",
    "    if not 'parse' in page_data:\n",
    "        raise exceptions.PageDoesNotExists(page, lang)\n",
    "\n",
    "    page_title = page_data['parse']['title']\n",
    "    page_id = page_data['parse']['pageid']\n",
    "    page_html = page_data['parse']['text']['*']\n",
    "\n",
    "    #return page, page_title, page_id, page_html\n",
    "    return page_data"
   ]
  },
  {
   "cell_type": "code",
   "execution_count": 129,
   "metadata": {},
   "outputs": [],
   "source": [
    "a = _download_page_data(\"mqtt\", \"en\", 60)['parse']['categories']"
   ]
  },
  {
   "cell_type": "code",
   "execution_count": 130,
   "metadata": {},
   "outputs": [
    {
     "data": {
      "text/plain": [
       "[{'*': 'CS1_maint:_Multiple_names:_authors_list', 'hidden': '', 'sortkey': ''},\n",
       " {'*': 'Application_layer_protocols', 'sortkey': ''},\n",
       " {'*': 'Data_transmission', 'sortkey': ''},\n",
       " {'*': 'IBM_WebSphere', 'sortkey': 'MQ'},\n",
       " {'*': 'Message-oriented_middleware', 'sortkey': ''},\n",
       " {'*': 'Network_protocols', 'sortkey': ''},\n",
       " {'*': 'Telemetry', 'sortkey': ''}]"
      ]
     },
     "execution_count": 130,
     "metadata": {},
     "output_type": "execute_result"
    }
   ],
   "source": [
    "a"
   ]
  },
  {
   "cell_type": "code",
   "execution_count": 131,
   "metadata": {},
   "outputs": [],
   "source": [
    "def is_disambiguation_page(categories):\n",
    "    for cat in categories:\n",
    "        if cat['*'] == 'Disambiguation_pages':\n",
    "            return True\n",
    "    return False"
   ]
  },
  {
   "cell_type": "code",
   "execution_count": 132,
   "metadata": {},
   "outputs": [
    {
     "data": {
      "text/plain": [
       "False"
      ]
     },
     "execution_count": 132,
     "metadata": {},
     "output_type": "execute_result"
    }
   ],
   "source": [
    "is_disambiguation_page(a)"
   ]
  },
  {
   "cell_type": "code",
   "execution_count": 91,
   "metadata": {},
   "outputs": [
    {
     "ename": "SyntaxError",
     "evalue": "invalid syntax (<ipython-input-91-4f244b6b473b>, line 1)",
     "output_type": "error",
     "traceback": [
      "\u001b[1;36m  File \u001b[1;32m\"<ipython-input-91-4f244b6b473b>\"\u001b[1;36m, line \u001b[1;32m1\u001b[0m\n\u001b[1;33m    we need to check how to handle disambiguation pages such\u001b[0m\n\u001b[1;37m          ^\u001b[0m\n\u001b[1;31mSyntaxError\u001b[0m\u001b[1;31m:\u001b[0m invalid syntax\n"
     ]
    }
   ],
   "source": [
    "we need to check how to handle disambiguation pages such\n",
    "https://en.wikipedia.org/wiki/Dom\n",
    "we could first compare the links that the page return and check if it matches the graph, if so, get the\n",
    "N more matched article links"
   ]
  },
  {
   "cell_type": "code",
   "execution_count": null,
   "metadata": {
    "collapsed": true
   },
   "outputs": [],
   "source": []
  }
 ],
 "metadata": {
  "kernelspec": {
   "display_name": "Python 3",
   "language": "python",
   "name": "python3"
  },
  "language_info": {
   "codemirror_mode": {
    "name": "ipython",
    "version": 3
   },
   "file_extension": ".py",
   "mimetype": "text/x-python",
   "name": "python",
   "nbconvert_exporter": "python",
   "pygments_lexer": "ipython3",
   "version": "3.5.3"
  }
 },
 "nbformat": 4,
 "nbformat_minor": 2
}
